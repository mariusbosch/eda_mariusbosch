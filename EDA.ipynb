{
 "cells": [
  {
   "cell_type": "markdown",
   "metadata": {},
   "source": [
    "# EDA\n",
    "\n",
    "![](data:image/jpeg;base64,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)"
   ]
  },
  {
   "cell_type": "markdown",
   "metadata": {},
   "source": [
    "## Jennifer Montgomery\n",
    "### High budget, wants to show off, timing within a month, waterfront, renovated, high grades, resell within 1 year"
   ]
  },
  {
   "cell_type": "markdown",
   "metadata": {},
   "source": [
    "# Initial considerations:\n",
    "\n",
    "* What means high budget? --> over 3rd quartile\n",
    "* What means show off? --> sqm lot largest vs sqm lot15, condition top\n",
    "* What to do with timing?\n",
    "* Waterfront = 1\n",
    "* Renovated = 1\n",
    "* What are high grades?\n",
    "* What means reselling within a year?"
   ]
  },
  {
   "cell_type": "code",
   "execution_count": 160,
   "metadata": {},
   "outputs": [],
   "source": [
    "import warnings\n",
    "\n",
    "warnings.filterwarnings(\"ignore\")\n",
    "\n",
    "import pandas as pd\n",
    "import numpy as np\n",
    "import matplotlib.pyplot as plt\n",
    "import seaborn as sns\n",
    "import plotly.express as px\n",
    "\n",
    "\n",
    "from matplotlib.ticker import PercentFormatter\n",
    "plt.rcParams.update({ \"figure.figsize\" : (8, 5),\"axes.facecolor\" : \"white\", \"axes.edgecolor\":  \"black\"})\n",
    "plt.rcParams[\"figure.facecolor\"]= \"w\"\n",
    "pd.plotting.register_matplotlib_converters()\n",
    "pd.set_option('display.float_format', lambda x: '%.3f' % x)"
   ]
  },
  {
   "cell_type": "markdown",
   "metadata": {},
   "source": [
    "### Data import"
   ]
  },
  {
   "cell_type": "code",
   "execution_count": 118,
   "metadata": {},
   "outputs": [],
   "source": [
    "#import the data from a csv-file\n",
    "df_eda = pd.read_csv('data/eda_marius.csv')\n",
    "df_eda_backup = pd.read_csv('eda_marius_backup.csv')\n",
    "\n",
    "\n"
   ]
  },
  {
   "cell_type": "markdown",
   "metadata": {},
   "source": [
    "### Inital exploration"
   ]
  },
  {
   "cell_type": "code",
   "execution_count": 119,
   "metadata": {},
   "outputs": [
    {
     "name": "stdout",
     "output_type": "stream",
     "text": [
      "<class 'pandas.core.frame.DataFrame'>\n",
      "RangeIndex: 21597 entries, 0 to 21596\n",
      "Data columns (total 23 columns):\n",
      " #   Column         Non-Null Count  Dtype  \n",
      "---  ------         --------------  -----  \n",
      " 0   date           21597 non-null  object \n",
      " 1   price          21597 non-null  float64\n",
      " 2   house_id       21597 non-null  int64  \n",
      " 3   id             21597 non-null  int64  \n",
      " 4   id.1           21597 non-null  int64  \n",
      " 5   bedrooms       21597 non-null  float64\n",
      " 6   bathrooms      21597 non-null  float64\n",
      " 7   sqft_living    21597 non-null  float64\n",
      " 8   sqft_lot       21597 non-null  float64\n",
      " 9   floors         21597 non-null  float64\n",
      " 10  waterfront     19206 non-null  float64\n",
      " 11  view           21534 non-null  float64\n",
      " 12  condition      21597 non-null  int64  \n",
      " 13  grade          21597 non-null  int64  \n",
      " 14  sqft_above     21597 non-null  float64\n",
      " 15  sqft_basement  21145 non-null  float64\n",
      " 16  yr_built       21597 non-null  int64  \n",
      " 17  yr_renovated   17749 non-null  float64\n",
      " 18  zipcode        21597 non-null  int64  \n",
      " 19  lat            21597 non-null  float64\n",
      " 20  long           21597 non-null  float64\n",
      " 21  sqft_living15  21597 non-null  float64\n",
      " 22  sqft_lot15     21597 non-null  float64\n",
      "dtypes: float64(15), int64(7), object(1)\n",
      "memory usage: 3.8+ MB\n"
     ]
    },
    {
     "data": {
      "text/html": [
       "<div>\n",
       "<style scoped>\n",
       "    .dataframe tbody tr th:only-of-type {\n",
       "        vertical-align: middle;\n",
       "    }\n",
       "\n",
       "    .dataframe tbody tr th {\n",
       "        vertical-align: top;\n",
       "    }\n",
       "\n",
       "    .dataframe thead th {\n",
       "        text-align: right;\n",
       "    }\n",
       "</style>\n",
       "<table border=\"1\" class=\"dataframe\">\n",
       "  <thead>\n",
       "    <tr style=\"text-align: right;\">\n",
       "      <th></th>\n",
       "      <th>date</th>\n",
       "      <th>price</th>\n",
       "      <th>house_id</th>\n",
       "      <th>id</th>\n",
       "      <th>id.1</th>\n",
       "      <th>bedrooms</th>\n",
       "      <th>bathrooms</th>\n",
       "      <th>sqft_living</th>\n",
       "      <th>sqft_lot</th>\n",
       "      <th>floors</th>\n",
       "      <th>...</th>\n",
       "      <th>grade</th>\n",
       "      <th>sqft_above</th>\n",
       "      <th>sqft_basement</th>\n",
       "      <th>yr_built</th>\n",
       "      <th>yr_renovated</th>\n",
       "      <th>zipcode</th>\n",
       "      <th>lat</th>\n",
       "      <th>long</th>\n",
       "      <th>sqft_living15</th>\n",
       "      <th>sqft_lot15</th>\n",
       "    </tr>\n",
       "  </thead>\n",
       "  <tbody>\n",
       "    <tr>\n",
       "      <th>0</th>\n",
       "      <td>2014-10-13</td>\n",
       "      <td>221900.000</td>\n",
       "      <td>7129300520</td>\n",
       "      <td>1</td>\n",
       "      <td>7129300520</td>\n",
       "      <td>3.000</td>\n",
       "      <td>1.000</td>\n",
       "      <td>1180.000</td>\n",
       "      <td>5650.000</td>\n",
       "      <td>1.000</td>\n",
       "      <td>...</td>\n",
       "      <td>7</td>\n",
       "      <td>1180.000</td>\n",
       "      <td>0.000</td>\n",
       "      <td>1955</td>\n",
       "      <td>0.000</td>\n",
       "      <td>98178</td>\n",
       "      <td>47.511</td>\n",
       "      <td>-122.257</td>\n",
       "      <td>1340.000</td>\n",
       "      <td>5650.000</td>\n",
       "    </tr>\n",
       "    <tr>\n",
       "      <th>1</th>\n",
       "      <td>2014-12-09</td>\n",
       "      <td>538000.000</td>\n",
       "      <td>6414100192</td>\n",
       "      <td>2</td>\n",
       "      <td>6414100192</td>\n",
       "      <td>3.000</td>\n",
       "      <td>2.250</td>\n",
       "      <td>2570.000</td>\n",
       "      <td>7242.000</td>\n",
       "      <td>2.000</td>\n",
       "      <td>...</td>\n",
       "      <td>7</td>\n",
       "      <td>2170.000</td>\n",
       "      <td>400.000</td>\n",
       "      <td>1951</td>\n",
       "      <td>19910.000</td>\n",
       "      <td>98125</td>\n",
       "      <td>47.721</td>\n",
       "      <td>-122.319</td>\n",
       "      <td>1690.000</td>\n",
       "      <td>7639.000</td>\n",
       "    </tr>\n",
       "    <tr>\n",
       "      <th>2</th>\n",
       "      <td>2015-02-25</td>\n",
       "      <td>180000.000</td>\n",
       "      <td>5631500400</td>\n",
       "      <td>3</td>\n",
       "      <td>5631500400</td>\n",
       "      <td>2.000</td>\n",
       "      <td>1.000</td>\n",
       "      <td>770.000</td>\n",
       "      <td>10000.000</td>\n",
       "      <td>1.000</td>\n",
       "      <td>...</td>\n",
       "      <td>6</td>\n",
       "      <td>770.000</td>\n",
       "      <td>0.000</td>\n",
       "      <td>1933</td>\n",
       "      <td>NaN</td>\n",
       "      <td>98028</td>\n",
       "      <td>47.738</td>\n",
       "      <td>-122.233</td>\n",
       "      <td>2720.000</td>\n",
       "      <td>8062.000</td>\n",
       "    </tr>\n",
       "    <tr>\n",
       "      <th>3</th>\n",
       "      <td>2014-12-09</td>\n",
       "      <td>604000.000</td>\n",
       "      <td>2487200875</td>\n",
       "      <td>4</td>\n",
       "      <td>2487200875</td>\n",
       "      <td>4.000</td>\n",
       "      <td>3.000</td>\n",
       "      <td>1960.000</td>\n",
       "      <td>5000.000</td>\n",
       "      <td>1.000</td>\n",
       "      <td>...</td>\n",
       "      <td>7</td>\n",
       "      <td>1050.000</td>\n",
       "      <td>910.000</td>\n",
       "      <td>1965</td>\n",
       "      <td>0.000</td>\n",
       "      <td>98136</td>\n",
       "      <td>47.521</td>\n",
       "      <td>-122.393</td>\n",
       "      <td>1360.000</td>\n",
       "      <td>5000.000</td>\n",
       "    </tr>\n",
       "    <tr>\n",
       "      <th>4</th>\n",
       "      <td>2015-02-18</td>\n",
       "      <td>510000.000</td>\n",
       "      <td>1954400510</td>\n",
       "      <td>5</td>\n",
       "      <td>1954400510</td>\n",
       "      <td>3.000</td>\n",
       "      <td>2.000</td>\n",
       "      <td>1680.000</td>\n",
       "      <td>8080.000</td>\n",
       "      <td>1.000</td>\n",
       "      <td>...</td>\n",
       "      <td>8</td>\n",
       "      <td>1680.000</td>\n",
       "      <td>0.000</td>\n",
       "      <td>1987</td>\n",
       "      <td>0.000</td>\n",
       "      <td>98074</td>\n",
       "      <td>47.617</td>\n",
       "      <td>-122.045</td>\n",
       "      <td>1800.000</td>\n",
       "      <td>7503.000</td>\n",
       "    </tr>\n",
       "  </tbody>\n",
       "</table>\n",
       "<p>5 rows × 23 columns</p>\n",
       "</div>"
      ],
      "text/plain": [
       "         date      price    house_id  id        id.1  bedrooms  bathrooms  \\\n",
       "0  2014-10-13 221900.000  7129300520   1  7129300520     3.000      1.000   \n",
       "1  2014-12-09 538000.000  6414100192   2  6414100192     3.000      2.250   \n",
       "2  2015-02-25 180000.000  5631500400   3  5631500400     2.000      1.000   \n",
       "3  2014-12-09 604000.000  2487200875   4  2487200875     4.000      3.000   \n",
       "4  2015-02-18 510000.000  1954400510   5  1954400510     3.000      2.000   \n",
       "\n",
       "   sqft_living  sqft_lot  floors  ...  grade  sqft_above  sqft_basement  \\\n",
       "0     1180.000  5650.000   1.000  ...      7    1180.000          0.000   \n",
       "1     2570.000  7242.000   2.000  ...      7    2170.000        400.000   \n",
       "2      770.000 10000.000   1.000  ...      6     770.000          0.000   \n",
       "3     1960.000  5000.000   1.000  ...      7    1050.000        910.000   \n",
       "4     1680.000  8080.000   1.000  ...      8    1680.000          0.000   \n",
       "\n",
       "   yr_built  yr_renovated  zipcode    lat     long  sqft_living15  sqft_lot15  \n",
       "0      1955         0.000    98178 47.511 -122.257       1340.000    5650.000  \n",
       "1      1951     19910.000    98125 47.721 -122.319       1690.000    7639.000  \n",
       "2      1933           NaN    98028 47.738 -122.233       2720.000    8062.000  \n",
       "3      1965         0.000    98136 47.521 -122.393       1360.000    5000.000  \n",
       "4      1987         0.000    98074 47.617 -122.045       1800.000    7503.000  \n",
       "\n",
       "[5 rows x 23 columns]"
      ]
     },
     "metadata": {},
     "output_type": "display_data"
    },
    {
     "data": {
      "text/plain": [
       "None"
      ]
     },
     "metadata": {},
     "output_type": "display_data"
    },
    {
     "data": {
      "text/html": [
       "<div>\n",
       "<style scoped>\n",
       "    .dataframe tbody tr th:only-of-type {\n",
       "        vertical-align: middle;\n",
       "    }\n",
       "\n",
       "    .dataframe tbody tr th {\n",
       "        vertical-align: top;\n",
       "    }\n",
       "\n",
       "    .dataframe thead th {\n",
       "        text-align: right;\n",
       "    }\n",
       "</style>\n",
       "<table border=\"1\" class=\"dataframe\">\n",
       "  <thead>\n",
       "    <tr style=\"text-align: right;\">\n",
       "      <th></th>\n",
       "      <th>price</th>\n",
       "      <th>house_id</th>\n",
       "      <th>id</th>\n",
       "      <th>id.1</th>\n",
       "      <th>bedrooms</th>\n",
       "      <th>bathrooms</th>\n",
       "      <th>sqft_living</th>\n",
       "      <th>sqft_lot</th>\n",
       "      <th>floors</th>\n",
       "      <th>waterfront</th>\n",
       "      <th>...</th>\n",
       "      <th>grade</th>\n",
       "      <th>sqft_above</th>\n",
       "      <th>sqft_basement</th>\n",
       "      <th>yr_built</th>\n",
       "      <th>yr_renovated</th>\n",
       "      <th>zipcode</th>\n",
       "      <th>lat</th>\n",
       "      <th>long</th>\n",
       "      <th>sqft_living15</th>\n",
       "      <th>sqft_lot15</th>\n",
       "    </tr>\n",
       "  </thead>\n",
       "  <tbody>\n",
       "    <tr>\n",
       "      <th>count</th>\n",
       "      <td>21597.000</td>\n",
       "      <td>21597.000</td>\n",
       "      <td>21597.000</td>\n",
       "      <td>21597.000</td>\n",
       "      <td>21597.000</td>\n",
       "      <td>21597.000</td>\n",
       "      <td>21597.000</td>\n",
       "      <td>21597.000</td>\n",
       "      <td>21597.000</td>\n",
       "      <td>19206.000</td>\n",
       "      <td>...</td>\n",
       "      <td>21597.000</td>\n",
       "      <td>21597.000</td>\n",
       "      <td>21145.000</td>\n",
       "      <td>21597.000</td>\n",
       "      <td>17749.000</td>\n",
       "      <td>21597.000</td>\n",
       "      <td>21597.000</td>\n",
       "      <td>21597.000</td>\n",
       "      <td>21597.000</td>\n",
       "      <td>21597.000</td>\n",
       "    </tr>\n",
       "    <tr>\n",
       "      <th>mean</th>\n",
       "      <td>540296.574</td>\n",
       "      <td>4580474287.771</td>\n",
       "      <td>10799.000</td>\n",
       "      <td>4580474287.771</td>\n",
       "      <td>3.373</td>\n",
       "      <td>2.116</td>\n",
       "      <td>2080.322</td>\n",
       "      <td>15099.409</td>\n",
       "      <td>1.494</td>\n",
       "      <td>0.008</td>\n",
       "      <td>...</td>\n",
       "      <td>7.658</td>\n",
       "      <td>1788.597</td>\n",
       "      <td>291.857</td>\n",
       "      <td>1971.000</td>\n",
       "      <td>836.651</td>\n",
       "      <td>98077.952</td>\n",
       "      <td>47.560</td>\n",
       "      <td>-122.214</td>\n",
       "      <td>1986.620</td>\n",
       "      <td>12758.284</td>\n",
       "    </tr>\n",
       "    <tr>\n",
       "      <th>std</th>\n",
       "      <td>367368.140</td>\n",
       "      <td>2876735715.748</td>\n",
       "      <td>6234.661</td>\n",
       "      <td>2876735715.748</td>\n",
       "      <td>0.926</td>\n",
       "      <td>0.769</td>\n",
       "      <td>918.106</td>\n",
       "      <td>41412.637</td>\n",
       "      <td>0.540</td>\n",
       "      <td>0.087</td>\n",
       "      <td>...</td>\n",
       "      <td>1.173</td>\n",
       "      <td>827.760</td>\n",
       "      <td>442.491</td>\n",
       "      <td>29.375</td>\n",
       "      <td>4000.111</td>\n",
       "      <td>53.513</td>\n",
       "      <td>0.139</td>\n",
       "      <td>0.141</td>\n",
       "      <td>685.230</td>\n",
       "      <td>27274.442</td>\n",
       "    </tr>\n",
       "    <tr>\n",
       "      <th>min</th>\n",
       "      <td>78000.000</td>\n",
       "      <td>1000102.000</td>\n",
       "      <td>1.000</td>\n",
       "      <td>1000102.000</td>\n",
       "      <td>1.000</td>\n",
       "      <td>0.500</td>\n",
       "      <td>370.000</td>\n",
       "      <td>520.000</td>\n",
       "      <td>1.000</td>\n",
       "      <td>0.000</td>\n",
       "      <td>...</td>\n",
       "      <td>3.000</td>\n",
       "      <td>370.000</td>\n",
       "      <td>0.000</td>\n",
       "      <td>1900.000</td>\n",
       "      <td>0.000</td>\n",
       "      <td>98001.000</td>\n",
       "      <td>47.156</td>\n",
       "      <td>-122.519</td>\n",
       "      <td>399.000</td>\n",
       "      <td>651.000</td>\n",
       "    </tr>\n",
       "    <tr>\n",
       "      <th>25%</th>\n",
       "      <td>322000.000</td>\n",
       "      <td>2123049175.000</td>\n",
       "      <td>5400.000</td>\n",
       "      <td>2123049175.000</td>\n",
       "      <td>3.000</td>\n",
       "      <td>1.750</td>\n",
       "      <td>1430.000</td>\n",
       "      <td>5040.000</td>\n",
       "      <td>1.000</td>\n",
       "      <td>0.000</td>\n",
       "      <td>...</td>\n",
       "      <td>7.000</td>\n",
       "      <td>1190.000</td>\n",
       "      <td>0.000</td>\n",
       "      <td>1951.000</td>\n",
       "      <td>0.000</td>\n",
       "      <td>98033.000</td>\n",
       "      <td>47.471</td>\n",
       "      <td>-122.328</td>\n",
       "      <td>1490.000</td>\n",
       "      <td>5100.000</td>\n",
       "    </tr>\n",
       "    <tr>\n",
       "      <th>50%</th>\n",
       "      <td>450000.000</td>\n",
       "      <td>3904930410.000</td>\n",
       "      <td>10799.000</td>\n",
       "      <td>3904930410.000</td>\n",
       "      <td>3.000</td>\n",
       "      <td>2.250</td>\n",
       "      <td>1910.000</td>\n",
       "      <td>7618.000</td>\n",
       "      <td>1.500</td>\n",
       "      <td>0.000</td>\n",
       "      <td>...</td>\n",
       "      <td>7.000</td>\n",
       "      <td>1560.000</td>\n",
       "      <td>0.000</td>\n",
       "      <td>1975.000</td>\n",
       "      <td>0.000</td>\n",
       "      <td>98065.000</td>\n",
       "      <td>47.572</td>\n",
       "      <td>-122.231</td>\n",
       "      <td>1840.000</td>\n",
       "      <td>7620.000</td>\n",
       "    </tr>\n",
       "    <tr>\n",
       "      <th>75%</th>\n",
       "      <td>645000.000</td>\n",
       "      <td>7308900490.000</td>\n",
       "      <td>16198.000</td>\n",
       "      <td>7308900490.000</td>\n",
       "      <td>4.000</td>\n",
       "      <td>2.500</td>\n",
       "      <td>2550.000</td>\n",
       "      <td>10685.000</td>\n",
       "      <td>2.000</td>\n",
       "      <td>0.000</td>\n",
       "      <td>...</td>\n",
       "      <td>8.000</td>\n",
       "      <td>2210.000</td>\n",
       "      <td>560.000</td>\n",
       "      <td>1997.000</td>\n",
       "      <td>0.000</td>\n",
       "      <td>98118.000</td>\n",
       "      <td>47.678</td>\n",
       "      <td>-122.125</td>\n",
       "      <td>2360.000</td>\n",
       "      <td>10083.000</td>\n",
       "    </tr>\n",
       "    <tr>\n",
       "      <th>max</th>\n",
       "      <td>7700000.000</td>\n",
       "      <td>9900000190.000</td>\n",
       "      <td>21597.000</td>\n",
       "      <td>9900000190.000</td>\n",
       "      <td>33.000</td>\n",
       "      <td>8.000</td>\n",
       "      <td>13540.000</td>\n",
       "      <td>1651359.000</td>\n",
       "      <td>3.500</td>\n",
       "      <td>1.000</td>\n",
       "      <td>...</td>\n",
       "      <td>13.000</td>\n",
       "      <td>9410.000</td>\n",
       "      <td>4820.000</td>\n",
       "      <td>2015.000</td>\n",
       "      <td>20150.000</td>\n",
       "      <td>98199.000</td>\n",
       "      <td>47.778</td>\n",
       "      <td>-121.315</td>\n",
       "      <td>6210.000</td>\n",
       "      <td>871200.000</td>\n",
       "    </tr>\n",
       "  </tbody>\n",
       "</table>\n",
       "<p>8 rows × 22 columns</p>\n",
       "</div>"
      ],
      "text/plain": [
       "            price       house_id        id           id.1  bedrooms  \\\n",
       "count   21597.000      21597.000 21597.000      21597.000 21597.000   \n",
       "mean   540296.574 4580474287.771 10799.000 4580474287.771     3.373   \n",
       "std    367368.140 2876735715.748  6234.661 2876735715.748     0.926   \n",
       "min     78000.000    1000102.000     1.000    1000102.000     1.000   \n",
       "25%    322000.000 2123049175.000  5400.000 2123049175.000     3.000   \n",
       "50%    450000.000 3904930410.000 10799.000 3904930410.000     3.000   \n",
       "75%    645000.000 7308900490.000 16198.000 7308900490.000     4.000   \n",
       "max   7700000.000 9900000190.000 21597.000 9900000190.000    33.000   \n",
       "\n",
       "       bathrooms  sqft_living    sqft_lot    floors  waterfront  ...  \\\n",
       "count  21597.000    21597.000   21597.000 21597.000   19206.000  ...   \n",
       "mean       2.116     2080.322   15099.409     1.494       0.008  ...   \n",
       "std        0.769      918.106   41412.637     0.540       0.087  ...   \n",
       "min        0.500      370.000     520.000     1.000       0.000  ...   \n",
       "25%        1.750     1430.000    5040.000     1.000       0.000  ...   \n",
       "50%        2.250     1910.000    7618.000     1.500       0.000  ...   \n",
       "75%        2.500     2550.000   10685.000     2.000       0.000  ...   \n",
       "max        8.000    13540.000 1651359.000     3.500       1.000  ...   \n",
       "\n",
       "          grade  sqft_above  sqft_basement  yr_built  yr_renovated   zipcode  \\\n",
       "count 21597.000   21597.000      21145.000 21597.000     17749.000 21597.000   \n",
       "mean      7.658    1788.597        291.857  1971.000       836.651 98077.952   \n",
       "std       1.173     827.760        442.491    29.375      4000.111    53.513   \n",
       "min       3.000     370.000          0.000  1900.000         0.000 98001.000   \n",
       "25%       7.000    1190.000          0.000  1951.000         0.000 98033.000   \n",
       "50%       7.000    1560.000          0.000  1975.000         0.000 98065.000   \n",
       "75%       8.000    2210.000        560.000  1997.000         0.000 98118.000   \n",
       "max      13.000    9410.000       4820.000  2015.000     20150.000 98199.000   \n",
       "\n",
       "            lat      long  sqft_living15  sqft_lot15  \n",
       "count 21597.000 21597.000      21597.000   21597.000  \n",
       "mean     47.560  -122.214       1986.620   12758.284  \n",
       "std       0.139     0.141        685.230   27274.442  \n",
       "min      47.156  -122.519        399.000     651.000  \n",
       "25%      47.471  -122.328       1490.000    5100.000  \n",
       "50%      47.572  -122.231       1840.000    7620.000  \n",
       "75%      47.678  -122.125       2360.000   10083.000  \n",
       "max      47.778  -121.315       6210.000  871200.000  \n",
       "\n",
       "[8 rows x 22 columns]"
      ]
     },
     "metadata": {},
     "output_type": "display_data"
    },
    {
     "data": {
      "text/plain": [
       "(21597, 23)"
      ]
     },
     "metadata": {},
     "output_type": "display_data"
    },
    {
     "name": "stdout",
     "output_type": "stream",
     "text": [
      "count     21597.000\n",
      "mean     540296.574\n",
      "std      367368.140\n",
      "min       78000.000\n",
      "25%      322000.000\n",
      "50%      450000.000\n",
      "75%      645000.000\n",
      "max     7700000.000\n",
      "Name: price, dtype: float64\n"
     ]
    },
    {
     "data": {
      "text/html": [
       "<div>\n",
       "<style scoped>\n",
       "    .dataframe tbody tr th:only-of-type {\n",
       "        vertical-align: middle;\n",
       "    }\n",
       "\n",
       "    .dataframe tbody tr th {\n",
       "        vertical-align: top;\n",
       "    }\n",
       "\n",
       "    .dataframe thead th {\n",
       "        text-align: right;\n",
       "    }\n",
       "</style>\n",
       "<table border=\"1\" class=\"dataframe\">\n",
       "  <thead>\n",
       "    <tr style=\"text-align: right;\">\n",
       "      <th></th>\n",
       "      <th>date</th>\n",
       "      <th>price</th>\n",
       "      <th>house_id</th>\n",
       "      <th>id</th>\n",
       "      <th>id.1</th>\n",
       "      <th>bedrooms</th>\n",
       "      <th>bathrooms</th>\n",
       "      <th>sqft_living</th>\n",
       "      <th>sqft_lot</th>\n",
       "      <th>floors</th>\n",
       "      <th>...</th>\n",
       "      <th>grade</th>\n",
       "      <th>sqft_above</th>\n",
       "      <th>sqft_basement</th>\n",
       "      <th>yr_built</th>\n",
       "      <th>yr_renovated</th>\n",
       "      <th>zipcode</th>\n",
       "      <th>lat</th>\n",
       "      <th>long</th>\n",
       "      <th>sqft_living15</th>\n",
       "      <th>sqft_lot15</th>\n",
       "    </tr>\n",
       "  </thead>\n",
       "  <tbody>\n",
       "    <tr>\n",
       "      <th>0</th>\n",
       "      <td>2014-10-13</td>\n",
       "      <td>221900.000</td>\n",
       "      <td>7129300520</td>\n",
       "      <td>1</td>\n",
       "      <td>7129300520</td>\n",
       "      <td>3.000</td>\n",
       "      <td>1.000</td>\n",
       "      <td>1180.000</td>\n",
       "      <td>5650.000</td>\n",
       "      <td>1.000</td>\n",
       "      <td>...</td>\n",
       "      <td>7</td>\n",
       "      <td>1180.000</td>\n",
       "      <td>0.000</td>\n",
       "      <td>1955</td>\n",
       "      <td>0.000</td>\n",
       "      <td>98178</td>\n",
       "      <td>47.511</td>\n",
       "      <td>-122.257</td>\n",
       "      <td>1340.000</td>\n",
       "      <td>5650.000</td>\n",
       "    </tr>\n",
       "    <tr>\n",
       "      <th>1</th>\n",
       "      <td>2014-12-09</td>\n",
       "      <td>538000.000</td>\n",
       "      <td>6414100192</td>\n",
       "      <td>2</td>\n",
       "      <td>6414100192</td>\n",
       "      <td>3.000</td>\n",
       "      <td>2.250</td>\n",
       "      <td>2570.000</td>\n",
       "      <td>7242.000</td>\n",
       "      <td>2.000</td>\n",
       "      <td>...</td>\n",
       "      <td>7</td>\n",
       "      <td>2170.000</td>\n",
       "      <td>400.000</td>\n",
       "      <td>1951</td>\n",
       "      <td>19910.000</td>\n",
       "      <td>98125</td>\n",
       "      <td>47.721</td>\n",
       "      <td>-122.319</td>\n",
       "      <td>1690.000</td>\n",
       "      <td>7639.000</td>\n",
       "    </tr>\n",
       "    <tr>\n",
       "      <th>2</th>\n",
       "      <td>2015-02-25</td>\n",
       "      <td>180000.000</td>\n",
       "      <td>5631500400</td>\n",
       "      <td>3</td>\n",
       "      <td>5631500400</td>\n",
       "      <td>2.000</td>\n",
       "      <td>1.000</td>\n",
       "      <td>770.000</td>\n",
       "      <td>10000.000</td>\n",
       "      <td>1.000</td>\n",
       "      <td>...</td>\n",
       "      <td>6</td>\n",
       "      <td>770.000</td>\n",
       "      <td>0.000</td>\n",
       "      <td>1933</td>\n",
       "      <td>NaN</td>\n",
       "      <td>98028</td>\n",
       "      <td>47.738</td>\n",
       "      <td>-122.233</td>\n",
       "      <td>2720.000</td>\n",
       "      <td>8062.000</td>\n",
       "    </tr>\n",
       "    <tr>\n",
       "      <th>3</th>\n",
       "      <td>2014-12-09</td>\n",
       "      <td>604000.000</td>\n",
       "      <td>2487200875</td>\n",
       "      <td>4</td>\n",
       "      <td>2487200875</td>\n",
       "      <td>4.000</td>\n",
       "      <td>3.000</td>\n",
       "      <td>1960.000</td>\n",
       "      <td>5000.000</td>\n",
       "      <td>1.000</td>\n",
       "      <td>...</td>\n",
       "      <td>7</td>\n",
       "      <td>1050.000</td>\n",
       "      <td>910.000</td>\n",
       "      <td>1965</td>\n",
       "      <td>0.000</td>\n",
       "      <td>98136</td>\n",
       "      <td>47.521</td>\n",
       "      <td>-122.393</td>\n",
       "      <td>1360.000</td>\n",
       "      <td>5000.000</td>\n",
       "    </tr>\n",
       "    <tr>\n",
       "      <th>4</th>\n",
       "      <td>2015-02-18</td>\n",
       "      <td>510000.000</td>\n",
       "      <td>1954400510</td>\n",
       "      <td>5</td>\n",
       "      <td>1954400510</td>\n",
       "      <td>3.000</td>\n",
       "      <td>2.000</td>\n",
       "      <td>1680.000</td>\n",
       "      <td>8080.000</td>\n",
       "      <td>1.000</td>\n",
       "      <td>...</td>\n",
       "      <td>8</td>\n",
       "      <td>1680.000</td>\n",
       "      <td>0.000</td>\n",
       "      <td>1987</td>\n",
       "      <td>0.000</td>\n",
       "      <td>98074</td>\n",
       "      <td>47.617</td>\n",
       "      <td>-122.045</td>\n",
       "      <td>1800.000</td>\n",
       "      <td>7503.000</td>\n",
       "    </tr>\n",
       "  </tbody>\n",
       "</table>\n",
       "<p>5 rows × 23 columns</p>\n",
       "</div>"
      ],
      "text/plain": [
       "         date      price    house_id  id        id.1  bedrooms  bathrooms  \\\n",
       "0  2014-10-13 221900.000  7129300520   1  7129300520     3.000      1.000   \n",
       "1  2014-12-09 538000.000  6414100192   2  6414100192     3.000      2.250   \n",
       "2  2015-02-25 180000.000  5631500400   3  5631500400     2.000      1.000   \n",
       "3  2014-12-09 604000.000  2487200875   4  2487200875     4.000      3.000   \n",
       "4  2015-02-18 510000.000  1954400510   5  1954400510     3.000      2.000   \n",
       "\n",
       "   sqft_living  sqft_lot  floors  ...  grade  sqft_above  sqft_basement  \\\n",
       "0     1180.000  5650.000   1.000  ...      7    1180.000          0.000   \n",
       "1     2570.000  7242.000   2.000  ...      7    2170.000        400.000   \n",
       "2      770.000 10000.000   1.000  ...      6     770.000          0.000   \n",
       "3     1960.000  5000.000   1.000  ...      7    1050.000        910.000   \n",
       "4     1680.000  8080.000   1.000  ...      8    1680.000          0.000   \n",
       "\n",
       "   yr_built  yr_renovated  zipcode    lat     long  sqft_living15  sqft_lot15  \n",
       "0      1955         0.000    98178 47.511 -122.257       1340.000    5650.000  \n",
       "1      1951     19910.000    98125 47.721 -122.319       1690.000    7639.000  \n",
       "2      1933           NaN    98028 47.738 -122.233       2720.000    8062.000  \n",
       "3      1965         0.000    98136 47.521 -122.393       1360.000    5000.000  \n",
       "4      1987         0.000    98074 47.617 -122.045       1800.000    7503.000  \n",
       "\n",
       "[5 rows x 23 columns]"
      ]
     },
     "execution_count": 119,
     "metadata": {},
     "output_type": "execute_result"
    },
    {
     "data": {
      "text/plain": [
       "<Figure size 900x800 with 0 Axes>"
      ]
     },
     "metadata": {},
     "output_type": "display_data"
    }
   ],
   "source": [
    "\n",
    "display(df_eda.head(), df_eda.info(), df_eda.describe(), df_eda.shape)\n",
    "\n",
    "\n",
    "print(df_eda['price'].describe())\n",
    "plt.figure(figsize=(9, 8))\n",
    "df_eda.head()\n",
    "\n",
    "\n"
   ]
  },
  {
   "cell_type": "code",
   "execution_count": 120,
   "metadata": {},
   "outputs": [
    {
     "data": {
      "text/plain": [
       "887000.0"
      ]
     },
     "execution_count": 120,
     "metadata": {},
     "output_type": "execute_result"
    },
    {
     "data": {
      "image/png": "[encoded data removed]",
      "text/plain": [
       "<Figure size 800x500 with 1 Axes>"
      ]
     },
     "metadata": {},
     "output_type": "display_data"
    }
   ],
   "source": [
    "#price distribution\n",
    "sns.histplot(data=df_eda,x='price',bins=100)\n",
    "df_eda.price.median()\n",
    "df_eda.price.mean()\n",
    "df_eda.price.quantile(0.9)\n",
    "\n"
   ]
  },
  {
   "cell_type": "code",
   "execution_count": 121,
   "metadata": {},
   "outputs": [
    {
     "data": {
      "text/plain": [
       "4.0"
      ]
     },
     "execution_count": 121,
     "metadata": {},
     "output_type": "execute_result"
    },
    {
     "data": {
      "image/png": "[encoded data removed]",
      "text/plain": [
       "<Figure size 800x500 with 1 Axes>"
      ]
     },
     "metadata": {},
     "output_type": "display_data"
    }
   ],
   "source": [
    "#condition distribution\n",
    "sns.histplot(data=df_eda,x='condition')\n",
    "df_eda.condition.quantile(0.9)"
   ]
  },
  {
   "cell_type": "code",
   "execution_count": 122,
   "metadata": {},
   "outputs": [
    {
     "data": {
      "text/plain": [
       "9.0"
      ]
     },
     "execution_count": 122,
     "metadata": {},
     "output_type": "execute_result"
    },
    {
     "data": {
      "image/png": "[encoded data removed]",
      "text/plain": [
       "<Figure size 800x500 with 1 Axes>"
      ]
     },
     "metadata": {},
     "output_type": "display_data"
    }
   ],
   "source": [
    "#grade distribution\n",
    "sns.histplot(data=df_eda,x='grade',legend=4)\n",
    "df_eda.grade.quantile(0.9)"
   ]
  },
  {
   "cell_type": "code",
   "execution_count": 123,
   "metadata": {},
   "outputs": [
    {
     "data": {
      "text/plain": [
       "array([[<Axes: title={'center': 'price'}>,\n",
       "        <Axes: title={'center': 'bedrooms'}>,\n",
       "        <Axes: title={'center': 'bathrooms'}>,\n",
       "        <Axes: title={'center': 'sqft_living'}>],\n",
       "       [<Axes: title={'center': 'sqft_lot'}>,\n",
       "        <Axes: title={'center': 'floors'}>,\n",
       "        <Axes: title={'center': 'waterfront'}>,\n",
       "        <Axes: title={'center': 'view'}>],\n",
       "       [<Axes: title={'center': 'condition'}>,\n",
       "        <Axes: title={'center': 'grade'}>,\n",
       "        <Axes: title={'center': 'sqft_above'}>,\n",
       "        <Axes: title={'center': 'sqft_basement'}>],\n",
       "       [<Axes: title={'center': 'yr_built'}>,\n",
       "        <Axes: title={'center': 'yr_renovated'}>,\n",
       "        <Axes: title={'center': 'zipcode'}>,\n",
       "        <Axes: title={'center': 'lat'}>],\n",
       "       [<Axes: title={'center': 'long'}>,\n",
       "        <Axes: title={'center': 'sqft_living15'}>,\n",
       "        <Axes: title={'center': 'sqft_lot15'}>, <Axes: >]], dtype=object)"
      ]
     },
     "execution_count": 123,
     "metadata": {},
     "output_type": "execute_result"
    },
    {
     "data": {
      "image/png": "[encoded data removed]",
      "text/plain": [
       "<Figure size 1600x2000 with 20 Axes>"
      ]
     },
     "metadata": {},
     "output_type": "display_data"
    }
   ],
   "source": [
    "#plot all\n",
    "list(set(df_eda.dtypes.tolist()))\n",
    "df_num = df_eda.select_dtypes(include = ['float64', 'int64'])\n",
    "df_num = df_num.drop(columns=['id','house_id','id.1'])\n",
    "df_num.hist(figsize=(16, 20), bins=50, xlabelsize=8, ylabelsize=8)\n"
   ]
  },
  {
   "cell_type": "markdown",
   "metadata": {},
   "source": [
    "# Initial considerations:\n",
    "\n",
    "* What means high budget? --> at least over 3rd quartile\n",
    "* What means show off? --> don't care too much about bedrooms, sqm, etc. --> only thing important is --> sqm lot largest vs sqm lot15\n",
    "* Waterfront = 1\n",
    "* Renovated = yes, and when?\n",
    "* Built = when?\n",
    "* What are high grades?\n",
    "* What means reselling within a year?\n",
    "* What to do with timing?\n"
   ]
  },
  {
   "cell_type": "markdown",
   "metadata": {},
   "source": [
    "### Data Cleaning"
   ]
  },
  {
   "cell_type": "code",
   "execution_count": 124,
   "metadata": {},
   "outputs": [
    {
     "data": {
      "text/plain": [
       "0    0.000\n",
       "1    0.000\n",
       "2    0.000\n",
       "3    0.000\n",
       "4    0.000\n",
       "      ... \n",
       "95   0.000\n",
       "96   0.000\n",
       "97   0.000\n",
       "98   0.000\n",
       "99   2.000\n",
       "Name: view, Length: 100, dtype: float64"
      ]
     },
     "metadata": {},
     "output_type": "display_data"
    },
    {
     "data": {
      "text/plain": [
       "Series([], dtype: int64)"
      ]
     },
     "execution_count": 124,
     "metadata": {},
     "output_type": "execute_result"
    }
   ],
   "source": [
    "# Checking for missing values\n",
    "missing_values = df_eda.isnull().sum()\n",
    "\n",
    "# Filter out missing values\n",
    "missing_values = missing_values[missing_values > 0]\n",
    "\n",
    "missing_values\n",
    "\n",
    "display(df_eda['view'].head(100))\n",
    "# waterfront       2391 --> set to 0 for no waterfront\n",
    "# view               63 --> set to 0 if no viewing has happend\n",
    "# sqft_basement     452 --> set to 0 for no basement\n",
    "# yr_renovated     3848 --> set to 0 for no renovation yet\n",
    "\n",
    "# set all columns that need to be filled with zeros\n",
    "columns_to_zero = ['waterfront', 'view', 'sqft_basement', 'yr_renovated']\n",
    "df_eda[columns_to_zero] = df_eda[columns_to_zero].fillna(0)\n",
    "\n",
    "# double check\n",
    "\n",
    "missing_values_check = df_eda.isnull().sum()\n",
    "missing_values_check = missing_values_check[missing_values_check > 0]\n",
    "missing_values_check"
   ]
  },
  {
   "cell_type": "code",
   "execution_count": 135,
   "metadata": {},
   "outputs": [
    {
     "data": {
      "text/plain": [
       "False    21597\n",
       "Name: count, dtype: int64"
      ]
     },
     "execution_count": 135,
     "metadata": {},
     "output_type": "execute_result"
    }
   ],
   "source": [
    "#Check for duplicates\n",
    "df_eda.duplicated().value_counts()\n",
    "\n",
    "# --> no duplicates (False    21597)"
   ]
  },
  {
   "cell_type": "code",
   "execution_count": 136,
   "metadata": {},
   "outputs": [
    {
     "data": {
      "text/html": [
       "<div>\n",
       "<style scoped>\n",
       "    .dataframe tbody tr th:only-of-type {\n",
       "        vertical-align: middle;\n",
       "    }\n",
       "\n",
       "    .dataframe tbody tr th {\n",
       "        vertical-align: top;\n",
       "    }\n",
       "\n",
       "    .dataframe thead th {\n",
       "        text-align: right;\n",
       "    }\n",
       "</style>\n",
       "<table border=\"1\" class=\"dataframe\">\n",
       "  <thead>\n",
       "    <tr style=\"text-align: right;\">\n",
       "      <th></th>\n",
       "      <th>date</th>\n",
       "      <th>price</th>\n",
       "      <th>house_id</th>\n",
       "      <th>id</th>\n",
       "      <th>id.1</th>\n",
       "      <th>bedrooms</th>\n",
       "      <th>bathrooms</th>\n",
       "      <th>floors</th>\n",
       "      <th>waterfront</th>\n",
       "      <th>view</th>\n",
       "      <th>...</th>\n",
       "      <th>yr_renovated</th>\n",
       "      <th>zipcode</th>\n",
       "      <th>lat</th>\n",
       "      <th>long</th>\n",
       "      <th>sqm_living</th>\n",
       "      <th>sqm_lot</th>\n",
       "      <th>sqm_above</th>\n",
       "      <th>sqm_basement</th>\n",
       "      <th>sqm_living15</th>\n",
       "      <th>sqm_lot15</th>\n",
       "    </tr>\n",
       "  </thead>\n",
       "  <tbody>\n",
       "    <tr>\n",
       "      <th>0</th>\n",
       "      <td>2014-10-13</td>\n",
       "      <td>221900.000</td>\n",
       "      <td>7129300520</td>\n",
       "      <td>1</td>\n",
       "      <td>7129300520</td>\n",
       "      <td>3.000</td>\n",
       "      <td>1.000</td>\n",
       "      <td>1.000</td>\n",
       "      <td>0.000</td>\n",
       "      <td>0.000</td>\n",
       "      <td>...</td>\n",
       "      <td>0.000</td>\n",
       "      <td>98178</td>\n",
       "      <td>47.511</td>\n",
       "      <td>-122.257</td>\n",
       "      <td>109.626</td>\n",
       "      <td>524.902</td>\n",
       "      <td>109.626</td>\n",
       "      <td>0.000</td>\n",
       "      <td>124.490</td>\n",
       "      <td>524.902</td>\n",
       "    </tr>\n",
       "    <tr>\n",
       "      <th>1</th>\n",
       "      <td>2014-12-09</td>\n",
       "      <td>538000.000</td>\n",
       "      <td>6414100192</td>\n",
       "      <td>2</td>\n",
       "      <td>6414100192</td>\n",
       "      <td>3.000</td>\n",
       "      <td>2.250</td>\n",
       "      <td>2.000</td>\n",
       "      <td>0.000</td>\n",
       "      <td>0.000</td>\n",
       "      <td>...</td>\n",
       "      <td>19910.000</td>\n",
       "      <td>98125</td>\n",
       "      <td>47.721</td>\n",
       "      <td>-122.319</td>\n",
       "      <td>238.761</td>\n",
       "      <td>672.804</td>\n",
       "      <td>201.600</td>\n",
       "      <td>37.161</td>\n",
       "      <td>157.006</td>\n",
       "      <td>709.686</td>\n",
       "    </tr>\n",
       "    <tr>\n",
       "      <th>2</th>\n",
       "      <td>2015-02-25</td>\n",
       "      <td>180000.000</td>\n",
       "      <td>5631500400</td>\n",
       "      <td>3</td>\n",
       "      <td>5631500400</td>\n",
       "      <td>2.000</td>\n",
       "      <td>1.000</td>\n",
       "      <td>1.000</td>\n",
       "      <td>0.000</td>\n",
       "      <td>0.000</td>\n",
       "      <td>...</td>\n",
       "      <td>0.000</td>\n",
       "      <td>98028</td>\n",
       "      <td>47.738</td>\n",
       "      <td>-122.233</td>\n",
       "      <td>71.535</td>\n",
       "      <td>929.030</td>\n",
       "      <td>71.535</td>\n",
       "      <td>0.000</td>\n",
       "      <td>252.696</td>\n",
       "      <td>748.984</td>\n",
       "    </tr>\n",
       "    <tr>\n",
       "      <th>3</th>\n",
       "      <td>2014-12-09</td>\n",
       "      <td>604000.000</td>\n",
       "      <td>2487200875</td>\n",
       "      <td>4</td>\n",
       "      <td>2487200875</td>\n",
       "      <td>4.000</td>\n",
       "      <td>3.000</td>\n",
       "      <td>1.000</td>\n",
       "      <td>0.000</td>\n",
       "      <td>0.000</td>\n",
       "      <td>...</td>\n",
       "      <td>0.000</td>\n",
       "      <td>98136</td>\n",
       "      <td>47.521</td>\n",
       "      <td>-122.393</td>\n",
       "      <td>182.090</td>\n",
       "      <td>464.515</td>\n",
       "      <td>97.548</td>\n",
       "      <td>84.542</td>\n",
       "      <td>126.348</td>\n",
       "      <td>464.515</td>\n",
       "    </tr>\n",
       "    <tr>\n",
       "      <th>4</th>\n",
       "      <td>2015-02-18</td>\n",
       "      <td>510000.000</td>\n",
       "      <td>1954400510</td>\n",
       "      <td>5</td>\n",
       "      <td>1954400510</td>\n",
       "      <td>3.000</td>\n",
       "      <td>2.000</td>\n",
       "      <td>1.000</td>\n",
       "      <td>0.000</td>\n",
       "      <td>0.000</td>\n",
       "      <td>...</td>\n",
       "      <td>0.000</td>\n",
       "      <td>98074</td>\n",
       "      <td>47.617</td>\n",
       "      <td>-122.045</td>\n",
       "      <td>156.077</td>\n",
       "      <td>750.656</td>\n",
       "      <td>156.077</td>\n",
       "      <td>0.000</td>\n",
       "      <td>167.225</td>\n",
       "      <td>697.051</td>\n",
       "    </tr>\n",
       "  </tbody>\n",
       "</table>\n",
       "<p>5 rows × 23 columns</p>\n",
       "</div>"
      ],
      "text/plain": [
       "        date      price    house_id  id        id.1  bedrooms  bathrooms  \\\n",
       "0 2014-10-13 221900.000  7129300520   1  7129300520     3.000      1.000   \n",
       "1 2014-12-09 538000.000  6414100192   2  6414100192     3.000      2.250   \n",
       "2 2015-02-25 180000.000  5631500400   3  5631500400     2.000      1.000   \n",
       "3 2014-12-09 604000.000  2487200875   4  2487200875     4.000      3.000   \n",
       "4 2015-02-18 510000.000  1954400510   5  1954400510     3.000      2.000   \n",
       "\n",
       "   floors  waterfront  view  ...  yr_renovated  zipcode    lat     long  \\\n",
       "0   1.000       0.000 0.000  ...         0.000    98178 47.511 -122.257   \n",
       "1   2.000       0.000 0.000  ...     19910.000    98125 47.721 -122.319   \n",
       "2   1.000       0.000 0.000  ...         0.000    98028 47.738 -122.233   \n",
       "3   1.000       0.000 0.000  ...         0.000    98136 47.521 -122.393   \n",
       "4   1.000       0.000 0.000  ...         0.000    98074 47.617 -122.045   \n",
       "\n",
       "   sqm_living  sqm_lot  sqm_above  sqm_basement  sqm_living15  sqm_lot15  \n",
       "0     109.626  524.902    109.626         0.000       124.490    524.902  \n",
       "1     238.761  672.804    201.600        37.161       157.006    709.686  \n",
       "2      71.535  929.030     71.535         0.000       252.696    748.984  \n",
       "3     182.090  464.515     97.548        84.542       126.348    464.515  \n",
       "4     156.077  750.656    156.077         0.000       167.225    697.051  \n",
       "\n",
       "[5 rows x 23 columns]"
      ]
     },
     "execution_count": 136,
     "metadata": {},
     "output_type": "execute_result"
    }
   ],
   "source": [
    "#Check data types\n",
    "df_eda.dtypes\n",
    "\n",
    "# --> date is object\n",
    "df_eda.date.head(10)\n",
    "\n",
    "# convert date to datetime\n",
    "df_eda['date'] = pd.to_datetime(df_eda['date'], format='%Y-%m-%d')\n",
    "\n",
    "#double check\n",
    "date_dtype = df_eda['date'].dtype\n",
    "df_eda.date.dtype\n",
    "df_eda.head()"
   ]
  },
  {
   "cell_type": "code",
   "execution_count": 137,
   "metadata": {},
   "outputs": [
    {
     "ename": "KeyError",
     "evalue": "'sqft_living'",
     "output_type": "error",
     "traceback": [
      "\u001b[0;31m---------------------------------------------------------------------------\u001b[0m",
      "\u001b[0;31mKeyError\u001b[0m                                  Traceback (most recent call last)",
      "File \u001b[0;32m~/repos/eda_mariusbosch/.venv/lib/python3.11/site-packages/pandas/core/indexes/base.py:3652\u001b[0m, in \u001b[0;36mIndex.get_loc\u001b[0;34m(self, key)\u001b[0m\n\u001b[1;32m   3651\u001b[0m \u001b[39mtry\u001b[39;00m:\n\u001b[0;32m-> 3652\u001b[0m     \u001b[39mreturn\u001b[39;00m \u001b[39mself\u001b[39;49m\u001b[39m.\u001b[39;49m_engine\u001b[39m.\u001b[39;49mget_loc(casted_key)\n\u001b[1;32m   3653\u001b[0m \u001b[39mexcept\u001b[39;00m \u001b[39mKeyError\u001b[39;00m \u001b[39mas\u001b[39;00m err:\n",
      "File \u001b[0;32m~/repos/eda_mariusbosch/.venv/lib/python3.11/site-packages/pandas/_libs/index.pyx:147\u001b[0m, in \u001b[0;36mpandas._libs.index.IndexEngine.get_loc\u001b[0;34m()\u001b[0m\n",
      "File \u001b[0;32m~/repos/eda_mariusbosch/.venv/lib/python3.11/site-packages/pandas/_libs/index.pyx:176\u001b[0m, in \u001b[0;36mpandas._libs.index.IndexEngine.get_loc\u001b[0;34m()\u001b[0m\n",
      "File \u001b[0;32mpandas/_libs/hashtable_class_helper.pxi:7080\u001b[0m, in \u001b[0;36mpandas._libs.hashtable.PyObjectHashTable.get_item\u001b[0;34m()\u001b[0m\n",
      "File \u001b[0;32mpandas/_libs/hashtable_class_helper.pxi:7088\u001b[0m, in \u001b[0;36mpandas._libs.hashtable.PyObjectHashTable.get_item\u001b[0;34m()\u001b[0m\n",
      "\u001b[0;31mKeyError\u001b[0m: 'sqft_living'",
      "\nThe above exception was the direct cause of the following exception:\n",
      "\u001b[0;31mKeyError\u001b[0m                                  Traceback (most recent call last)",
      "Cell \u001b[0;32mIn[137], line 6\u001b[0m\n\u001b[1;32m      3\u001b[0m conversion_f \u001b[39m=\u001b[39m \u001b[39m0.092903\u001b[39m\n\u001b[1;32m      4\u001b[0m \u001b[39m#display(df_eda.head(),df_eda_backup.head())\u001b[39;00m\n\u001b[1;32m      5\u001b[0m \u001b[39m#Conversion of living and lot to sqm\u001b[39;00m\n\u001b[0;32m----> 6\u001b[0m df_eda[\u001b[39m'\u001b[39m\u001b[39msqm_living\u001b[39m\u001b[39m'\u001b[39m] \u001b[39m=\u001b[39m df_eda[\u001b[39m'\u001b[39;49m\u001b[39msqft_living\u001b[39;49m\u001b[39m'\u001b[39;49m] \u001b[39m*\u001b[39m conversion_f\n\u001b[1;32m      7\u001b[0m df_eda[\u001b[39m'\u001b[39m\u001b[39msqm_lot\u001b[39m\u001b[39m'\u001b[39m] \u001b[39m=\u001b[39m df_eda[\u001b[39m'\u001b[39m\u001b[39msqft_lot\u001b[39m\u001b[39m'\u001b[39m] \u001b[39m*\u001b[39m conversion_f\n\u001b[1;32m      8\u001b[0m df_eda[\u001b[39m'\u001b[39m\u001b[39msqm_above\u001b[39m\u001b[39m'\u001b[39m] \u001b[39m=\u001b[39m df_eda[\u001b[39m'\u001b[39m\u001b[39msqft_above\u001b[39m\u001b[39m'\u001b[39m] \u001b[39m*\u001b[39m conversion_f\n",
      "File \u001b[0;32m~/repos/eda_mariusbosch/.venv/lib/python3.11/site-packages/pandas/core/frame.py:3761\u001b[0m, in \u001b[0;36mDataFrame.__getitem__\u001b[0;34m(self, key)\u001b[0m\n\u001b[1;32m   3759\u001b[0m \u001b[39mif\u001b[39;00m \u001b[39mself\u001b[39m\u001b[39m.\u001b[39mcolumns\u001b[39m.\u001b[39mnlevels \u001b[39m>\u001b[39m \u001b[39m1\u001b[39m:\n\u001b[1;32m   3760\u001b[0m     \u001b[39mreturn\u001b[39;00m \u001b[39mself\u001b[39m\u001b[39m.\u001b[39m_getitem_multilevel(key)\n\u001b[0;32m-> 3761\u001b[0m indexer \u001b[39m=\u001b[39m \u001b[39mself\u001b[39;49m\u001b[39m.\u001b[39;49mcolumns\u001b[39m.\u001b[39;49mget_loc(key)\n\u001b[1;32m   3762\u001b[0m \u001b[39mif\u001b[39;00m is_integer(indexer):\n\u001b[1;32m   3763\u001b[0m     indexer \u001b[39m=\u001b[39m [indexer]\n",
      "File \u001b[0;32m~/repos/eda_mariusbosch/.venv/lib/python3.11/site-packages/pandas/core/indexes/base.py:3654\u001b[0m, in \u001b[0;36mIndex.get_loc\u001b[0;34m(self, key)\u001b[0m\n\u001b[1;32m   3652\u001b[0m     \u001b[39mreturn\u001b[39;00m \u001b[39mself\u001b[39m\u001b[39m.\u001b[39m_engine\u001b[39m.\u001b[39mget_loc(casted_key)\n\u001b[1;32m   3653\u001b[0m \u001b[39mexcept\u001b[39;00m \u001b[39mKeyError\u001b[39;00m \u001b[39mas\u001b[39;00m err:\n\u001b[0;32m-> 3654\u001b[0m     \u001b[39mraise\u001b[39;00m \u001b[39mKeyError\u001b[39;00m(key) \u001b[39mfrom\u001b[39;00m \u001b[39merr\u001b[39;00m\n\u001b[1;32m   3655\u001b[0m \u001b[39mexcept\u001b[39;00m \u001b[39mTypeError\u001b[39;00m:\n\u001b[1;32m   3656\u001b[0m     \u001b[39m# If we have a listlike key, _check_indexing_error will raise\u001b[39;00m\n\u001b[1;32m   3657\u001b[0m     \u001b[39m#  InvalidIndexError. Otherwise we fall through and re-raise\u001b[39;00m\n\u001b[1;32m   3658\u001b[0m     \u001b[39m#  the TypeError.\u001b[39;00m\n\u001b[1;32m   3659\u001b[0m     \u001b[39mself\u001b[39m\u001b[39m.\u001b[39m_check_indexing_error(key)\n",
      "\u001b[0;31mKeyError\u001b[0m: 'sqft_living'"
     ]
    }
   ],
   "source": [
    "#Convert sqfeet to sqm\n",
    "\n",
    "conversion_f = 0.092903\n",
    "#display(df_eda.head(),df_eda_backup.head())\n",
    "#Conversion of living and lot to sqm\n",
    "df_eda['sqm_living'] = df_eda['sqft_living'] * conversion_f\n",
    "df_eda['sqm_lot'] = df_eda['sqft_lot'] * conversion_f\n",
    "df_eda['sqm_above'] = df_eda['sqft_above'] * conversion_f\n",
    "df_eda['sqm_basement'] = df_eda['sqft_basement'] * conversion_f\n",
    "df_eda['sqm_living15'] = df_eda['sqft_living15'] * conversion_f\n",
    "df_eda['sqm_lot15'] = df_eda['sqft_lot15'] * conversion_f\n",
    "\n",
    "#double check\n",
    "df_eda[['sqft_living', 'sqm_living', 'sqft_lot', 'sqm_lot']].head()\n",
    "\n",
    "#drop sqft columns\n",
    "df_eda.drop(columns=['sqft_living', 'sqft_lot','sqft_basement','sqft_above','sqft_living15','sqft_lot15'], inplace=True)\n",
    "#display(df_eda.head(),df_eda_backup.head())\n",
    "\n",
    "\n"
   ]
  },
  {
   "cell_type": "code",
   "execution_count": 138,
   "metadata": {},
   "outputs": [
    {
     "data": {
      "text/plain": [
       "date            0\n",
       "price           0\n",
       "house_id        0\n",
       "id              0\n",
       "id.1            0\n",
       "bedrooms        0\n",
       "bathrooms       0\n",
       "floors          0\n",
       "waterfront      0\n",
       "view            0\n",
       "condition       0\n",
       "grade           0\n",
       "yr_built        0\n",
       "yr_renovated    0\n",
       "zipcode         0\n",
       "lat             0\n",
       "long            0\n",
       "sqm_living      0\n",
       "sqm_lot         0\n",
       "sqm_above       0\n",
       "sqm_basement    0\n",
       "sqm_living15    0\n",
       "sqm_lot15       0\n",
       "dtype: int64"
      ]
     },
     "execution_count": 138,
     "metadata": {},
     "output_type": "execute_result"
    }
   ],
   "source": [
    "# import missingno\n",
    "import missingno as msno\n",
    "\n",
    "# display number of missing values per column\n",
    "df_eda.isna().sum()"
   ]
  },
  {
   "cell_type": "code",
   "execution_count": 185,
   "metadata": {},
   "outputs": [
    {
     "name": "stdout",
     "output_type": "stream",
     "text": [
      "<class 'pandas.core.frame.DataFrame'>\n",
      "Index: 146 entries, 49 to 21560\n",
      "Data columns (total 23 columns):\n",
      " #   Column        Non-Null Count  Dtype         \n",
      "---  ------        --------------  -----         \n",
      " 0   date          146 non-null    datetime64[ns]\n",
      " 1   price         146 non-null    float64       \n",
      " 2   house_id      146 non-null    int64         \n",
      " 3   id            146 non-null    int64         \n",
      " 4   id.1          146 non-null    int64         \n",
      " 5   bedrooms      146 non-null    float64       \n",
      " 6   bathrooms     146 non-null    float64       \n",
      " 7   floors        146 non-null    float64       \n",
      " 8   waterfront    146 non-null    float64       \n",
      " 9   view          146 non-null    float64       \n",
      " 10  condition     146 non-null    int64         \n",
      " 11  grade         146 non-null    int64         \n",
      " 12  yr_built      146 non-null    int64         \n",
      " 13  yr_renovated  146 non-null    float64       \n",
      " 14  zipcode       146 non-null    int64         \n",
      " 15  lat           146 non-null    float64       \n",
      " 16  long          146 non-null    float64       \n",
      " 17  sqm_living    146 non-null    float64       \n",
      " 18  sqm_lot       146 non-null    float64       \n",
      " 19  sqm_above     146 non-null    float64       \n",
      " 20  sqm_basement  146 non-null    float64       \n",
      " 21  sqm_living15  146 non-null    float64       \n",
      " 22  sqm_lot15     146 non-null    float64       \n",
      "dtypes: datetime64[ns](1), float64(15), int64(7)\n",
      "memory usage: 27.4 KB\n"
     ]
    },
    {
     "data": {
      "text/plain": [
       "None"
      ]
     },
     "metadata": {},
     "output_type": "display_data"
    }
   ],
   "source": [
    "#only Waterfront, renovated\n",
    "df_w = df_eda.query('waterfront == 1 ')\n",
    "df_wnr = df_eda.query('waterfront == 1 & yr_renovated < 1')\n",
    "display(df_w.info())"
   ]
  },
  {
   "cell_type": "markdown",
   "metadata": {},
   "source": [
    "### Data exploration"
   ]
  },
  {
   "cell_type": "code",
   "execution_count": 150,
   "metadata": {},
   "outputs": [
    {
     "name": "stdout",
     "output_type": "stream",
     "text": [
      "<class 'pandas.core.frame.DataFrame'>\n",
      "Index: 146 entries, 49 to 21560\n",
      "Data columns (total 23 columns):\n",
      " #   Column        Non-Null Count  Dtype         \n",
      "---  ------        --------------  -----         \n",
      " 0   date          146 non-null    datetime64[ns]\n",
      " 1   price         146 non-null    float64       \n",
      " 2   house_id      146 non-null    int64         \n",
      " 3   id            146 non-null    int64         \n",
      " 4   id.1          146 non-null    int64         \n",
      " 5   bedrooms      146 non-null    float64       \n",
      " 6   bathrooms     146 non-null    float64       \n",
      " 7   floors        146 non-null    float64       \n",
      " 8   waterfront    146 non-null    float64       \n",
      " 9   view          146 non-null    float64       \n",
      " 10  condition     146 non-null    int64         \n",
      " 11  grade         146 non-null    int64         \n",
      " 12  yr_built      146 non-null    int64         \n",
      " 13  yr_renovated  146 non-null    float64       \n",
      " 14  zipcode       146 non-null    int64         \n",
      " 15  lat           146 non-null    float64       \n",
      " 16  long          146 non-null    float64       \n",
      " 17  sqm_living    146 non-null    float64       \n",
      " 18  sqm_lot       146 non-null    float64       \n",
      " 19  sqm_above     146 non-null    float64       \n",
      " 20  sqm_basement  146 non-null    float64       \n",
      " 21  sqm_living15  146 non-null    float64       \n",
      " 22  sqm_lot15     146 non-null    float64       \n",
      "dtypes: datetime64[ns](1), float64(15), int64(7)\n",
      "memory usage: 27.4 KB\n"
     ]
    },
    {
     "data": {
      "text/html": [
       "<div>\n",
       "<style scoped>\n",
       "    .dataframe tbody tr th:only-of-type {\n",
       "        vertical-align: middle;\n",
       "    }\n",
       "\n",
       "    .dataframe tbody tr th {\n",
       "        vertical-align: top;\n",
       "    }\n",
       "\n",
       "    .dataframe thead th {\n",
       "        text-align: right;\n",
       "    }\n",
       "</style>\n",
       "<table border=\"1\" class=\"dataframe\">\n",
       "  <thead>\n",
       "    <tr style=\"text-align: right;\">\n",
       "      <th></th>\n",
       "      <th>date</th>\n",
       "      <th>price</th>\n",
       "      <th>house_id</th>\n",
       "      <th>id</th>\n",
       "      <th>id.1</th>\n",
       "      <th>bedrooms</th>\n",
       "      <th>bathrooms</th>\n",
       "      <th>floors</th>\n",
       "      <th>waterfront</th>\n",
       "      <th>view</th>\n",
       "      <th>...</th>\n",
       "      <th>yr_renovated</th>\n",
       "      <th>zipcode</th>\n",
       "      <th>lat</th>\n",
       "      <th>long</th>\n",
       "      <th>sqm_living</th>\n",
       "      <th>sqm_lot</th>\n",
       "      <th>sqm_above</th>\n",
       "      <th>sqm_basement</th>\n",
       "      <th>sqm_living15</th>\n",
       "      <th>sqm_lot15</th>\n",
       "    </tr>\n",
       "  </thead>\n",
       "  <tbody>\n",
       "    <tr>\n",
       "      <th>49</th>\n",
       "      <td>2015-03-11</td>\n",
       "      <td>1350000.000</td>\n",
       "      <td>822039084</td>\n",
       "      <td>50</td>\n",
       "      <td>822039084</td>\n",
       "      <td>3.000</td>\n",
       "      <td>2.500</td>\n",
       "      <td>1.000</td>\n",
       "      <td>1.000</td>\n",
       "      <td>2.000</td>\n",
       "      <td>...</td>\n",
       "      <td>0.000</td>\n",
       "      <td>98070</td>\n",
       "      <td>47.404</td>\n",
       "      <td>-122.451</td>\n",
       "      <td>255.762</td>\n",
       "      <td>6039.160</td>\n",
       "      <td>201.135</td>\n",
       "      <td>54.627</td>\n",
       "      <td>248.980</td>\n",
       "      <td>6736.675</td>\n",
       "    </tr>\n",
       "    <tr>\n",
       "      <th>230</th>\n",
       "      <td>2015-04-13</td>\n",
       "      <td>655000.000</td>\n",
       "      <td>8096000060</td>\n",
       "      <td>231</td>\n",
       "      <td>8096000060</td>\n",
       "      <td>2.000</td>\n",
       "      <td>1.750</td>\n",
       "      <td>2.000</td>\n",
       "      <td>1.000</td>\n",
       "      <td>4.000</td>\n",
       "      <td>...</td>\n",
       "      <td>19780.000</td>\n",
       "      <td>98166</td>\n",
       "      <td>47.450</td>\n",
       "      <td>-122.375</td>\n",
       "      <td>134.709</td>\n",
       "      <td>1467.682</td>\n",
       "      <td>114.271</td>\n",
       "      <td>20.439</td>\n",
       "      <td>188.593</td>\n",
       "      <td>1225.669</td>\n",
       "    </tr>\n",
       "    <tr>\n",
       "      <th>246</th>\n",
       "      <td>2014-09-29</td>\n",
       "      <td>2400000.000</td>\n",
       "      <td>2025069065</td>\n",
       "      <td>247</td>\n",
       "      <td>2025069065</td>\n",
       "      <td>4.000</td>\n",
       "      <td>2.500</td>\n",
       "      <td>1.000</td>\n",
       "      <td>1.000</td>\n",
       "      <td>4.000</td>\n",
       "      <td>...</td>\n",
       "      <td>0.000</td>\n",
       "      <td>98074</td>\n",
       "      <td>47.634</td>\n",
       "      <td>-122.072</td>\n",
       "      <td>339.096</td>\n",
       "      <td>776.112</td>\n",
       "      <td>170.012</td>\n",
       "      <td>169.083</td>\n",
       "      <td>289.857</td>\n",
       "      <td>1750.385</td>\n",
       "    </tr>\n",
       "    <tr>\n",
       "      <th>264</th>\n",
       "      <td>2014-10-27</td>\n",
       "      <td>369900.000</td>\n",
       "      <td>2123039032</td>\n",
       "      <td>265</td>\n",
       "      <td>2123039032</td>\n",
       "      <td>1.000</td>\n",
       "      <td>0.750</td>\n",
       "      <td>1.000</td>\n",
       "      <td>1.000</td>\n",
       "      <td>4.000</td>\n",
       "      <td>...</td>\n",
       "      <td>0.000</td>\n",
       "      <td>98070</td>\n",
       "      <td>47.468</td>\n",
       "      <td>-122.438</td>\n",
       "      <td>70.606</td>\n",
       "      <td>936.369</td>\n",
       "      <td>70.606</td>\n",
       "      <td>0.000</td>\n",
       "      <td>114.271</td>\n",
       "      <td>1325.447</td>\n",
       "    </tr>\n",
       "    <tr>\n",
       "      <th>300</th>\n",
       "      <td>2014-06-24</td>\n",
       "      <td>3080000.000</td>\n",
       "      <td>3225069065</td>\n",
       "      <td>301</td>\n",
       "      <td>3225069065</td>\n",
       "      <td>4.000</td>\n",
       "      <td>5.000</td>\n",
       "      <td>1.000</td>\n",
       "      <td>1.000</td>\n",
       "      <td>4.000</td>\n",
       "      <td>...</td>\n",
       "      <td>0.000</td>\n",
       "      <td>98074</td>\n",
       "      <td>47.605</td>\n",
       "      <td>-122.077</td>\n",
       "      <td>422.709</td>\n",
       "      <td>1731.805</td>\n",
       "      <td>241.548</td>\n",
       "      <td>181.161</td>\n",
       "      <td>422.709</td>\n",
       "      <td>1812.352</td>\n",
       "    </tr>\n",
       "  </tbody>\n",
       "</table>\n",
       "<p>5 rows × 23 columns</p>\n",
       "</div>"
      ],
      "text/plain": [
       "          date       price    house_id   id        id.1  bedrooms  bathrooms  \\\n",
       "49  2015-03-11 1350000.000   822039084   50   822039084     3.000      2.500   \n",
       "230 2015-04-13  655000.000  8096000060  231  8096000060     2.000      1.750   \n",
       "246 2014-09-29 2400000.000  2025069065  247  2025069065     4.000      2.500   \n",
       "264 2014-10-27  369900.000  2123039032  265  2123039032     1.000      0.750   \n",
       "300 2014-06-24 3080000.000  3225069065  301  3225069065     4.000      5.000   \n",
       "\n",
       "     floors  waterfront  view  ...  yr_renovated  zipcode    lat     long  \\\n",
       "49    1.000       1.000 2.000  ...         0.000    98070 47.404 -122.451   \n",
       "230   2.000       1.000 4.000  ...     19780.000    98166 47.450 -122.375   \n",
       "246   1.000       1.000 4.000  ...         0.000    98074 47.634 -122.072   \n",
       "264   1.000       1.000 4.000  ...         0.000    98070 47.468 -122.438   \n",
       "300   1.000       1.000 4.000  ...         0.000    98074 47.605 -122.077   \n",
       "\n",
       "     sqm_living  sqm_lot  sqm_above  sqm_basement  sqm_living15  sqm_lot15  \n",
       "49      255.762 6039.160    201.135        54.627       248.980   6736.675  \n",
       "230     134.709 1467.682    114.271        20.439       188.593   1225.669  \n",
       "246     339.096  776.112    170.012       169.083       289.857   1750.385  \n",
       "264      70.606  936.369     70.606         0.000       114.271   1325.447  \n",
       "300     422.709 1731.805    241.548       181.161       422.709   1812.352  \n",
       "\n",
       "[5 rows x 23 columns]"
      ]
     },
     "metadata": {},
     "output_type": "display_data"
    },
    {
     "data": {
      "text/plain": [
       "None"
      ]
     },
     "metadata": {},
     "output_type": "display_data"
    },
    {
     "data": {
      "text/html": [
       "<div>\n",
       "<style scoped>\n",
       "    .dataframe tbody tr th:only-of-type {\n",
       "        vertical-align: middle;\n",
       "    }\n",
       "\n",
       "    .dataframe tbody tr th {\n",
       "        vertical-align: top;\n",
       "    }\n",
       "\n",
       "    .dataframe thead th {\n",
       "        text-align: right;\n",
       "    }\n",
       "</style>\n",
       "<table border=\"1\" class=\"dataframe\">\n",
       "  <thead>\n",
       "    <tr style=\"text-align: right;\">\n",
       "      <th></th>\n",
       "      <th>date</th>\n",
       "      <th>price</th>\n",
       "      <th>house_id</th>\n",
       "      <th>id</th>\n",
       "      <th>id.1</th>\n",
       "      <th>bedrooms</th>\n",
       "      <th>bathrooms</th>\n",
       "      <th>floors</th>\n",
       "      <th>waterfront</th>\n",
       "      <th>view</th>\n",
       "      <th>...</th>\n",
       "      <th>yr_renovated</th>\n",
       "      <th>zipcode</th>\n",
       "      <th>lat</th>\n",
       "      <th>long</th>\n",
       "      <th>sqm_living</th>\n",
       "      <th>sqm_lot</th>\n",
       "      <th>sqm_above</th>\n",
       "      <th>sqm_basement</th>\n",
       "      <th>sqm_living15</th>\n",
       "      <th>sqm_lot15</th>\n",
       "    </tr>\n",
       "  </thead>\n",
       "  <tbody>\n",
       "    <tr>\n",
       "      <th>count</th>\n",
       "      <td>146</td>\n",
       "      <td>146.000</td>\n",
       "      <td>146.000</td>\n",
       "      <td>146.000</td>\n",
       "      <td>146.000</td>\n",
       "      <td>146.000</td>\n",
       "      <td>146.000</td>\n",
       "      <td>146.000</td>\n",
       "      <td>146.000</td>\n",
       "      <td>146.000</td>\n",
       "      <td>...</td>\n",
       "      <td>146.000</td>\n",
       "      <td>146.000</td>\n",
       "      <td>146.000</td>\n",
       "      <td>146.000</td>\n",
       "      <td>146.000</td>\n",
       "      <td>146.000</td>\n",
       "      <td>146.000</td>\n",
       "      <td>146.000</td>\n",
       "      <td>146.000</td>\n",
       "      <td>146.000</td>\n",
       "    </tr>\n",
       "    <tr>\n",
       "      <th>mean</th>\n",
       "      <td>2014-10-29 16:16:26.301369856</td>\n",
       "      <td>1717214.726</td>\n",
       "      <td>4454968693.048</td>\n",
       "      <td>10216.966</td>\n",
       "      <td>4454968693.048</td>\n",
       "      <td>3.349</td>\n",
       "      <td>2.709</td>\n",
       "      <td>1.630</td>\n",
       "      <td>1.000</td>\n",
       "      <td>3.760</td>\n",
       "      <td>...</td>\n",
       "      <td>3950.137</td>\n",
       "      <td>98096.712</td>\n",
       "      <td>47.540</td>\n",
       "      <td>-122.278</td>\n",
       "      <td>301.447</td>\n",
       "      <td>2403.483</td>\n",
       "      <td>233.071</td>\n",
       "      <td>67.676</td>\n",
       "      <td>249.243</td>\n",
       "      <td>2126.893</td>\n",
       "    </tr>\n",
       "    <tr>\n",
       "      <th>min</th>\n",
       "      <td>2014-05-08 00:00:00</td>\n",
       "      <td>285000.000</td>\n",
       "      <td>121029034.000</td>\n",
       "      <td>50.000</td>\n",
       "      <td>121029034.000</td>\n",
       "      <td>1.000</td>\n",
       "      <td>0.750</td>\n",
       "      <td>1.000</td>\n",
       "      <td>1.000</td>\n",
       "      <td>0.000</td>\n",
       "      <td>...</td>\n",
       "      <td>0.000</td>\n",
       "      <td>98004.000</td>\n",
       "      <td>47.328</td>\n",
       "      <td>-122.514</td>\n",
       "      <td>40.877</td>\n",
       "      <td>184.784</td>\n",
       "      <td>40.877</td>\n",
       "      <td>0.000</td>\n",
       "      <td>69.677</td>\n",
       "      <td>300.077</td>\n",
       "    </tr>\n",
       "    <tr>\n",
       "      <th>25%</th>\n",
       "      <td>2014-07-23 06:00:00</td>\n",
       "      <td>827500.000</td>\n",
       "      <td>2016368797.000</td>\n",
       "      <td>4235.750</td>\n",
       "      <td>2016368797.000</td>\n",
       "      <td>3.000</td>\n",
       "      <td>1.812</td>\n",
       "      <td>1.000</td>\n",
       "      <td>1.000</td>\n",
       "      <td>4.000</td>\n",
       "      <td>...</td>\n",
       "      <td>0.000</td>\n",
       "      <td>98040.000</td>\n",
       "      <td>47.453</td>\n",
       "      <td>-122.376</td>\n",
       "      <td>193.470</td>\n",
       "      <td>1086.245</td>\n",
       "      <td>145.393</td>\n",
       "      <td>0.000</td>\n",
       "      <td>192.774</td>\n",
       "      <td>1114.046</td>\n",
       "    </tr>\n",
       "    <tr>\n",
       "      <th>50%</th>\n",
       "      <td>2014-10-25 00:00:00</td>\n",
       "      <td>1510000.000</td>\n",
       "      <td>3692779634.000</td>\n",
       "      <td>10642.000</td>\n",
       "      <td>3692779634.000</td>\n",
       "      <td>3.000</td>\n",
       "      <td>2.500</td>\n",
       "      <td>2.000</td>\n",
       "      <td>1.000</td>\n",
       "      <td>4.000</td>\n",
       "      <td>...</td>\n",
       "      <td>0.000</td>\n",
       "      <td>98075.000</td>\n",
       "      <td>47.548</td>\n",
       "      <td>-122.273</td>\n",
       "      <td>269.419</td>\n",
       "      <td>1647.217</td>\n",
       "      <td>204.387</td>\n",
       "      <td>49.703</td>\n",
       "      <td>250.374</td>\n",
       "      <td>1510.649</td>\n",
       "    </tr>\n",
       "    <tr>\n",
       "      <th>75%</th>\n",
       "      <td>2015-01-27 18:00:00</td>\n",
       "      <td>2282500.000</td>\n",
       "      <td>7390450150.000</td>\n",
       "      <td>15778.750</td>\n",
       "      <td>7390450150.000</td>\n",
       "      <td>4.000</td>\n",
       "      <td>3.250</td>\n",
       "      <td>2.000</td>\n",
       "      <td>1.000</td>\n",
       "      <td>4.000</td>\n",
       "      <td>...</td>\n",
       "      <td>0.000</td>\n",
       "      <td>98155.000</td>\n",
       "      <td>47.608</td>\n",
       "      <td>-122.210</td>\n",
       "      <td>382.528</td>\n",
       "      <td>2479.813</td>\n",
       "      <td>299.148</td>\n",
       "      <td>117.522</td>\n",
       "      <td>291.715</td>\n",
       "      <td>2279.607</td>\n",
       "    </tr>\n",
       "    <tr>\n",
       "      <th>max</th>\n",
       "      <td>2015-05-11 00:00:00</td>\n",
       "      <td>7060000.000</td>\n",
       "      <td>9808700762.000</td>\n",
       "      <td>21561.000</td>\n",
       "      <td>9808700762.000</td>\n",
       "      <td>6.000</td>\n",
       "      <td>6.750</td>\n",
       "      <td>3.000</td>\n",
       "      <td>1.000</td>\n",
       "      <td>4.000</td>\n",
       "      <td>...</td>\n",
       "      <td>20090.000</td>\n",
       "      <td>98199.000</td>\n",
       "      <td>47.773</td>\n",
       "      <td>-122.059</td>\n",
       "      <td>932.746</td>\n",
       "      <td>46931.437</td>\n",
       "      <td>713.495</td>\n",
       "      <td>447.792</td>\n",
       "      <td>456.432</td>\n",
       "      <td>17862.274</td>\n",
       "    </tr>\n",
       "    <tr>\n",
       "      <th>std</th>\n",
       "      <td>NaN</td>\n",
       "      <td>1145384.857</td>\n",
       "      <td>2858044756.510</td>\n",
       "      <td>6427.840</td>\n",
       "      <td>2858044756.510</td>\n",
       "      <td>1.099</td>\n",
       "      <td>1.122</td>\n",
       "      <td>0.548</td>\n",
       "      <td>0.000</td>\n",
       "      <td>0.636</td>\n",
       "      <td>...</td>\n",
       "      <td>7961.740</td>\n",
       "      <td>60.600</td>\n",
       "      <td>0.114</td>\n",
       "      <td>0.124</td>\n",
       "      <td>153.488</td>\n",
       "      <td>4146.175</td>\n",
       "      <td>119.261</td>\n",
       "      <td>75.067</td>\n",
       "      <td>75.104</td>\n",
       "      <td>2161.303</td>\n",
       "    </tr>\n",
       "  </tbody>\n",
       "</table>\n",
       "<p>8 rows × 23 columns</p>\n",
       "</div>"
      ],
      "text/plain": [
       "                                date       price       house_id        id  \\\n",
       "count                            146     146.000        146.000   146.000   \n",
       "mean   2014-10-29 16:16:26.301369856 1717214.726 4454968693.048 10216.966   \n",
       "min              2014-05-08 00:00:00  285000.000  121029034.000    50.000   \n",
       "25%              2014-07-23 06:00:00  827500.000 2016368797.000  4235.750   \n",
       "50%              2014-10-25 00:00:00 1510000.000 3692779634.000 10642.000   \n",
       "75%              2015-01-27 18:00:00 2282500.000 7390450150.000 15778.750   \n",
       "max              2015-05-11 00:00:00 7060000.000 9808700762.000 21561.000   \n",
       "std                              NaN 1145384.857 2858044756.510  6427.840   \n",
       "\n",
       "                id.1  bedrooms  bathrooms  floors  waterfront    view  ...  \\\n",
       "count        146.000   146.000    146.000 146.000     146.000 146.000  ...   \n",
       "mean  4454968693.048     3.349      2.709   1.630       1.000   3.760  ...   \n",
       "min    121029034.000     1.000      0.750   1.000       1.000   0.000  ...   \n",
       "25%   2016368797.000     3.000      1.812   1.000       1.000   4.000  ...   \n",
       "50%   3692779634.000     3.000      2.500   2.000       1.000   4.000  ...   \n",
       "75%   7390450150.000     4.000      3.250   2.000       1.000   4.000  ...   \n",
       "max   9808700762.000     6.000      6.750   3.000       1.000   4.000  ...   \n",
       "std   2858044756.510     1.099      1.122   0.548       0.000   0.636  ...   \n",
       "\n",
       "       yr_renovated   zipcode     lat     long  sqm_living   sqm_lot  \\\n",
       "count       146.000   146.000 146.000  146.000     146.000   146.000   \n",
       "mean       3950.137 98096.712  47.540 -122.278     301.447  2403.483   \n",
       "min           0.000 98004.000  47.328 -122.514      40.877   184.784   \n",
       "25%           0.000 98040.000  47.453 -122.376     193.470  1086.245   \n",
       "50%           0.000 98075.000  47.548 -122.273     269.419  1647.217   \n",
       "75%           0.000 98155.000  47.608 -122.210     382.528  2479.813   \n",
       "max       20090.000 98199.000  47.773 -122.059     932.746 46931.437   \n",
       "std        7961.740    60.600   0.114    0.124     153.488  4146.175   \n",
       "\n",
       "       sqm_above  sqm_basement  sqm_living15  sqm_lot15  \n",
       "count    146.000       146.000       146.000    146.000  \n",
       "mean     233.071        67.676       249.243   2126.893  \n",
       "min       40.877         0.000        69.677    300.077  \n",
       "25%      145.393         0.000       192.774   1114.046  \n",
       "50%      204.387        49.703       250.374   1510.649  \n",
       "75%      299.148       117.522       291.715   2279.607  \n",
       "max      713.495       447.792       456.432  17862.274  \n",
       "std      119.261        75.067        75.104   2161.303  \n",
       "\n",
       "[8 rows x 23 columns]"
      ]
     },
     "metadata": {},
     "output_type": "display_data"
    },
    {
     "data": {
      "text/plain": [
       "(146, 23)"
      ]
     },
     "metadata": {},
     "output_type": "display_data"
    },
    {
     "name": "stdout",
     "output_type": "stream",
     "text": [
      "count       146.000\n",
      "mean    1717214.726\n",
      "std     1145384.857\n",
      "min      285000.000\n",
      "25%      827500.000\n",
      "50%     1510000.000\n",
      "75%     2282500.000\n",
      "max     7060000.000\n",
      "Name: price, dtype: float64\n"
     ]
    },
    {
     "data": {
      "text/html": [
       "<div>\n",
       "<style scoped>\n",
       "    .dataframe tbody tr th:only-of-type {\n",
       "        vertical-align: middle;\n",
       "    }\n",
       "\n",
       "    .dataframe tbody tr th {\n",
       "        vertical-align: top;\n",
       "    }\n",
       "\n",
       "    .dataframe thead th {\n",
       "        text-align: right;\n",
       "    }\n",
       "</style>\n",
       "<table border=\"1\" class=\"dataframe\">\n",
       "  <thead>\n",
       "    <tr style=\"text-align: right;\">\n",
       "      <th></th>\n",
       "      <th>date</th>\n",
       "      <th>price</th>\n",
       "      <th>house_id</th>\n",
       "      <th>id</th>\n",
       "      <th>id.1</th>\n",
       "      <th>bedrooms</th>\n",
       "      <th>bathrooms</th>\n",
       "      <th>floors</th>\n",
       "      <th>waterfront</th>\n",
       "      <th>view</th>\n",
       "      <th>...</th>\n",
       "      <th>yr_renovated</th>\n",
       "      <th>zipcode</th>\n",
       "      <th>lat</th>\n",
       "      <th>long</th>\n",
       "      <th>sqm_living</th>\n",
       "      <th>sqm_lot</th>\n",
       "      <th>sqm_above</th>\n",
       "      <th>sqm_basement</th>\n",
       "      <th>sqm_living15</th>\n",
       "      <th>sqm_lot15</th>\n",
       "    </tr>\n",
       "  </thead>\n",
       "  <tbody>\n",
       "    <tr>\n",
       "      <th>49</th>\n",
       "      <td>2015-03-11</td>\n",
       "      <td>1350000.000</td>\n",
       "      <td>822039084</td>\n",
       "      <td>50</td>\n",
       "      <td>822039084</td>\n",
       "      <td>3.000</td>\n",
       "      <td>2.500</td>\n",
       "      <td>1.000</td>\n",
       "      <td>1.000</td>\n",
       "      <td>2.000</td>\n",
       "      <td>...</td>\n",
       "      <td>0.000</td>\n",
       "      <td>98070</td>\n",
       "      <td>47.404</td>\n",
       "      <td>-122.451</td>\n",
       "      <td>255.762</td>\n",
       "      <td>6039.160</td>\n",
       "      <td>201.135</td>\n",
       "      <td>54.627</td>\n",
       "      <td>248.980</td>\n",
       "      <td>6736.675</td>\n",
       "    </tr>\n",
       "    <tr>\n",
       "      <th>230</th>\n",
       "      <td>2015-04-13</td>\n",
       "      <td>655000.000</td>\n",
       "      <td>8096000060</td>\n",
       "      <td>231</td>\n",
       "      <td>8096000060</td>\n",
       "      <td>2.000</td>\n",
       "      <td>1.750</td>\n",
       "      <td>2.000</td>\n",
       "      <td>1.000</td>\n",
       "      <td>4.000</td>\n",
       "      <td>...</td>\n",
       "      <td>19780.000</td>\n",
       "      <td>98166</td>\n",
       "      <td>47.450</td>\n",
       "      <td>-122.375</td>\n",
       "      <td>134.709</td>\n",
       "      <td>1467.682</td>\n",
       "      <td>114.271</td>\n",
       "      <td>20.439</td>\n",
       "      <td>188.593</td>\n",
       "      <td>1225.669</td>\n",
       "    </tr>\n",
       "    <tr>\n",
       "      <th>246</th>\n",
       "      <td>2014-09-29</td>\n",
       "      <td>2400000.000</td>\n",
       "      <td>2025069065</td>\n",
       "      <td>247</td>\n",
       "      <td>2025069065</td>\n",
       "      <td>4.000</td>\n",
       "      <td>2.500</td>\n",
       "      <td>1.000</td>\n",
       "      <td>1.000</td>\n",
       "      <td>4.000</td>\n",
       "      <td>...</td>\n",
       "      <td>0.000</td>\n",
       "      <td>98074</td>\n",
       "      <td>47.634</td>\n",
       "      <td>-122.072</td>\n",
       "      <td>339.096</td>\n",
       "      <td>776.112</td>\n",
       "      <td>170.012</td>\n",
       "      <td>169.083</td>\n",
       "      <td>289.857</td>\n",
       "      <td>1750.385</td>\n",
       "    </tr>\n",
       "    <tr>\n",
       "      <th>264</th>\n",
       "      <td>2014-10-27</td>\n",
       "      <td>369900.000</td>\n",
       "      <td>2123039032</td>\n",
       "      <td>265</td>\n",
       "      <td>2123039032</td>\n",
       "      <td>1.000</td>\n",
       "      <td>0.750</td>\n",
       "      <td>1.000</td>\n",
       "      <td>1.000</td>\n",
       "      <td>4.000</td>\n",
       "      <td>...</td>\n",
       "      <td>0.000</td>\n",
       "      <td>98070</td>\n",
       "      <td>47.468</td>\n",
       "      <td>-122.438</td>\n",
       "      <td>70.606</td>\n",
       "      <td>936.369</td>\n",
       "      <td>70.606</td>\n",
       "      <td>0.000</td>\n",
       "      <td>114.271</td>\n",
       "      <td>1325.447</td>\n",
       "    </tr>\n",
       "    <tr>\n",
       "      <th>300</th>\n",
       "      <td>2014-06-24</td>\n",
       "      <td>3080000.000</td>\n",
       "      <td>3225069065</td>\n",
       "      <td>301</td>\n",
       "      <td>3225069065</td>\n",
       "      <td>4.000</td>\n",
       "      <td>5.000</td>\n",
       "      <td>1.000</td>\n",
       "      <td>1.000</td>\n",
       "      <td>4.000</td>\n",
       "      <td>...</td>\n",
       "      <td>0.000</td>\n",
       "      <td>98074</td>\n",
       "      <td>47.605</td>\n",
       "      <td>-122.077</td>\n",
       "      <td>422.709</td>\n",
       "      <td>1731.805</td>\n",
       "      <td>241.548</td>\n",
       "      <td>181.161</td>\n",
       "      <td>422.709</td>\n",
       "      <td>1812.352</td>\n",
       "    </tr>\n",
       "  </tbody>\n",
       "</table>\n",
       "<p>5 rows × 23 columns</p>\n",
       "</div>"
      ],
      "text/plain": [
       "          date       price    house_id   id        id.1  bedrooms  bathrooms  \\\n",
       "49  2015-03-11 1350000.000   822039084   50   822039084     3.000      2.500   \n",
       "230 2015-04-13  655000.000  8096000060  231  8096000060     2.000      1.750   \n",
       "246 2014-09-29 2400000.000  2025069065  247  2025069065     4.000      2.500   \n",
       "264 2014-10-27  369900.000  2123039032  265  2123039032     1.000      0.750   \n",
       "300 2014-06-24 3080000.000  3225069065  301  3225069065     4.000      5.000   \n",
       "\n",
       "     floors  waterfront  view  ...  yr_renovated  zipcode    lat     long  \\\n",
       "49    1.000       1.000 2.000  ...         0.000    98070 47.404 -122.451   \n",
       "230   2.000       1.000 4.000  ...     19780.000    98166 47.450 -122.375   \n",
       "246   1.000       1.000 4.000  ...         0.000    98074 47.634 -122.072   \n",
       "264   1.000       1.000 4.000  ...         0.000    98070 47.468 -122.438   \n",
       "300   1.000       1.000 4.000  ...         0.000    98074 47.605 -122.077   \n",
       "\n",
       "     sqm_living  sqm_lot  sqm_above  sqm_basement  sqm_living15  sqm_lot15  \n",
       "49      255.762 6039.160    201.135        54.627       248.980   6736.675  \n",
       "230     134.709 1467.682    114.271        20.439       188.593   1225.669  \n",
       "246     339.096  776.112    170.012       169.083       289.857   1750.385  \n",
       "264      70.606  936.369     70.606         0.000       114.271   1325.447  \n",
       "300     422.709 1731.805    241.548       181.161       422.709   1812.352  \n",
       "\n",
       "[5 rows x 23 columns]"
      ]
     },
     "execution_count": 150,
     "metadata": {},
     "output_type": "execute_result"
    },
    {
     "data": {
      "text/plain": [
       "<Figure size 900x800 with 0 Axes>"
      ]
     },
     "metadata": {},
     "output_type": "display_data"
    }
   ],
   "source": [
    "display(df_wnr.head(), df_wnr.info(), df_wnr.describe(), df_wnr.shape)\n",
    "\n",
    "\n",
    "print(df_wnr['price'].describe())\n",
    "plt.figure(figsize=(9, 8))\n",
    "df_wnr.head()\n"
   ]
  },
  {
   "cell_type": "markdown",
   "metadata": {},
   "source": [
    "# Initial considerations:\n",
    "\n",
    "* What means high budget? --> at least over 3rd quartile\n",
    "* What means show off? --> don't care too much about bedrooms, sqm, etc. --> only thing important is --> sqm lot largest vs sqm lot15\n",
    "* Waterfront = 1\n",
    "* Renovated = yes, and when?\n",
    "* Built = when?\n",
    "* What are high grades?\n",
    "* What means reselling within a year --> likes an area where prices are comparably high for similar houses\n",
    "\n",
    "# Assumptions\n",
    "\n",
    "\n",
    "* **Budget: --> 0.9 Quantile --> 880k +-150k**\n",
    "* **Waterfront = 1**\n",
    "* **Renovated = 1, tbd**\n",
    "* **Grades --> 0.9 Quantile --> >= 9**\n",
    "* **Condition --> 0.9 Quantile --> >= 4**\n",
    "* **Show off -->**\n",
    "\n",
    "## Recommendations\n",
    "\n",
    "* Adjust search pattern, not only to renovated house (correlation renovated to grade) - Check\n",
    "* What are designated ares to look for (good for show off, few water front houses, area filled with expensive houses)\n",
    "* 5 objects to choose from (how do prices compare to houses in the area of similar size with no waterfront)\n"
   ]
  },
  {
   "cell_type": "code",
   "execution_count": 186,
   "metadata": {},
   "outputs": [
    {
     "data": {
      "text/html": [
       "<div>\n",
       "<style scoped>\n",
       "    .dataframe tbody tr th:only-of-type {\n",
       "        vertical-align: middle;\n",
       "    }\n",
       "\n",
       "    .dataframe tbody tr th {\n",
       "        vertical-align: top;\n",
       "    }\n",
       "\n",
       "    .dataframe thead th {\n",
       "        text-align: right;\n",
       "    }\n",
       "</style>\n",
       "<table border=\"1\" class=\"dataframe\">\n",
       "  <thead>\n",
       "    <tr style=\"text-align: right;\">\n",
       "      <th></th>\n",
       "      <th>date</th>\n",
       "      <th>price</th>\n",
       "      <th>house_id</th>\n",
       "      <th>id</th>\n",
       "      <th>id.1</th>\n",
       "      <th>bedrooms</th>\n",
       "      <th>bathrooms</th>\n",
       "      <th>floors</th>\n",
       "      <th>waterfront</th>\n",
       "      <th>view</th>\n",
       "      <th>...</th>\n",
       "      <th>yr_renovated</th>\n",
       "      <th>zipcode</th>\n",
       "      <th>lat</th>\n",
       "      <th>long</th>\n",
       "      <th>sqm_living</th>\n",
       "      <th>sqm_lot</th>\n",
       "      <th>sqm_above</th>\n",
       "      <th>sqm_basement</th>\n",
       "      <th>sqm_living15</th>\n",
       "      <th>sqm_lot15</th>\n",
       "    </tr>\n",
       "  </thead>\n",
       "  <tbody>\n",
       "    <tr>\n",
       "      <th>49</th>\n",
       "      <td>2015-03-11</td>\n",
       "      <td>1350000.000</td>\n",
       "      <td>822039084</td>\n",
       "      <td>50</td>\n",
       "      <td>822039084</td>\n",
       "      <td>3.000</td>\n",
       "      <td>2.500</td>\n",
       "      <td>1.000</td>\n",
       "      <td>1.000</td>\n",
       "      <td>2.000</td>\n",
       "      <td>...</td>\n",
       "      <td>0.000</td>\n",
       "      <td>98070</td>\n",
       "      <td>47.404</td>\n",
       "      <td>-122.451</td>\n",
       "      <td>255.762</td>\n",
       "      <td>6039.160</td>\n",
       "      <td>201.135</td>\n",
       "      <td>54.627</td>\n",
       "      <td>248.980</td>\n",
       "      <td>6736.675</td>\n",
       "    </tr>\n",
       "    <tr>\n",
       "      <th>246</th>\n",
       "      <td>2014-09-29</td>\n",
       "      <td>2400000.000</td>\n",
       "      <td>2025069065</td>\n",
       "      <td>247</td>\n",
       "      <td>2025069065</td>\n",
       "      <td>4.000</td>\n",
       "      <td>2.500</td>\n",
       "      <td>1.000</td>\n",
       "      <td>1.000</td>\n",
       "      <td>4.000</td>\n",
       "      <td>...</td>\n",
       "      <td>0.000</td>\n",
       "      <td>98074</td>\n",
       "      <td>47.634</td>\n",
       "      <td>-122.072</td>\n",
       "      <td>339.096</td>\n",
       "      <td>776.112</td>\n",
       "      <td>170.012</td>\n",
       "      <td>169.083</td>\n",
       "      <td>289.857</td>\n",
       "      <td>1750.385</td>\n",
       "    </tr>\n",
       "    <tr>\n",
       "      <th>264</th>\n",
       "      <td>2014-10-27</td>\n",
       "      <td>369900.000</td>\n",
       "      <td>2123039032</td>\n",
       "      <td>265</td>\n",
       "      <td>2123039032</td>\n",
       "      <td>1.000</td>\n",
       "      <td>0.750</td>\n",
       "      <td>1.000</td>\n",
       "      <td>1.000</td>\n",
       "      <td>4.000</td>\n",
       "      <td>...</td>\n",
       "      <td>0.000</td>\n",
       "      <td>98070</td>\n",
       "      <td>47.468</td>\n",
       "      <td>-122.438</td>\n",
       "      <td>70.606</td>\n",
       "      <td>936.369</td>\n",
       "      <td>70.606</td>\n",
       "      <td>0.000</td>\n",
       "      <td>114.271</td>\n",
       "      <td>1325.447</td>\n",
       "    </tr>\n",
       "    <tr>\n",
       "      <th>300</th>\n",
       "      <td>2014-06-24</td>\n",
       "      <td>3080000.000</td>\n",
       "      <td>3225069065</td>\n",
       "      <td>301</td>\n",
       "      <td>3225069065</td>\n",
       "      <td>4.000</td>\n",
       "      <td>5.000</td>\n",
       "      <td>1.000</td>\n",
       "      <td>1.000</td>\n",
       "      <td>4.000</td>\n",
       "      <td>...</td>\n",
       "      <td>0.000</td>\n",
       "      <td>98074</td>\n",
       "      <td>47.605</td>\n",
       "      <td>-122.077</td>\n",
       "      <td>422.709</td>\n",
       "      <td>1731.805</td>\n",
       "      <td>241.548</td>\n",
       "      <td>181.161</td>\n",
       "      <td>422.709</td>\n",
       "      <td>1812.352</td>\n",
       "    </tr>\n",
       "    <tr>\n",
       "      <th>457</th>\n",
       "      <td>2014-11-26</td>\n",
       "      <td>705000.000</td>\n",
       "      <td>2122039094</td>\n",
       "      <td>458</td>\n",
       "      <td>2122039094</td>\n",
       "      <td>3.000</td>\n",
       "      <td>3.000</td>\n",
       "      <td>2.000</td>\n",
       "      <td>1.000</td>\n",
       "      <td>3.000</td>\n",
       "      <td>...</td>\n",
       "      <td>0.000</td>\n",
       "      <td>98070</td>\n",
       "      <td>47.384</td>\n",
       "      <td>-122.438</td>\n",
       "      <td>183.019</td>\n",
       "      <td>1948.919</td>\n",
       "      <td>164.438</td>\n",
       "      <td>18.581</td>\n",
       "      <td>211.819</td>\n",
       "      <td>7004.515</td>\n",
       "    </tr>\n",
       "    <tr>\n",
       "      <th>...</th>\n",
       "      <td>...</td>\n",
       "      <td>...</td>\n",
       "      <td>...</td>\n",
       "      <td>...</td>\n",
       "      <td>...</td>\n",
       "      <td>...</td>\n",
       "      <td>...</td>\n",
       "      <td>...</td>\n",
       "      <td>...</td>\n",
       "      <td>...</td>\n",
       "      <td>...</td>\n",
       "      <td>...</td>\n",
       "      <td>...</td>\n",
       "      <td>...</td>\n",
       "      <td>...</td>\n",
       "      <td>...</td>\n",
       "      <td>...</td>\n",
       "      <td>...</td>\n",
       "      <td>...</td>\n",
       "      <td>...</td>\n",
       "      <td>...</td>\n",
       "    </tr>\n",
       "    <tr>\n",
       "      <th>19968</th>\n",
       "      <td>2015-03-17</td>\n",
       "      <td>1900000.000</td>\n",
       "      <td>2025069140</td>\n",
       "      <td>19969</td>\n",
       "      <td>2025069140</td>\n",
       "      <td>3.000</td>\n",
       "      <td>2.500</td>\n",
       "      <td>3.000</td>\n",
       "      <td>1.000</td>\n",
       "      <td>4.000</td>\n",
       "      <td>...</td>\n",
       "      <td>0.000</td>\n",
       "      <td>98074</td>\n",
       "      <td>47.632</td>\n",
       "      <td>-122.071</td>\n",
       "      <td>262.915</td>\n",
       "      <td>402.642</td>\n",
       "      <td>262.915</td>\n",
       "      <td>0.000</td>\n",
       "      <td>262.915</td>\n",
       "      <td>3549.917</td>\n",
       "    </tr>\n",
       "    <tr>\n",
       "      <th>20309</th>\n",
       "      <td>2014-08-11</td>\n",
       "      <td>3000000.000</td>\n",
       "      <td>518500480</td>\n",
       "      <td>20310</td>\n",
       "      <td>518500480</td>\n",
       "      <td>3.000</td>\n",
       "      <td>3.500</td>\n",
       "      <td>2.000</td>\n",
       "      <td>1.000</td>\n",
       "      <td>4.000</td>\n",
       "      <td>...</td>\n",
       "      <td>0.000</td>\n",
       "      <td>98056</td>\n",
       "      <td>47.528</td>\n",
       "      <td>-122.205</td>\n",
       "      <td>409.702</td>\n",
       "      <td>999.265</td>\n",
       "      <td>318.657</td>\n",
       "      <td>91.045</td>\n",
       "      <td>329.806</td>\n",
       "      <td>523.416</td>\n",
       "    </tr>\n",
       "    <tr>\n",
       "      <th>20751</th>\n",
       "      <td>2015-04-17</td>\n",
       "      <td>2300000.000</td>\n",
       "      <td>8043700105</td>\n",
       "      <td>20752</td>\n",
       "      <td>8043700105</td>\n",
       "      <td>4.000</td>\n",
       "      <td>4.000</td>\n",
       "      <td>2.500</td>\n",
       "      <td>1.000</td>\n",
       "      <td>4.000</td>\n",
       "      <td>...</td>\n",
       "      <td>0.000</td>\n",
       "      <td>98008</td>\n",
       "      <td>47.572</td>\n",
       "      <td>-122.104</td>\n",
       "      <td>405.057</td>\n",
       "      <td>759.482</td>\n",
       "      <td>366.038</td>\n",
       "      <td>39.019</td>\n",
       "      <td>248.051</td>\n",
       "      <td>791.998</td>\n",
       "    </tr>\n",
       "    <tr>\n",
       "      <th>21185</th>\n",
       "      <td>2014-10-08</td>\n",
       "      <td>2230000.000</td>\n",
       "      <td>518500460</td>\n",
       "      <td>21186</td>\n",
       "      <td>518500460</td>\n",
       "      <td>3.000</td>\n",
       "      <td>3.500</td>\n",
       "      <td>2.000</td>\n",
       "      <td>1.000</td>\n",
       "      <td>4.000</td>\n",
       "      <td>...</td>\n",
       "      <td>0.000</td>\n",
       "      <td>98056</td>\n",
       "      <td>47.529</td>\n",
       "      <td>-122.205</td>\n",
       "      <td>349.315</td>\n",
       "      <td>523.416</td>\n",
       "      <td>262.915</td>\n",
       "      <td>86.400</td>\n",
       "      <td>330.735</td>\n",
       "      <td>535.307</td>\n",
       "    </tr>\n",
       "    <tr>\n",
       "      <th>21560</th>\n",
       "      <td>2015-01-07</td>\n",
       "      <td>3570000.000</td>\n",
       "      <td>9253900271</td>\n",
       "      <td>21561</td>\n",
       "      <td>9253900271</td>\n",
       "      <td>5.000</td>\n",
       "      <td>4.500</td>\n",
       "      <td>2.000</td>\n",
       "      <td>1.000</td>\n",
       "      <td>4.000</td>\n",
       "      <td>...</td>\n",
       "      <td>0.000</td>\n",
       "      <td>98008</td>\n",
       "      <td>47.594</td>\n",
       "      <td>-122.110</td>\n",
       "      <td>450.580</td>\n",
       "      <td>983.285</td>\n",
       "      <td>328.877</td>\n",
       "      <td>121.703</td>\n",
       "      <td>322.373</td>\n",
       "      <td>1697.338</td>\n",
       "    </tr>\n",
       "  </tbody>\n",
       "</table>\n",
       "<p>117 rows × 23 columns</p>\n",
       "</div>"
      ],
      "text/plain": [
       "            date       price    house_id     id        id.1  bedrooms  \\\n",
       "49    2015-03-11 1350000.000   822039084     50   822039084     3.000   \n",
       "246   2014-09-29 2400000.000  2025069065    247  2025069065     4.000   \n",
       "264   2014-10-27  369900.000  2123039032    265  2123039032     1.000   \n",
       "300   2014-06-24 3080000.000  3225069065    301  3225069065     4.000   \n",
       "457   2014-11-26  705000.000  2122039094    458  2122039094     3.000   \n",
       "...          ...         ...         ...    ...         ...       ...   \n",
       "19968 2015-03-17 1900000.000  2025069140  19969  2025069140     3.000   \n",
       "20309 2014-08-11 3000000.000   518500480  20310   518500480     3.000   \n",
       "20751 2015-04-17 2300000.000  8043700105  20752  8043700105     4.000   \n",
       "21185 2014-10-08 2230000.000   518500460  21186   518500460     3.000   \n",
       "21560 2015-01-07 3570000.000  9253900271  21561  9253900271     5.000   \n",
       "\n",
       "       bathrooms  floors  waterfront  view  ...  yr_renovated  zipcode    lat  \\\n",
       "49         2.500   1.000       1.000 2.000  ...         0.000    98070 47.404   \n",
       "246        2.500   1.000       1.000 4.000  ...         0.000    98074 47.634   \n",
       "264        0.750   1.000       1.000 4.000  ...         0.000    98070 47.468   \n",
       "300        5.000   1.000       1.000 4.000  ...         0.000    98074 47.605   \n",
       "457        3.000   2.000       1.000 3.000  ...         0.000    98070 47.384   \n",
       "...          ...     ...         ...   ...  ...           ...      ...    ...   \n",
       "19968      2.500   3.000       1.000 4.000  ...         0.000    98074 47.632   \n",
       "20309      3.500   2.000       1.000 4.000  ...         0.000    98056 47.528   \n",
       "20751      4.000   2.500       1.000 4.000  ...         0.000    98008 47.572   \n",
       "21185      3.500   2.000       1.000 4.000  ...         0.000    98056 47.529   \n",
       "21560      4.500   2.000       1.000 4.000  ...         0.000    98008 47.594   \n",
       "\n",
       "          long  sqm_living  sqm_lot  sqm_above  sqm_basement  sqm_living15  \\\n",
       "49    -122.451     255.762 6039.160    201.135        54.627       248.980   \n",
       "246   -122.072     339.096  776.112    170.012       169.083       289.857   \n",
       "264   -122.438      70.606  936.369     70.606         0.000       114.271   \n",
       "300   -122.077     422.709 1731.805    241.548       181.161       422.709   \n",
       "457   -122.438     183.019 1948.919    164.438        18.581       211.819   \n",
       "...        ...         ...      ...        ...           ...           ...   \n",
       "19968 -122.071     262.915  402.642    262.915         0.000       262.915   \n",
       "20309 -122.205     409.702  999.265    318.657        91.045       329.806   \n",
       "20751 -122.104     405.057  759.482    366.038        39.019       248.051   \n",
       "21185 -122.205     349.315  523.416    262.915        86.400       330.735   \n",
       "21560 -122.110     450.580  983.285    328.877       121.703       322.373   \n",
       "\n",
       "       sqm_lot15  \n",
       "49      6736.675  \n",
       "246     1750.385  \n",
       "264     1325.447  \n",
       "300     1812.352  \n",
       "457     7004.515  \n",
       "...          ...  \n",
       "19968   3549.917  \n",
       "20309    523.416  \n",
       "20751    791.998  \n",
       "21185    535.307  \n",
       "21560   1697.338  \n",
       "\n",
       "[117 rows x 23 columns]"
      ]
     },
     "execution_count": 186,
     "metadata": {},
     "output_type": "execute_result"
    },
    {
     "data": {
      "image/png": "[encoded data removed]",
      "text/plain": [
       "<Figure size 800x500 with 1 Axes>"
      ]
     },
     "metadata": {},
     "output_type": "display_data"
    }
   ],
   "source": [
    "#Assumption --> renovation equals newly built we take all renovated waterfront buildings and add all buildings that were built after the latest renovation\n",
    "#price distribution\n",
    "sns.histplot(data=df_wnr,x='price')\n",
    "\n",
    "df_wnr.price.median()\n",
    "df_wnr.price.mean()\n",
    "df_wnr.price.quantile(0.9)\n",
    "df_wnr.head(200)\n"
   ]
  },
  {
   "cell_type": "code",
   "execution_count": 187,
   "metadata": {},
   "outputs": [
    {
     "data": {
      "text/plain": [
       "4.0"
      ]
     },
     "execution_count": 187,
     "metadata": {},
     "output_type": "execute_result"
    },
    {
     "data": {
      "image/png": "[encoded data removed]",
      "text/plain": [
       "<Figure size 800x500 with 1 Axes>"
      ]
     },
     "metadata": {},
     "output_type": "display_data"
    }
   ],
   "source": [
    "#condition distribution\n",
    "sns.histplot(data=df_wnr,x='condition')\n",
    "df_eda.condition.quantile(0.9)"
   ]
  },
  {
   "cell_type": "code",
   "execution_count": 188,
   "metadata": {},
   "outputs": [
    {
     "data": {
      "text/plain": [
       "11.0"
      ]
     },
     "execution_count": 188,
     "metadata": {},
     "output_type": "execute_result"
    },
    {
     "data": {
      "image/png": "[encoded data removed]",
      "text/plain": [
       "<Figure size 800x500 with 1 Axes>"
      ]
     },
     "metadata": {},
     "output_type": "display_data"
    }
   ],
   "source": [
    "#grade distribution\n",
    "sns.histplot(data=df_wnr,x='grade',legend=4)\n",
    "df_w.grade.quantile(0.9)"
   ]
  },
  {
   "cell_type": "code",
   "execution_count": 189,
   "metadata": {},
   "outputs": [
    {
     "data": {
      "text/plain": [
       "array([[<Axes: title={'center': 'price'}>,\n",
       "        <Axes: title={'center': 'bedrooms'}>,\n",
       "        <Axes: title={'center': 'bathrooms'}>,\n",
       "        <Axes: title={'center': 'floors'}>],\n",
       "       [<Axes: title={'center': 'waterfront'}>,\n",
       "        <Axes: title={'center': 'view'}>,\n",
       "        <Axes: title={'center': 'condition'}>,\n",
       "        <Axes: title={'center': 'grade'}>],\n",
       "       [<Axes: title={'center': 'yr_built'}>,\n",
       "        <Axes: title={'center': 'yr_renovated'}>,\n",
       "        <Axes: title={'center': 'zipcode'}>,\n",
       "        <Axes: title={'center': 'lat'}>],\n",
       "       [<Axes: title={'center': 'long'}>,\n",
       "        <Axes: title={'center': 'sqm_living'}>,\n",
       "        <Axes: title={'center': 'sqm_lot'}>,\n",
       "        <Axes: title={'center': 'sqm_above'}>],\n",
       "       [<Axes: title={'center': 'sqm_basement'}>,\n",
       "        <Axes: title={'center': 'sqm_living15'}>,\n",
       "        <Axes: title={'center': 'sqm_lot15'}>, <Axes: >]], dtype=object)"
      ]
     },
     "execution_count": 189,
     "metadata": {},
     "output_type": "execute_result"
    },
    {
     "data": {
      "image/png": "[encoded data removed]",
      "text/plain": [
       "<Figure size 1600x2000 with 20 Axes>"
      ]
     },
     "metadata": {},
     "output_type": "display_data"
    }
   ],
   "source": [
    "#plot all\n",
    "list(set(df_wnr.dtypes.tolist()))\n",
    "df_num = df_wnr.select_dtypes(include = ['float64', 'int64'])\n",
    "df_num = df_num.drop(columns=['id','house_id','id.1'])\n",
    "df_num.hist(figsize=(16, 20), bins=50, xlabelsize=8, ylabelsize=8)"
   ]
  },
  {
   "cell_type": "code",
   "execution_count": 163,
   "metadata": {},
   "outputs": [
    {
     "data": {
      "application/vnd.plotly.v1+json": {
       "config": {
        "plotlyServerURL": "https://plot.ly"
       },
       "data": [
        {
         "customdata": [
          [
           1350000
          ],
          [
           655000
          ],
          [
           2400000
          ],
          [
           369900
          ],
          [
           3080000
          ],
          [
           705000
          ],
          [
           2130000
          ],
          [
           3070000
          ],
          [
           825000
          ],
          [
           1960000
          ],
          [
           790000
          ],
          [
           5110000
          ],
          [
           290000
          ],
          [
           995000
          ],
          [
           5300000
          ],
          [
           2200000
          ],
          [
           1180000
          ],
          [
           1700000
          ],
          [
           960000
          ],
          [
           480000
          ],
          [
           1200000
          ],
          [
           3850000
          ],
          [
           1700000
          ],
          [
           1650000
          ],
          [
           1370000
          ],
          [
           3280000
          ],
          [
           4500000
          ],
          [
           3600000
          ],
          [
           999000
          ],
          [
           1900000
          ],
          [
           700000
          ],
          [
           1000000
          ],
          [
           7060000
          ],
          [
           1380000
          ],
          [
           2400000
          ],
          [
           1880000
          ],
          [
           1570000
          ],
          [
           1160000
          ],
          [
           1150000
          ],
          [
           1710000
          ],
          [
           2000000
          ],
          [
           2490000
          ],
          [
           1850000
          ],
          [
           549000
          ],
          [
           1600000
          ],
          [
           1850000
          ],
          [
           1100000
          ],
          [
           340000
          ],
          [
           2200000
          ],
          [
           2900000
          ],
          [
           1340000
          ],
          [
           3650000
          ],
          [
           2700000
          ],
          [
           3100000
          ],
          [
           1150000
          ],
          [
           1900000
          ],
          [
           3400000
          ],
          [
           1850000
          ],
          [
           4670000
          ],
          [
           503000
          ],
          [
           1450000
          ],
          [
           949950
          ],
          [
           400000
          ],
          [
           1250000
          ],
          [
           1800000
          ],
          [
           650000
          ],
          [
           1360000
          ],
          [
           1960000
          ],
          [
           1190000
          ],
          [
           629000
          ],
          [
           985000
          ],
          [
           2700000
          ],
          [
           3120000
          ],
          [
           1580000
          ],
          [
           1660000
          ],
          [
           1180000
          ],
          [
           750000
          ],
          [
           2560000
          ],
          [
           3000000
          ],
          [
           2300000
          ],
          [
           950000
          ],
          [
           2750000
          ],
          [
           357000
          ],
          [
           770000
          ],
          [
           1900000
          ],
          [
           2000000
          ],
          [
           835000
          ],
          [
           685000
          ],
          [
           500000
          ],
          [
           635000
          ],
          [
           2600000
          ],
          [
           3400000
          ],
          [
           3300000
          ],
          [
           947500
          ],
          [
           600000
          ],
          [
           2230000
          ],
          [
           1300000
          ],
          [
           1610000
          ],
          [
           2600000
          ],
          [
           465000
          ],
          [
           3640000
          ],
          [
           520000
          ],
          [
           658000
          ],
          [
           840500
          ],
          [
           1650000
          ],
          [
           3200000
          ],
          [
           1800000
          ],
          [
           1680000
          ],
          [
           1640000
          ],
          [
           700000
          ],
          [
           1340000
          ],
          [
           1600000
          ],
          [
           1310000
          ],
          [
           1200000
          ],
          [
           869000
          ],
          [
           750000
          ],
          [
           340000
          ],
          [
           800000
          ],
          [
           750000
          ],
          [
           540000
          ],
          [
           2510000
          ],
          [
           820000
          ],
          [
           2050000
          ],
          [
           975000
          ],
          [
           1600000
          ],
          [
           528000
          ],
          [
           3300000
          ],
          [
           285000
          ],
          [
           2700000
          ],
          [
           2950000
          ],
          [
           570000
          ],
          [
           1230000
          ],
          [
           1700000
          ],
          [
           1680000
          ],
          [
           380000
          ],
          [
           1400000
          ],
          [
           385000
          ],
          [
           615000
          ],
          [
           1410000
          ],
          [
           1150000
          ],
          [
           988500
          ],
          [
           1900000
          ],
          [
           3000000
          ],
          [
           2300000
          ],
          [
           2230000
          ],
          [
           3570000
          ]
         ],
         "hovertemplate": "lat=%{lat}<br>long=%{lon}<br>price=%{customdata[0]}<extra></extra>",
         "lat": [
          47.4041,
          47.4497,
          47.6338,
          47.4683,
          47.6053,
          47.3844,
          47.4169,
          47.7022,
          47.502,
          47.7165,
          47.5105,
          47.6767,
          47.4339,
          47.4734,
          47.5631,
          47.6393,
          47.7345,
          47.5115,
          47.645,
          47.3853,
          47.5779,
          47.585,
          47.5883,
          47.5487,
          47.5684,
          47.6042,
          47.7493,
          47.5925,
          47.3782,
          47.4485,
          47.5117,
          47.5488,
          47.65,
          47.3907,
          47.5884,
          47.6699,
          47.5169,
          47.488,
          47.3344,
          47.5596,
          47.5682,
          47.5636,
          47.5784,
          47.3312,
          47.5894,
          47.7404,
          47.5033,
          47.4285,
          47.5554,
          47.5379,
          47.5489,
          47.6515,
          47.5919,
          47.5716,
          47.6307,
          47.5395,
          47.5348,
          47.5571,
          47.557,
          47.3276,
          47.5686,
          47.5193,
          47.3338,
          47.5814,
          47.5466,
          47.3554,
          47.7142,
          47.5287,
          47.7134,
          47.3311,
          47.4499,
          47.6803,
          47.6997,
          47.4414,
          47.525,
          47.5495,
          47.5022,
          47.661,
          47.7011,
          47.6934,
          47.3881,
          47.5968,
          47.3811,
          47.4536,
          47.5924,
          47.6092,
          47.3571,
          47.4502,
          47.3799,
          47.459,
          47.5696,
          47.6967,
          47.605,
          47.4522,
          47.358,
          47.5516,
          47.7729,
          47.5316,
          47.5721,
          47.4728,
          47.6409,
          47.3648,
          47.5476,
          47.5114,
          47.6163,
          47.5928,
          47.7519,
          47.7561,
          47.4418,
          47.5121,
          47.7308,
          47.7434,
          47.4396,
          47.502,
          47.5121,
          47.4996,
          47.4557,
          47.373,
          47.4,
          47.4997,
          47.4558,
          47.3573,
          47.7087,
          47.4969,
          47.704,
          47.404,
          47.6083,
          47.4716,
          47.572,
          47.6608,
          47.3509,
          47.3535,
          47.6361,
          47.7265,
          47.4551,
          47.5895,
          47.4012,
          47.3979,
          47.5036,
          47.7336,
          47.45,
          47.6318,
          47.5283,
          47.5724,
          47.5285,
          47.5943
         ],
         "legendgroup": "",
         "lon": [
          -122.451,
          -122.375,
          -122.072,
          -122.438,
          -122.077,
          -122.438,
          -122.348,
          -122.224,
          -122.222,
          -122.259,
          -122.238,
          -122.211,
          -122.512,
          -122.365,
          -122.21,
          -122.097,
          -122.285,
          -122.246,
          -122.084,
          -122.479,
          -122.246,
          -122.222,
          -122.111,
          -122.197,
          -122.06,
          -122.112,
          -122.28,
          -122.287,
          -122.514,
          -122.369,
          -122.248,
          -122.197,
          -122.214,
          -122.448,
          -122.086,
          -122.416,
          -122.209,
          -122.364,
          -122.37,
          -122.403,
          -122.059,
          -122.231,
          -122.076,
          -122.503,
          -122.111,
          -122.284,
          -122.225,
          -122.511,
          -122.077,
          -122.264,
          -122.398,
          -122.277,
          -122.251,
          -122.204,
          -122.088,
          -122.21,
          -122.243,
          -122.193,
          -122.21,
          -122.389,
          -122.06,
          -122.257,
          -122.511,
          -122.081,
          -122.197,
          -122.324,
          -122.277,
          -122.22,
          -122.277,
          -122.375,
          -122.376,
          -122.214,
          -122.24,
          -122.354,
          -122.393,
          -122.398,
          -122.223,
          -122.269,
          -122.244,
          -122.271,
          -122.326,
          -122.083,
          -122.325,
          -122.376,
          -122.287,
          -122.073,
          -122.324,
          -122.378,
          -122.325,
          -122.504,
          -122.09,
          -122.216,
          -122.112,
          -122.378,
          -122.446,
          -122.398,
          -122.393,
          -122.263,
          -122.239,
          -122.497,
          -122.241,
          -122.325,
          -122.399,
          -122.245,
          -122.068,
          -122.086,
          -122.276,
          -122.271,
          -122.354,
          -122.248,
          -122.282,
          -122.263,
          -122.353,
          -122.385,
          -122.248,
          -122.378,
          -122.443,
          -122.464,
          -122.42,
          -122.379,
          -122.371,
          -122.324,
          -122.276,
          -122.376,
          -122.245,
          -122.447,
          -122.11,
          -122.445,
          -122.102,
          -122.269,
          -122.323,
          -122.323,
          -122.093,
          -122.281,
          -122.373,
          -122.111,
          -122.425,
          -122.465,
          -122.387,
          -122.284,
          -122.377,
          -122.071,
          -122.205,
          -122.104,
          -122.205,
          -122.11
         ],
         "marker": {
          "color": "green"
         },
         "mode": "markers",
         "name": "",
         "showlegend": false,
         "subplot": "mapbox",
         "type": "scattermapbox"
        }
       ],
       "layout": {
        "height": 400,
        "legend": {
         "tracegroupgap": 0
        },
        "mapbox": {
         "center": {
          "lat": 47.53967671232878,
          "lon": -122.27816438356164
         },
         "domain": {
          "x": [
           0,
           1
          ],
          "y": [
           0,
           1
          ]
         },
         "style": "open-street-map",
         "zoom": 3
        },
        "margin": {
         "b": 0,
         "l": 0,
         "r": 0,
         "t": 0
        },
        "template": {
         "data": {
          "bar": [
           {
            "error_x": {
             "color": "#2a3f5f"
            },
            "error_y": {
             "color": "#2a3f5f"
            },
            "marker": {
             "line": {
              "color": "#E5ECF6",
              "width": 0.5
             },
             "pattern": {
              "fillmode": "overlay",
              "size": 10,
              "solidity": 0.2
             }
            },
            "type": "bar"
           }
          ],
          "barpolar": [
           {
            "marker": {
             "line": {
              "color": "#E5ECF6",
              "width": 0.5
             },
             "pattern": {
              "fillmode": "overlay",
              "size": 10,
              "solidity": 0.2
             }
            },
            "type": "barpolar"
           }
          ],
          "carpet": [
           {
            "aaxis": {
             "endlinecolor": "#2a3f5f",
             "gridcolor": "white",
             "linecolor": "white",
             "minorgridcolor": "white",
             "startlinecolor": "#2a3f5f"
            },
            "baxis": {
             "endlinecolor": "#2a3f5f",
             "gridcolor": "white",
             "linecolor": "white",
             "minorgridcolor": "white",
             "startlinecolor": "#2a3f5f"
            },
            "type": "carpet"
           }
          ],
          "choropleth": [
           {
            "colorbar": {
             "outlinewidth": 0,
             "ticks": ""
            },
            "type": "choropleth"
           }
          ],
          "contour": [
           {
            "colorbar": {
             "outlinewidth": 0,
             "ticks": ""
            },
            "colorscale": [
             [
              0,
              "#0d0887"
             ],
             [
              0.1111111111111111,
              "#46039f"
             ],
             [
              0.2222222222222222,
              "#7201a8"
             ],
             [
              0.3333333333333333,
              "#9c179e"
             ],
             [
              0.4444444444444444,
              "#bd3786"
             ],
             [
              0.5555555555555556,
              "#d8576b"
             ],
             [
              0.6666666666666666,
              "#ed7953"
             ],
             [
              0.7777777777777778,
              "#fb9f3a"
             ],
             [
              0.8888888888888888,
              "#fdca26"
             ],
             [
              1,
              "#f0f921"
             ]
            ],
            "type": "contour"
           }
          ],
          "contourcarpet": [
           {
            "colorbar": {
             "outlinewidth": 0,
             "ticks": ""
            },
            "type": "contourcarpet"
           }
          ],
          "heatmap": [
           {
            "colorbar": {
             "outlinewidth": 0,
             "ticks": ""
            },
            "colorscale": [
             [
              0,
              "#0d0887"
             ],
             [
              0.1111111111111111,
              "#46039f"
             ],
             [
              0.2222222222222222,
              "#7201a8"
             ],
             [
              0.3333333333333333,
              "#9c179e"
             ],
             [
              0.4444444444444444,
              "#bd3786"
             ],
             [
              0.5555555555555556,
              "#d8576b"
             ],
             [
              0.6666666666666666,
              "#ed7953"
             ],
             [
              0.7777777777777778,
              "#fb9f3a"
             ],
             [
              0.8888888888888888,
              "#fdca26"
             ],
             [
              1,
              "#f0f921"
             ]
            ],
            "type": "heatmap"
           }
          ],
          "heatmapgl": [
           {
            "colorbar": {
             "outlinewidth": 0,
             "ticks": ""
            },
            "colorscale": [
             [
              0,
              "#0d0887"
             ],
             [
              0.1111111111111111,
              "#46039f"
             ],
             [
              0.2222222222222222,
              "#7201a8"
             ],
             [
              0.3333333333333333,
              "#9c179e"
             ],
             [
              0.4444444444444444,
              "#bd3786"
             ],
             [
              0.5555555555555556,
              "#d8576b"
             ],
             [
              0.6666666666666666,
              "#ed7953"
             ],
             [
              0.7777777777777778,
              "#fb9f3a"
             ],
             [
              0.8888888888888888,
              "#fdca26"
             ],
             [
              1,
              "#f0f921"
             ]
            ],
            "type": "heatmapgl"
           }
          ],
          "histogram": [
           {
            "marker": {
             "pattern": {
              "fillmode": "overlay",
              "size": 10,
              "solidity": 0.2
             }
            },
            "type": "histogram"
           }
          ],
          "histogram2d": [
           {
            "colorbar": {
             "outlinewidth": 0,
             "ticks": ""
            },
            "colorscale": [
             [
              0,
              "#0d0887"
             ],
             [
              0.1111111111111111,
              "#46039f"
             ],
             [
              0.2222222222222222,
              "#7201a8"
             ],
             [
              0.3333333333333333,
              "#9c179e"
             ],
             [
              0.4444444444444444,
              "#bd3786"
             ],
             [
              0.5555555555555556,
              "#d8576b"
             ],
             [
              0.6666666666666666,
              "#ed7953"
             ],
             [
              0.7777777777777778,
              "#fb9f3a"
             ],
             [
              0.8888888888888888,
              "#fdca26"
             ],
             [
              1,
              "#f0f921"
             ]
            ],
            "type": "histogram2d"
           }
          ],
          "histogram2dcontour": [
           {
            "colorbar": {
             "outlinewidth": 0,
             "ticks": ""
            },
            "colorscale": [
             [
              0,
              "#0d0887"
             ],
             [
              0.1111111111111111,
              "#46039f"
             ],
             [
              0.2222222222222222,
              "#7201a8"
             ],
             [
              0.3333333333333333,
              "#9c179e"
             ],
             [
              0.4444444444444444,
              "#bd3786"
             ],
             [
              0.5555555555555556,
              "#d8576b"
             ],
             [
              0.6666666666666666,
              "#ed7953"
             ],
             [
              0.7777777777777778,
              "#fb9f3a"
             ],
             [
              0.8888888888888888,
              "#fdca26"
             ],
             [
              1,
              "#f0f921"
             ]
            ],
            "type": "histogram2dcontour"
           }
          ],
          "mesh3d": [
           {
            "colorbar": {
             "outlinewidth": 0,
             "ticks": ""
            },
            "type": "mesh3d"
           }
          ],
          "parcoords": [
           {
            "line": {
             "colorbar": {
              "outlinewidth": 0,
              "ticks": ""
             }
            },
            "type": "parcoords"
           }
          ],
          "pie": [
           {
            "automargin": true,
            "type": "pie"
           }
          ],
          "scatter": [
           {
            "fillpattern": {
             "fillmode": "overlay",
             "size": 10,
             "solidity": 0.2
            },
            "type": "scatter"
           }
          ],
          "scatter3d": [
           {
            "line": {
             "colorbar": {
              "outlinewidth": 0,
              "ticks": ""
             }
            },
            "marker": {
             "colorbar": {
              "outlinewidth": 0,
              "ticks": ""
             }
            },
            "type": "scatter3d"
           }
          ],
          "scattercarpet": [
           {
            "marker": {
             "colorbar": {
              "outlinewidth": 0,
              "ticks": ""
             }
            },
            "type": "scattercarpet"
           }
          ],
          "scattergeo": [
           {
            "marker": {
             "colorbar": {
              "outlinewidth": 0,
              "ticks": ""
             }
            },
            "type": "scattergeo"
           }
          ],
          "scattergl": [
           {
            "marker": {
             "colorbar": {
              "outlinewidth": 0,
              "ticks": ""
             }
            },
            "type": "scattergl"
           }
          ],
          "scattermapbox": [
           {
            "marker": {
             "colorbar": {
              "outlinewidth": 0,
              "ticks": ""
             }
            },
            "type": "scattermapbox"
           }
          ],
          "scatterpolar": [
           {
            "marker": {
             "colorbar": {
              "outlinewidth": 0,
              "ticks": ""
             }
            },
            "type": "scatterpolar"
           }
          ],
          "scatterpolargl": [
           {
            "marker": {
             "colorbar": {
              "outlinewidth": 0,
              "ticks": ""
             }
            },
            "type": "scatterpolargl"
           }
          ],
          "scatterternary": [
           {
            "marker": {
             "colorbar": {
              "outlinewidth": 0,
              "ticks": ""
             }
            },
            "type": "scatterternary"
           }
          ],
          "surface": [
           {
            "colorbar": {
             "outlinewidth": 0,
             "ticks": ""
            },
            "colorscale": [
             [
              0,
              "#0d0887"
             ],
             [
              0.1111111111111111,
              "#46039f"
             ],
             [
              0.2222222222222222,
              "#7201a8"
             ],
             [
              0.3333333333333333,
              "#9c179e"
             ],
             [
              0.4444444444444444,
              "#bd3786"
             ],
             [
              0.5555555555555556,
              "#d8576b"
             ],
             [
              0.6666666666666666,
              "#ed7953"
             ],
             [
              0.7777777777777778,
              "#fb9f3a"
             ],
             [
              0.8888888888888888,
              "#fdca26"
             ],
             [
              1,
              "#f0f921"
             ]
            ],
            "type": "surface"
           }
          ],
          "table": [
           {
            "cells": {
             "fill": {
              "color": "#EBF0F8"
             },
             "line": {
              "color": "white"
             }
            },
            "header": {
             "fill": {
              "color": "#C8D4E3"
             },
             "line": {
              "color": "white"
             }
            },
            "type": "table"
           }
          ]
         },
         "layout": {
          "annotationdefaults": {
           "arrowcolor": "#2a3f5f",
           "arrowhead": 0,
           "arrowwidth": 1
          },
          "autotypenumbers": "strict",
          "coloraxis": {
           "colorbar": {
            "outlinewidth": 0,
            "ticks": ""
           }
          },
          "colorscale": {
           "diverging": [
            [
             0,
             "#8e0152"
            ],
            [
             0.1,
             "#c51b7d"
            ],
            [
             0.2,
             "#de77ae"
            ],
            [
             0.3,
             "#f1b6da"
            ],
            [
             0.4,
             "#fde0ef"
            ],
            [
             0.5,
             "#f7f7f7"
            ],
            [
             0.6,
             "#e6f5d0"
            ],
            [
             0.7,
             "#b8e186"
            ],
            [
             0.8,
             "#7fbc41"
            ],
            [
             0.9,
             "#4d9221"
            ],
            [
             1,
             "#276419"
            ]
           ],
           "sequential": [
            [
             0,
             "#0d0887"
            ],
            [
             0.1111111111111111,
             "#46039f"
            ],
            [
             0.2222222222222222,
             "#7201a8"
            ],
            [
             0.3333333333333333,
             "#9c179e"
            ],
            [
             0.4444444444444444,
             "#bd3786"
            ],
            [
             0.5555555555555556,
             "#d8576b"
            ],
            [
             0.6666666666666666,
             "#ed7953"
            ],
            [
             0.7777777777777778,
             "#fb9f3a"
            ],
            [
             0.8888888888888888,
             "#fdca26"
            ],
            [
             1,
             "#f0f921"
            ]
           ],
           "sequentialminus": [
            [
             0,
             "#0d0887"
            ],
            [
             0.1111111111111111,
             "#46039f"
            ],
            [
             0.2222222222222222,
             "#7201a8"
            ],
            [
             0.3333333333333333,
             "#9c179e"
            ],
            [
             0.4444444444444444,
             "#bd3786"
            ],
            [
             0.5555555555555556,
             "#d8576b"
            ],
            [
             0.6666666666666666,
             "#ed7953"
            ],
            [
             0.7777777777777778,
             "#fb9f3a"
            ],
            [
             0.8888888888888888,
             "#fdca26"
            ],
            [
             1,
             "#f0f921"
            ]
           ]
          },
          "colorway": [
           "#636efa",
           "#EF553B",
           "#00cc96",
           "#ab63fa",
           "#FFA15A",
           "#19d3f3",
           "#FF6692",
           "#B6E880",
           "#FF97FF",
           "#FECB52"
          ],
          "font": {
           "color": "#2a3f5f"
          },
          "geo": {
           "bgcolor": "white",
           "lakecolor": "white",
           "landcolor": "#E5ECF6",
           "showlakes": true,
           "showland": true,
           "subunitcolor": "white"
          },
          "hoverlabel": {
           "align": "left"
          },
          "hovermode": "closest",
          "mapbox": {
           "style": "light"
          },
          "paper_bgcolor": "white",
          "plot_bgcolor": "#E5ECF6",
          "polar": {
           "angularaxis": {
            "gridcolor": "white",
            "linecolor": "white",
            "ticks": ""
           },
           "bgcolor": "#E5ECF6",
           "radialaxis": {
            "gridcolor": "white",
            "linecolor": "white",
            "ticks": ""
           }
          },
          "scene": {
           "xaxis": {
            "backgroundcolor": "#E5ECF6",
            "gridcolor": "white",
            "gridwidth": 2,
            "linecolor": "white",
            "showbackground": true,
            "ticks": "",
            "zerolinecolor": "white"
           },
           "yaxis": {
            "backgroundcolor": "#E5ECF6",
            "gridcolor": "white",
            "gridwidth": 2,
            "linecolor": "white",
            "showbackground": true,
            "ticks": "",
            "zerolinecolor": "white"
           },
           "zaxis": {
            "backgroundcolor": "#E5ECF6",
            "gridcolor": "white",
            "gridwidth": 2,
            "linecolor": "white",
            "showbackground": true,
            "ticks": "",
            "zerolinecolor": "white"
           }
          },
          "shapedefaults": {
           "line": {
            "color": "#2a3f5f"
           }
          },
          "ternary": {
           "aaxis": {
            "gridcolor": "white",
            "linecolor": "white",
            "ticks": ""
           },
           "baxis": {
            "gridcolor": "white",
            "linecolor": "white",
            "ticks": ""
           },
           "bgcolor": "#E5ECF6",
           "caxis": {
            "gridcolor": "white",
            "linecolor": "white",
            "ticks": ""
           }
          },
          "title": {
           "x": 0.05
          },
          "xaxis": {
           "automargin": true,
           "gridcolor": "white",
           "linecolor": "white",
           "ticks": "",
           "title": {
            "standoff": 15
           },
           "zerolinecolor": "white",
           "zerolinewidth": 2
          },
          "yaxis": {
           "automargin": true,
           "gridcolor": "white",
           "linecolor": "white",
           "ticks": "",
           "title": {
            "standoff": 15
           },
           "zerolinecolor": "white",
           "zerolinewidth": 2
          }
         }
        },
        "width": 600
       }
      }
     },
     "metadata": {},
     "output_type": "display_data"
    }
   ],
   "source": [
    "#Plotly\n",
    "# plot all locations for possible waterfront buildings\n",
    "\n",
    "fig = px.scatter_mapbox(df_wnr, lat=\"lat\", lon=\"long\", color_discrete_sequence=[\"green\"], zoom=3, height=400, width= 600, hover_data='price')\n",
    "fig.update_layout(mapbox_style=\"open-street-map\")\n",
    "fig.update_layout(margin={\"r\":0,\"t\":0,\"l\":0,\"b\":0})\n",
    "fig.show()\n",
    "\n",
    "#hover_name=\"price\", hover_data=[\"price\",'built'],"
   ]
  },
  {
   "cell_type": "code",
   "execution_count": 190,
   "metadata": {},
   "outputs": [
    {
     "name": "stdout",
     "output_type": "stream",
     "text": [
      "<class 'pandas.core.frame.DataFrame'>\n",
      "Index: 117 entries, 49 to 21560\n",
      "Data columns (total 23 columns):\n",
      " #   Column        Non-Null Count  Dtype         \n",
      "---  ------        --------------  -----         \n",
      " 0   date          117 non-null    datetime64[ns]\n",
      " 1   price         117 non-null    float64       \n",
      " 2   house_id      117 non-null    int64         \n",
      " 3   id            117 non-null    int64         \n",
      " 4   id.1          117 non-null    int64         \n",
      " 5   bedrooms      117 non-null    float64       \n",
      " 6   bathrooms     117 non-null    float64       \n",
      " 7   floors        117 non-null    float64       \n",
      " 8   waterfront    117 non-null    float64       \n",
      " 9   view          117 non-null    float64       \n",
      " 10  condition     117 non-null    int64         \n",
      " 11  grade         117 non-null    int64         \n",
      " 12  yr_built      117 non-null    int64         \n",
      " 13  yr_renovated  117 non-null    float64       \n",
      " 14  zipcode       117 non-null    int64         \n",
      " 15  lat           117 non-null    float64       \n",
      " 16  long          117 non-null    float64       \n",
      " 17  sqm_living    117 non-null    float64       \n",
      " 18  sqm_lot       117 non-null    float64       \n",
      " 19  sqm_above     117 non-null    float64       \n",
      " 20  sqm_basement  117 non-null    float64       \n",
      " 21  sqm_living15  117 non-null    float64       \n",
      " 22  sqm_lot15     117 non-null    float64       \n",
      "dtypes: datetime64[ns](1), float64(15), int64(7)\n",
      "memory usage: 21.9 KB\n"
     ]
    }
   ],
   "source": [
    "df_wnr.grade.mean()\n",
    "df_wnr.condition.max()\n",
    "df_wnr.info()\n"
   ]
  },
  {
   "cell_type": "code",
   "execution_count": 191,
   "metadata": {},
   "outputs": [
    {
     "data": {
      "image/png": "[encoded data removed]",
      "text/plain": [
       "<Figure size 1500x600 with 2 Axes>"
      ]
     },
     "metadata": {},
     "output_type": "display_data"
    }
   ],
   "source": [
    "# Plotting pairplot to show that we can add the renovated houses  the relationships of renovation, condition and built year\n",
    "\n",
    "non_renovated_waterfront = df_w[df_w['yr_renovated'] == 0]\n",
    "renovated_waterfront = df_w[df_w['yr_renovated'] > 0]\n",
    "\n",
    "plt.figure(figsize=(15, 6))\n",
    "\n",
    "# Condition of Non-Renovated Waterfront Houses\n",
    "plt.subplot(1, 2, 1)\n",
    "sns.countplot(x='condition', data=non_renovated_waterfront, color='lightblue')\n",
    "plt.title('Condition Distribution for Non-Renovated Waterfront Houses')\n",
    "plt.xlabel('Condition')\n",
    "plt.ylabel('Number of Houses')\n",
    "\n",
    "# Condition of Renovated Waterfront Houses\n",
    "plt.subplot(1, 2, 2)\n",
    "sns.countplot(x='condition', data=renovated_waterfront, color='lightgreen')\n",
    "plt.title('Condition Distribution for Renovated Waterfront Houses')\n",
    "plt.xlabel('Condition')\n",
    "plt.ylabel('Number of Houses')\n",
    "\n",
    "plt.tight_layout()\n",
    "plt.show()"
   ]
  },
  {
   "cell_type": "markdown",
   "metadata": {},
   "source": [
    "#### While both renovated and non-renovated waterfront houses have a similar distribution around 3 and 4, renovated houses have a higher tendency to be in condition 5\n",
    "#### To increase dataset we will look at all waterfront houses overall"
   ]
  },
  {
   "cell_type": "code",
   "execution_count": 193,
   "metadata": {},
   "outputs": [
    {
     "data": {
      "image/png": "[encoded data removed]",
      "text/plain": [
       "<Figure size 1500x600 with 1 Axes>"
      ]
     },
     "metadata": {},
     "output_type": "display_data"
    },
    {
     "data": {
      "text/html": [
       "<div>\n",
       "<style scoped>\n",
       "    .dataframe tbody tr th:only-of-type {\n",
       "        vertical-align: middle;\n",
       "    }\n",
       "\n",
       "    .dataframe tbody tr th {\n",
       "        vertical-align: top;\n",
       "    }\n",
       "\n",
       "    .dataframe thead th {\n",
       "        text-align: right;\n",
       "    }\n",
       "</style>\n",
       "<table border=\"1\" class=\"dataframe\">\n",
       "  <thead>\n",
       "    <tr style=\"text-align: right;\">\n",
       "      <th></th>\n",
       "      <th>date</th>\n",
       "      <th>price</th>\n",
       "      <th>house_id</th>\n",
       "      <th>id</th>\n",
       "      <th>id.1</th>\n",
       "      <th>bedrooms</th>\n",
       "      <th>bathrooms</th>\n",
       "      <th>floors</th>\n",
       "      <th>waterfront</th>\n",
       "      <th>view</th>\n",
       "      <th>...</th>\n",
       "      <th>yr_renovated</th>\n",
       "      <th>zipcode</th>\n",
       "      <th>lat</th>\n",
       "      <th>long</th>\n",
       "      <th>sqm_living</th>\n",
       "      <th>sqm_lot</th>\n",
       "      <th>sqm_above</th>\n",
       "      <th>sqm_basement</th>\n",
       "      <th>sqm_living15</th>\n",
       "      <th>sqm_lot15</th>\n",
       "    </tr>\n",
       "  </thead>\n",
       "  <tbody>\n",
       "    <tr>\n",
       "      <th>0</th>\n",
       "      <td>2014-10-13</td>\n",
       "      <td>221900.000</td>\n",
       "      <td>7129300520</td>\n",
       "      <td>1</td>\n",
       "      <td>7129300520</td>\n",
       "      <td>3.000</td>\n",
       "      <td>1.000</td>\n",
       "      <td>1.000</td>\n",
       "      <td>0.000</td>\n",
       "      <td>0.000</td>\n",
       "      <td>...</td>\n",
       "      <td>0.000</td>\n",
       "      <td>98178</td>\n",
       "      <td>47.511</td>\n",
       "      <td>-122.257</td>\n",
       "      <td>109.626</td>\n",
       "      <td>524.902</td>\n",
       "      <td>109.626</td>\n",
       "      <td>0.000</td>\n",
       "      <td>124.490</td>\n",
       "      <td>524.902</td>\n",
       "    </tr>\n",
       "    <tr>\n",
       "      <th>1</th>\n",
       "      <td>2014-12-09</td>\n",
       "      <td>538000.000</td>\n",
       "      <td>6414100192</td>\n",
       "      <td>2</td>\n",
       "      <td>6414100192</td>\n",
       "      <td>3.000</td>\n",
       "      <td>2.250</td>\n",
       "      <td>2.000</td>\n",
       "      <td>0.000</td>\n",
       "      <td>0.000</td>\n",
       "      <td>...</td>\n",
       "      <td>19910.000</td>\n",
       "      <td>98125</td>\n",
       "      <td>47.721</td>\n",
       "      <td>-122.319</td>\n",
       "      <td>238.761</td>\n",
       "      <td>672.804</td>\n",
       "      <td>201.600</td>\n",
       "      <td>37.161</td>\n",
       "      <td>157.006</td>\n",
       "      <td>709.686</td>\n",
       "    </tr>\n",
       "    <tr>\n",
       "      <th>2</th>\n",
       "      <td>2015-02-25</td>\n",
       "      <td>180000.000</td>\n",
       "      <td>5631500400</td>\n",
       "      <td>3</td>\n",
       "      <td>5631500400</td>\n",
       "      <td>2.000</td>\n",
       "      <td>1.000</td>\n",
       "      <td>1.000</td>\n",
       "      <td>0.000</td>\n",
       "      <td>0.000</td>\n",
       "      <td>...</td>\n",
       "      <td>0.000</td>\n",
       "      <td>98028</td>\n",
       "      <td>47.738</td>\n",
       "      <td>-122.233</td>\n",
       "      <td>71.535</td>\n",
       "      <td>929.030</td>\n",
       "      <td>71.535</td>\n",
       "      <td>0.000</td>\n",
       "      <td>252.696</td>\n",
       "      <td>748.984</td>\n",
       "    </tr>\n",
       "    <tr>\n",
       "      <th>3</th>\n",
       "      <td>2014-12-09</td>\n",
       "      <td>604000.000</td>\n",
       "      <td>2487200875</td>\n",
       "      <td>4</td>\n",
       "      <td>2487200875</td>\n",
       "      <td>4.000</td>\n",
       "      <td>3.000</td>\n",
       "      <td>1.000</td>\n",
       "      <td>0.000</td>\n",
       "      <td>0.000</td>\n",
       "      <td>...</td>\n",
       "      <td>0.000</td>\n",
       "      <td>98136</td>\n",
       "      <td>47.521</td>\n",
       "      <td>-122.393</td>\n",
       "      <td>182.090</td>\n",
       "      <td>464.515</td>\n",
       "      <td>97.548</td>\n",
       "      <td>84.542</td>\n",
       "      <td>126.348</td>\n",
       "      <td>464.515</td>\n",
       "    </tr>\n",
       "    <tr>\n",
       "      <th>4</th>\n",
       "      <td>2015-02-18</td>\n",
       "      <td>510000.000</td>\n",
       "      <td>1954400510</td>\n",
       "      <td>5</td>\n",
       "      <td>1954400510</td>\n",
       "      <td>3.000</td>\n",
       "      <td>2.000</td>\n",
       "      <td>1.000</td>\n",
       "      <td>0.000</td>\n",
       "      <td>0.000</td>\n",
       "      <td>...</td>\n",
       "      <td>0.000</td>\n",
       "      <td>98074</td>\n",
       "      <td>47.617</td>\n",
       "      <td>-122.045</td>\n",
       "      <td>156.077</td>\n",
       "      <td>750.656</td>\n",
       "      <td>156.077</td>\n",
       "      <td>0.000</td>\n",
       "      <td>167.225</td>\n",
       "      <td>697.051</td>\n",
       "    </tr>\n",
       "  </tbody>\n",
       "</table>\n",
       "<p>5 rows × 23 columns</p>\n",
       "</div>"
      ],
      "text/plain": [
       "        date      price    house_id  id        id.1  bedrooms  bathrooms  \\\n",
       "0 2014-10-13 221900.000  7129300520   1  7129300520     3.000      1.000   \n",
       "1 2014-12-09 538000.000  6414100192   2  6414100192     3.000      2.250   \n",
       "2 2015-02-25 180000.000  5631500400   3  5631500400     2.000      1.000   \n",
       "3 2014-12-09 604000.000  2487200875   4  2487200875     4.000      3.000   \n",
       "4 2015-02-18 510000.000  1954400510   5  1954400510     3.000      2.000   \n",
       "\n",
       "   floors  waterfront  view  ...  yr_renovated  zipcode    lat     long  \\\n",
       "0   1.000       0.000 0.000  ...         0.000    98178 47.511 -122.257   \n",
       "1   2.000       0.000 0.000  ...     19910.000    98125 47.721 -122.319   \n",
       "2   1.000       0.000 0.000  ...         0.000    98028 47.738 -122.233   \n",
       "3   1.000       0.000 0.000  ...         0.000    98136 47.521 -122.393   \n",
       "4   1.000       0.000 0.000  ...         0.000    98074 47.617 -122.045   \n",
       "\n",
       "   sqm_living  sqm_lot  sqm_above  sqm_basement  sqm_living15  sqm_lot15  \n",
       "0     109.626  524.902    109.626         0.000       124.490    524.902  \n",
       "1     238.761  672.804    201.600        37.161       157.006    709.686  \n",
       "2      71.535  929.030     71.535         0.000       252.696    748.984  \n",
       "3     182.090  464.515     97.548        84.542       126.348    464.515  \n",
       "4     156.077  750.656    156.077         0.000       167.225    697.051  \n",
       "\n",
       "[5 rows x 23 columns]"
      ]
     },
     "execution_count": 193,
     "metadata": {},
     "output_type": "execute_result"
    }
   ],
   "source": [
    "# plotting to analyze condition for houses with yr_built = yr_renovated\n",
    "# showing that waterfront houses in general have higher grade than the rest of the data\n",
    "\n",
    "plt.figure(figsize=(15, 6))\n",
    "\n",
    "#Grade\n",
    "plt.subplot(1, 2, 1)\n",
    "sns.boxplot(x=df_eda['waterfront'], y=df_eda['grade'], palette=['orange', 'blue'],showfliers=False)\n",
    "plt.title('Box Plot of Grade')\n",
    "plt.xlabel('Waterfront (0: No, 1: Yes)')\n",
    "plt.ylabel('Grade')\n",
    "\n",
    "\n",
    "plt.tight_layout()\n",
    "plt.show()\n",
    "df_eda.head()"
   ]
  },
  {
   "cell_type": "markdown",
   "metadata": {},
   "source": [
    "#### Waterfront houses in general have a significantly higher grade than the rest of the houses so we do not need to further filter the available objects for grade"
   ]
  },
  {
   "cell_type": "code",
   "execution_count": 238,
   "metadata": {},
   "outputs": [
    {
     "data": {
      "text/html": [
       "<div>\n",
       "<style scoped>\n",
       "    .dataframe tbody tr th:only-of-type {\n",
       "        vertical-align: middle;\n",
       "    }\n",
       "\n",
       "    .dataframe tbody tr th {\n",
       "        vertical-align: top;\n",
       "    }\n",
       "\n",
       "    .dataframe thead th {\n",
       "        text-align: right;\n",
       "    }\n",
       "</style>\n",
       "<table border=\"1\" class=\"dataframe\">\n",
       "  <thead>\n",
       "    <tr style=\"text-align: right;\">\n",
       "      <th></th>\n",
       "      <th>zipcode</th>\n",
       "      <th>living_non_water</th>\n",
       "      <th>living_water</th>\n",
       "      <th>lot_non_water</th>\n",
       "      <th>lot_water</th>\n",
       "      <th>waterfront_larger_lot</th>\n",
       "    </tr>\n",
       "  </thead>\n",
       "  <tbody>\n",
       "    <tr>\n",
       "      <th>0</th>\n",
       "      <td>98023</td>\n",
       "      <td>184.556</td>\n",
       "      <td>233.806</td>\n",
       "      <td>950.901</td>\n",
       "      <td>4579.127</td>\n",
       "      <td>3628.226</td>\n",
       "    </tr>\n",
       "    <tr>\n",
       "      <th>1</th>\n",
       "      <td>98118</td>\n",
       "      <td>155.745</td>\n",
       "      <td>357.986</td>\n",
       "      <td>519.572</td>\n",
       "      <td>3464.353</td>\n",
       "      <td>2944.781</td>\n",
       "    </tr>\n",
       "    <tr>\n",
       "      <th>2</th>\n",
       "      <td>98033</td>\n",
       "      <td>219.106</td>\n",
       "      <td>525.521</td>\n",
       "      <td>955.590</td>\n",
       "      <td>3737.240</td>\n",
       "      <td>2781.650</td>\n",
       "    </tr>\n",
       "    <tr>\n",
       "      <th>3</th>\n",
       "      <td>98004</td>\n",
       "      <td>268.160</td>\n",
       "      <td>932.746</td>\n",
       "      <td>1210.301</td>\n",
       "      <td>3467.604</td>\n",
       "      <td>2257.304</td>\n",
       "    </tr>\n",
       "    <tr>\n",
       "      <th>4</th>\n",
       "      <td>98199</td>\n",
       "      <td>200.509</td>\n",
       "      <td>304.722</td>\n",
       "      <td>498.087</td>\n",
       "      <td>2704.499</td>\n",
       "      <td>2206.412</td>\n",
       "    </tr>\n",
       "    <tr>\n",
       "      <th>5</th>\n",
       "      <td>98116</td>\n",
       "      <td>172.004</td>\n",
       "      <td>231.328</td>\n",
       "      <td>456.187</td>\n",
       "      <td>2573.599</td>\n",
       "      <td>2117.412</td>\n",
       "    </tr>\n",
       "    <tr>\n",
       "      <th>6</th>\n",
       "      <td>98034</td>\n",
       "      <td>182.193</td>\n",
       "      <td>359.906</td>\n",
       "      <td>891.314</td>\n",
       "      <td>2715.740</td>\n",
       "      <td>1824.427</td>\n",
       "    </tr>\n",
       "    <tr>\n",
       "      <th>7</th>\n",
       "      <td>98105</td>\n",
       "      <td>196.417</td>\n",
       "      <td>454.296</td>\n",
       "      <td>452.867</td>\n",
       "      <td>2201.244</td>\n",
       "      <td>1748.376</td>\n",
       "    </tr>\n",
       "    <tr>\n",
       "      <th>8</th>\n",
       "      <td>98136</td>\n",
       "      <td>159.126</td>\n",
       "      <td>227.612</td>\n",
       "      <td>523.560</td>\n",
       "      <td>2218.096</td>\n",
       "      <td>1694.536</td>\n",
       "    </tr>\n",
       "    <tr>\n",
       "      <th>9</th>\n",
       "      <td>98146</td>\n",
       "      <td>149.076</td>\n",
       "      <td>224.051</td>\n",
       "      <td>802.984</td>\n",
       "      <td>2484.102</td>\n",
       "      <td>1681.118</td>\n",
       "    </tr>\n",
       "    <tr>\n",
       "      <th>10</th>\n",
       "      <td>98198</td>\n",
       "      <td>160.112</td>\n",
       "      <td>223.483</td>\n",
       "      <td>939.066</td>\n",
       "      <td>2147.081</td>\n",
       "      <td>1208.015</td>\n",
       "    </tr>\n",
       "    <tr>\n",
       "      <th>11</th>\n",
       "      <td>98166</td>\n",
       "      <td>186.425</td>\n",
       "      <td>289.645</td>\n",
       "      <td>1199.515</td>\n",
       "      <td>2375.881</td>\n",
       "      <td>1176.367</td>\n",
       "    </tr>\n",
       "    <tr>\n",
       "      <th>12</th>\n",
       "      <td>98028</td>\n",
       "      <td>196.797</td>\n",
       "      <td>313.083</td>\n",
       "      <td>1105.166</td>\n",
       "      <td>2142.808</td>\n",
       "      <td>1037.642</td>\n",
       "    </tr>\n",
       "    <tr>\n",
       "      <th>13</th>\n",
       "      <td>98155</td>\n",
       "      <td>163.286</td>\n",
       "      <td>403.756</td>\n",
       "      <td>944.099</td>\n",
       "      <td>1958.990</td>\n",
       "      <td>1014.890</td>\n",
       "    </tr>\n",
       "    <tr>\n",
       "      <th>14</th>\n",
       "      <td>98115</td>\n",
       "      <td>170.141</td>\n",
       "      <td>381.831</td>\n",
       "      <td>504.104</td>\n",
       "      <td>1479.852</td>\n",
       "      <td>975.748</td>\n",
       "    </tr>\n",
       "    <tr>\n",
       "      <th>15</th>\n",
       "      <td>98144</td>\n",
       "      <td>176.492</td>\n",
       "      <td>373.470</td>\n",
       "      <td>375.547</td>\n",
       "      <td>1192.317</td>\n",
       "      <td>816.770</td>\n",
       "    </tr>\n",
       "    <tr>\n",
       "      <th>16</th>\n",
       "      <td>98052</td>\n",
       "      <td>219.179</td>\n",
       "      <td>297.909</td>\n",
       "      <td>1029.255</td>\n",
       "      <td>1797.178</td>\n",
       "      <td>767.923</td>\n",
       "    </tr>\n",
       "    <tr>\n",
       "      <th>17</th>\n",
       "      <td>98177</td>\n",
       "      <td>215.630</td>\n",
       "      <td>270.348</td>\n",
       "      <td>1103.195</td>\n",
       "      <td>1806.870</td>\n",
       "      <td>703.675</td>\n",
       "    </tr>\n",
       "    <tr>\n",
       "      <th>18</th>\n",
       "      <td>98008</td>\n",
       "      <td>191.365</td>\n",
       "      <td>406.399</td>\n",
       "      <td>928.072</td>\n",
       "      <td>1508.693</td>\n",
       "      <td>580.621</td>\n",
       "    </tr>\n",
       "    <tr>\n",
       "      <th>19</th>\n",
       "      <td>98039</td>\n",
       "      <td>351.164</td>\n",
       "      <td>448.721</td>\n",
       "      <td>1607.641</td>\n",
       "      <td>2067.742</td>\n",
       "      <td>460.101</td>\n",
       "    </tr>\n",
       "    <tr>\n",
       "      <th>20</th>\n",
       "      <td>98178</td>\n",
       "      <td>159.059</td>\n",
       "      <td>205.729</td>\n",
       "      <td>757.117</td>\n",
       "      <td>1188.704</td>\n",
       "      <td>431.587</td>\n",
       "    </tr>\n",
       "    <tr>\n",
       "      <th>21</th>\n",
       "      <td>98125</td>\n",
       "      <td>161.001</td>\n",
       "      <td>245.109</td>\n",
       "      <td>708.543</td>\n",
       "      <td>1094.893</td>\n",
       "      <td>386.350</td>\n",
       "    </tr>\n",
       "    <tr>\n",
       "      <th>22</th>\n",
       "      <td>98040</td>\n",
       "      <td>283.024</td>\n",
       "      <td>426.856</td>\n",
       "      <td>1264.526</td>\n",
       "      <td>1486.532</td>\n",
       "      <td>222.006</td>\n",
       "    </tr>\n",
       "    <tr>\n",
       "      <th>23</th>\n",
       "      <td>98056</td>\n",
       "      <td>186.240</td>\n",
       "      <td>342.502</td>\n",
       "      <td>887.392</td>\n",
       "      <td>1071.977</td>\n",
       "      <td>184.585</td>\n",
       "    </tr>\n",
       "  </tbody>\n",
       "</table>\n",
       "</div>"
      ],
      "text/plain": [
       "    zipcode  living_non_water  living_water  lot_non_water  lot_water  \\\n",
       "0     98023           184.556       233.806        950.901   4579.127   \n",
       "1     98118           155.745       357.986        519.572   3464.353   \n",
       "2     98033           219.106       525.521        955.590   3737.240   \n",
       "3     98004           268.160       932.746       1210.301   3467.604   \n",
       "4     98199           200.509       304.722        498.087   2704.499   \n",
       "5     98116           172.004       231.328        456.187   2573.599   \n",
       "6     98034           182.193       359.906        891.314   2715.740   \n",
       "7     98105           196.417       454.296        452.867   2201.244   \n",
       "8     98136           159.126       227.612        523.560   2218.096   \n",
       "9     98146           149.076       224.051        802.984   2484.102   \n",
       "10    98198           160.112       223.483        939.066   2147.081   \n",
       "11    98166           186.425       289.645       1199.515   2375.881   \n",
       "12    98028           196.797       313.083       1105.166   2142.808   \n",
       "13    98155           163.286       403.756        944.099   1958.990   \n",
       "14    98115           170.141       381.831        504.104   1479.852   \n",
       "15    98144           176.492       373.470        375.547   1192.317   \n",
       "16    98052           219.179       297.909       1029.255   1797.178   \n",
       "17    98177           215.630       270.348       1103.195   1806.870   \n",
       "18    98008           191.365       406.399        928.072   1508.693   \n",
       "19    98039           351.164       448.721       1607.641   2067.742   \n",
       "20    98178           159.059       205.729        757.117   1188.704   \n",
       "21    98125           161.001       245.109        708.543   1094.893   \n",
       "22    98040           283.024       426.856       1264.526   1486.532   \n",
       "23    98056           186.240       342.502        887.392   1071.977   \n",
       "\n",
       "    waterfront_larger_lot  \n",
       "0                3628.226  \n",
       "1                2944.781  \n",
       "2                2781.650  \n",
       "3                2257.304  \n",
       "4                2206.412  \n",
       "5                2117.412  \n",
       "6                1824.427  \n",
       "7                1748.376  \n",
       "8                1694.536  \n",
       "9                1681.118  \n",
       "10               1208.015  \n",
       "11               1176.367  \n",
       "12               1037.642  \n",
       "13               1014.890  \n",
       "14                975.748  \n",
       "15                816.770  \n",
       "16                767.923  \n",
       "17                703.675  \n",
       "18                580.621  \n",
       "19                460.101  \n",
       "20                431.587  \n",
       "21                386.350  \n",
       "22                222.006  \n",
       "23                184.585  "
      ]
     },
     "execution_count": 238,
     "metadata": {},
     "output_type": "execute_result"
    }
   ],
   "source": [
    "# Identify the best areas to own a waterfront house to show off --> sqm of lot is larger than the average sqm lot in the same zipcode\n",
    "\n",
    "# groupy zipcode and calculate average lot sizes for all houses\n",
    "group_zip = df_eda.groupby(['zipcode','waterfront']).agg({'sqm_living':'mean','sqm_lot':'mean'}).unstack()\n",
    "\n",
    "# filter for areas where lot sizes at waterfront are larger\n",
    "interesting_areas = group_zip[(group_zip[('sqm_living', 1.0)] > group_zip[('sqm_living', 0.0)]) & \n",
    "                           (group_zip[('sqm_lot', 1.0)] > group_zip[('sqm_lot', 0.0)])]\n",
    "\n",
    "interesting_areas.columns = ['living_non_water','living_water','lot_non_water','lot_water']\n",
    "interesting_areas\n",
    "# filter by zipcode to find where difference of sqm for waterfront and non waterfront is the largest\n",
    "\n",
    "interesting_areas['waterfront_larger_lot'] = interesting_areas['lot_water']-interesting_areas['lot_non_water']\n",
    "interesting_areas_sorted = interesting_areas.sort_values(by='waterfront_larger_lot',ascending=False)\n",
    "interesting_areas_sorted = interesting_areas_sorted.reset_index('zipcode')\n",
    "interesting_areas_sorted"
   ]
  },
  {
   "cell_type": "code",
   "execution_count": 240,
   "metadata": {},
   "outputs": [
    {
     "data": {
      "text/html": [
       "<div>\n",
       "<style scoped>\n",
       "    .dataframe tbody tr th:only-of-type {\n",
       "        vertical-align: middle;\n",
       "    }\n",
       "\n",
       "    .dataframe tbody tr th {\n",
       "        vertical-align: top;\n",
       "    }\n",
       "\n",
       "    .dataframe thead th {\n",
       "        text-align: right;\n",
       "    }\n",
       "</style>\n",
       "<table border=\"1\" class=\"dataframe\">\n",
       "  <thead>\n",
       "    <tr style=\"text-align: right;\">\n",
       "      <th></th>\n",
       "      <th>zipcode</th>\n",
       "      <th>living_non_water</th>\n",
       "      <th>living_water</th>\n",
       "      <th>lot_non_water</th>\n",
       "      <th>lot_water</th>\n",
       "      <th>waterfront_larger_lot</th>\n",
       "    </tr>\n",
       "  </thead>\n",
       "  <tbody>\n",
       "    <tr>\n",
       "      <th>0</th>\n",
       "      <td>98023</td>\n",
       "      <td>184.556</td>\n",
       "      <td>233.806</td>\n",
       "      <td>950.901</td>\n",
       "      <td>4579.127</td>\n",
       "      <td>3628.226</td>\n",
       "    </tr>\n",
       "    <tr>\n",
       "      <th>1</th>\n",
       "      <td>98118</td>\n",
       "      <td>155.745</td>\n",
       "      <td>357.986</td>\n",
       "      <td>519.572</td>\n",
       "      <td>3464.353</td>\n",
       "      <td>2944.781</td>\n",
       "    </tr>\n",
       "    <tr>\n",
       "      <th>2</th>\n",
       "      <td>98033</td>\n",
       "      <td>219.106</td>\n",
       "      <td>525.521</td>\n",
       "      <td>955.590</td>\n",
       "      <td>3737.240</td>\n",
       "      <td>2781.650</td>\n",
       "    </tr>\n",
       "    <tr>\n",
       "      <th>3</th>\n",
       "      <td>98004</td>\n",
       "      <td>268.160</td>\n",
       "      <td>932.746</td>\n",
       "      <td>1210.301</td>\n",
       "      <td>3467.604</td>\n",
       "      <td>2257.304</td>\n",
       "    </tr>\n",
       "    <tr>\n",
       "      <th>4</th>\n",
       "      <td>98199</td>\n",
       "      <td>200.509</td>\n",
       "      <td>304.722</td>\n",
       "      <td>498.087</td>\n",
       "      <td>2704.499</td>\n",
       "      <td>2206.412</td>\n",
       "    </tr>\n",
       "    <tr>\n",
       "      <th>5</th>\n",
       "      <td>98116</td>\n",
       "      <td>172.004</td>\n",
       "      <td>231.328</td>\n",
       "      <td>456.187</td>\n",
       "      <td>2573.599</td>\n",
       "      <td>2117.412</td>\n",
       "    </tr>\n",
       "    <tr>\n",
       "      <th>6</th>\n",
       "      <td>98034</td>\n",
       "      <td>182.193</td>\n",
       "      <td>359.906</td>\n",
       "      <td>891.314</td>\n",
       "      <td>2715.740</td>\n",
       "      <td>1824.427</td>\n",
       "    </tr>\n",
       "    <tr>\n",
       "      <th>7</th>\n",
       "      <td>98105</td>\n",
       "      <td>196.417</td>\n",
       "      <td>454.296</td>\n",
       "      <td>452.867</td>\n",
       "      <td>2201.244</td>\n",
       "      <td>1748.376</td>\n",
       "    </tr>\n",
       "    <tr>\n",
       "      <th>8</th>\n",
       "      <td>98136</td>\n",
       "      <td>159.126</td>\n",
       "      <td>227.612</td>\n",
       "      <td>523.560</td>\n",
       "      <td>2218.096</td>\n",
       "      <td>1694.536</td>\n",
       "    </tr>\n",
       "    <tr>\n",
       "      <th>9</th>\n",
       "      <td>98146</td>\n",
       "      <td>149.076</td>\n",
       "      <td>224.051</td>\n",
       "      <td>802.984</td>\n",
       "      <td>2484.102</td>\n",
       "      <td>1681.118</td>\n",
       "    </tr>\n",
       "    <tr>\n",
       "      <th>10</th>\n",
       "      <td>98198</td>\n",
       "      <td>160.112</td>\n",
       "      <td>223.483</td>\n",
       "      <td>939.066</td>\n",
       "      <td>2147.081</td>\n",
       "      <td>1208.015</td>\n",
       "    </tr>\n",
       "    <tr>\n",
       "      <th>11</th>\n",
       "      <td>98166</td>\n",
       "      <td>186.425</td>\n",
       "      <td>289.645</td>\n",
       "      <td>1199.515</td>\n",
       "      <td>2375.881</td>\n",
       "      <td>1176.367</td>\n",
       "    </tr>\n",
       "    <tr>\n",
       "      <th>12</th>\n",
       "      <td>98028</td>\n",
       "      <td>196.797</td>\n",
       "      <td>313.083</td>\n",
       "      <td>1105.166</td>\n",
       "      <td>2142.808</td>\n",
       "      <td>1037.642</td>\n",
       "    </tr>\n",
       "    <tr>\n",
       "      <th>13</th>\n",
       "      <td>98155</td>\n",
       "      <td>163.286</td>\n",
       "      <td>403.756</td>\n",
       "      <td>944.099</td>\n",
       "      <td>1958.990</td>\n",
       "      <td>1014.890</td>\n",
       "    </tr>\n",
       "    <tr>\n",
       "      <th>14</th>\n",
       "      <td>98115</td>\n",
       "      <td>170.141</td>\n",
       "      <td>381.831</td>\n",
       "      <td>504.104</td>\n",
       "      <td>1479.852</td>\n",
       "      <td>975.748</td>\n",
       "    </tr>\n",
       "    <tr>\n",
       "      <th>15</th>\n",
       "      <td>98144</td>\n",
       "      <td>176.492</td>\n",
       "      <td>373.470</td>\n",
       "      <td>375.547</td>\n",
       "      <td>1192.317</td>\n",
       "      <td>816.770</td>\n",
       "    </tr>\n",
       "    <tr>\n",
       "      <th>16</th>\n",
       "      <td>98052</td>\n",
       "      <td>219.179</td>\n",
       "      <td>297.909</td>\n",
       "      <td>1029.255</td>\n",
       "      <td>1797.178</td>\n",
       "      <td>767.923</td>\n",
       "    </tr>\n",
       "    <tr>\n",
       "      <th>17</th>\n",
       "      <td>98177</td>\n",
       "      <td>215.630</td>\n",
       "      <td>270.348</td>\n",
       "      <td>1103.195</td>\n",
       "      <td>1806.870</td>\n",
       "      <td>703.675</td>\n",
       "    </tr>\n",
       "    <tr>\n",
       "      <th>18</th>\n",
       "      <td>98008</td>\n",
       "      <td>191.365</td>\n",
       "      <td>406.399</td>\n",
       "      <td>928.072</td>\n",
       "      <td>1508.693</td>\n",
       "      <td>580.621</td>\n",
       "    </tr>\n",
       "    <tr>\n",
       "      <th>19</th>\n",
       "      <td>98039</td>\n",
       "      <td>351.164</td>\n",
       "      <td>448.721</td>\n",
       "      <td>1607.641</td>\n",
       "      <td>2067.742</td>\n",
       "      <td>460.101</td>\n",
       "    </tr>\n",
       "    <tr>\n",
       "      <th>20</th>\n",
       "      <td>98178</td>\n",
       "      <td>159.059</td>\n",
       "      <td>205.729</td>\n",
       "      <td>757.117</td>\n",
       "      <td>1188.704</td>\n",
       "      <td>431.587</td>\n",
       "    </tr>\n",
       "    <tr>\n",
       "      <th>21</th>\n",
       "      <td>98125</td>\n",
       "      <td>161.001</td>\n",
       "      <td>245.109</td>\n",
       "      <td>708.543</td>\n",
       "      <td>1094.893</td>\n",
       "      <td>386.350</td>\n",
       "    </tr>\n",
       "    <tr>\n",
       "      <th>22</th>\n",
       "      <td>98040</td>\n",
       "      <td>283.024</td>\n",
       "      <td>426.856</td>\n",
       "      <td>1264.526</td>\n",
       "      <td>1486.532</td>\n",
       "      <td>222.006</td>\n",
       "    </tr>\n",
       "    <tr>\n",
       "      <th>23</th>\n",
       "      <td>98056</td>\n",
       "      <td>186.240</td>\n",
       "      <td>342.502</td>\n",
       "      <td>887.392</td>\n",
       "      <td>1071.977</td>\n",
       "      <td>184.585</td>\n",
       "    </tr>\n",
       "  </tbody>\n",
       "</table>\n",
       "</div>"
      ],
      "text/plain": [
       "    zipcode  living_non_water  living_water  lot_non_water  lot_water  \\\n",
       "0     98023           184.556       233.806        950.901   4579.127   \n",
       "1     98118           155.745       357.986        519.572   3464.353   \n",
       "2     98033           219.106       525.521        955.590   3737.240   \n",
       "3     98004           268.160       932.746       1210.301   3467.604   \n",
       "4     98199           200.509       304.722        498.087   2704.499   \n",
       "5     98116           172.004       231.328        456.187   2573.599   \n",
       "6     98034           182.193       359.906        891.314   2715.740   \n",
       "7     98105           196.417       454.296        452.867   2201.244   \n",
       "8     98136           159.126       227.612        523.560   2218.096   \n",
       "9     98146           149.076       224.051        802.984   2484.102   \n",
       "10    98198           160.112       223.483        939.066   2147.081   \n",
       "11    98166           186.425       289.645       1199.515   2375.881   \n",
       "12    98028           196.797       313.083       1105.166   2142.808   \n",
       "13    98155           163.286       403.756        944.099   1958.990   \n",
       "14    98115           170.141       381.831        504.104   1479.852   \n",
       "15    98144           176.492       373.470        375.547   1192.317   \n",
       "16    98052           219.179       297.909       1029.255   1797.178   \n",
       "17    98177           215.630       270.348       1103.195   1806.870   \n",
       "18    98008           191.365       406.399        928.072   1508.693   \n",
       "19    98039           351.164       448.721       1607.641   2067.742   \n",
       "20    98178           159.059       205.729        757.117   1188.704   \n",
       "21    98125           161.001       245.109        708.543   1094.893   \n",
       "22    98040           283.024       426.856       1264.526   1486.532   \n",
       "23    98056           186.240       342.502        887.392   1071.977   \n",
       "\n",
       "    waterfront_larger_lot  \n",
       "0                3628.226  \n",
       "1                2944.781  \n",
       "2                2781.650  \n",
       "3                2257.304  \n",
       "4                2206.412  \n",
       "5                2117.412  \n",
       "6                1824.427  \n",
       "7                1748.376  \n",
       "8                1694.536  \n",
       "9                1681.118  \n",
       "10               1208.015  \n",
       "11               1176.367  \n",
       "12               1037.642  \n",
       "13               1014.890  \n",
       "14                975.748  \n",
       "15                816.770  \n",
       "16                767.923  \n",
       "17                703.675  \n",
       "18                580.621  \n",
       "19                460.101  \n",
       "20                431.587  \n",
       "21                386.350  \n",
       "22                222.006  \n",
       "23                184.585  "
      ]
     },
     "execution_count": 240,
     "metadata": {},
     "output_type": "execute_result"
    }
   ],
   "source": [
    "interesting_areas_sorted.to_csv('interesting_areas_sorted.csv')\n",
    "interesting_areas_sorted"
   ]
  },
  {
   "cell_type": "code",
   "execution_count": 259,
   "metadata": {},
   "outputs": [
    {
     "data": {
      "text/html": [
       "<div>\n",
       "<style scoped>\n",
       "    .dataframe tbody tr th:only-of-type {\n",
       "        vertical-align: middle;\n",
       "    }\n",
       "\n",
       "    .dataframe tbody tr th {\n",
       "        vertical-align: top;\n",
       "    }\n",
       "\n",
       "    .dataframe thead th {\n",
       "        text-align: right;\n",
       "    }\n",
       "</style>\n",
       "<table border=\"1\" class=\"dataframe\">\n",
       "  <thead>\n",
       "    <tr style=\"text-align: right;\">\n",
       "      <th></th>\n",
       "      <th>zipcode</th>\n",
       "      <th>living_non_water</th>\n",
       "      <th>living_water</th>\n",
       "      <th>lot_non_water</th>\n",
       "      <th>lot_water</th>\n",
       "      <th>waterfront_larger_lot</th>\n",
       "      <th>preferred_areas</th>\n",
       "    </tr>\n",
       "  </thead>\n",
       "  <tbody>\n",
       "    <tr>\n",
       "      <th>0</th>\n",
       "      <td>98023</td>\n",
       "      <td>184.556</td>\n",
       "      <td>233.806</td>\n",
       "      <td>950.901</td>\n",
       "      <td>4579.127</td>\n",
       "      <td>3628.226</td>\n",
       "      <td>Preferred</td>\n",
       "    </tr>\n",
       "    <tr>\n",
       "      <th>1</th>\n",
       "      <td>98118</td>\n",
       "      <td>155.745</td>\n",
       "      <td>357.986</td>\n",
       "      <td>519.572</td>\n",
       "      <td>3464.353</td>\n",
       "      <td>2944.781</td>\n",
       "      <td>Preferred</td>\n",
       "    </tr>\n",
       "    <tr>\n",
       "      <th>2</th>\n",
       "      <td>98033</td>\n",
       "      <td>219.106</td>\n",
       "      <td>525.521</td>\n",
       "      <td>955.590</td>\n",
       "      <td>3737.240</td>\n",
       "      <td>2781.650</td>\n",
       "      <td>Preferred</td>\n",
       "    </tr>\n",
       "    <tr>\n",
       "      <th>3</th>\n",
       "      <td>98004</td>\n",
       "      <td>268.160</td>\n",
       "      <td>932.746</td>\n",
       "      <td>1210.301</td>\n",
       "      <td>3467.604</td>\n",
       "      <td>2257.304</td>\n",
       "      <td>Preferred</td>\n",
       "    </tr>\n",
       "    <tr>\n",
       "      <th>4</th>\n",
       "      <td>98199</td>\n",
       "      <td>200.509</td>\n",
       "      <td>304.722</td>\n",
       "      <td>498.087</td>\n",
       "      <td>2704.499</td>\n",
       "      <td>2206.412</td>\n",
       "      <td>Preferred</td>\n",
       "    </tr>\n",
       "    <tr>\n",
       "      <th>5</th>\n",
       "      <td>98116</td>\n",
       "      <td>172.004</td>\n",
       "      <td>231.328</td>\n",
       "      <td>456.187</td>\n",
       "      <td>2573.599</td>\n",
       "      <td>2117.412</td>\n",
       "      <td>Preferred</td>\n",
       "    </tr>\n",
       "    <tr>\n",
       "      <th>6</th>\n",
       "      <td>98034</td>\n",
       "      <td>182.193</td>\n",
       "      <td>359.906</td>\n",
       "      <td>891.314</td>\n",
       "      <td>2715.740</td>\n",
       "      <td>1824.427</td>\n",
       "      <td>Preferred</td>\n",
       "    </tr>\n",
       "    <tr>\n",
       "      <th>7</th>\n",
       "      <td>98105</td>\n",
       "      <td>196.417</td>\n",
       "      <td>454.296</td>\n",
       "      <td>452.867</td>\n",
       "      <td>2201.244</td>\n",
       "      <td>1748.376</td>\n",
       "      <td>Preferred</td>\n",
       "    </tr>\n",
       "    <tr>\n",
       "      <th>8</th>\n",
       "      <td>98136</td>\n",
       "      <td>159.126</td>\n",
       "      <td>227.612</td>\n",
       "      <td>523.560</td>\n",
       "      <td>2218.096</td>\n",
       "      <td>1694.536</td>\n",
       "      <td>Preferred</td>\n",
       "    </tr>\n",
       "    <tr>\n",
       "      <th>9</th>\n",
       "      <td>98146</td>\n",
       "      <td>149.076</td>\n",
       "      <td>224.051</td>\n",
       "      <td>802.984</td>\n",
       "      <td>2484.102</td>\n",
       "      <td>1681.118</td>\n",
       "      <td>Preferred</td>\n",
       "    </tr>\n",
       "    <tr>\n",
       "      <th>10</th>\n",
       "      <td>98198</td>\n",
       "      <td>160.112</td>\n",
       "      <td>223.483</td>\n",
       "      <td>939.066</td>\n",
       "      <td>2147.081</td>\n",
       "      <td>1208.015</td>\n",
       "      <td>Other</td>\n",
       "    </tr>\n",
       "    <tr>\n",
       "      <th>11</th>\n",
       "      <td>98166</td>\n",
       "      <td>186.425</td>\n",
       "      <td>289.645</td>\n",
       "      <td>1199.515</td>\n",
       "      <td>2375.881</td>\n",
       "      <td>1176.367</td>\n",
       "      <td>Other</td>\n",
       "    </tr>\n",
       "    <tr>\n",
       "      <th>12</th>\n",
       "      <td>98028</td>\n",
       "      <td>196.797</td>\n",
       "      <td>313.083</td>\n",
       "      <td>1105.166</td>\n",
       "      <td>2142.808</td>\n",
       "      <td>1037.642</td>\n",
       "      <td>Other</td>\n",
       "    </tr>\n",
       "    <tr>\n",
       "      <th>13</th>\n",
       "      <td>98155</td>\n",
       "      <td>163.286</td>\n",
       "      <td>403.756</td>\n",
       "      <td>944.099</td>\n",
       "      <td>1958.990</td>\n",
       "      <td>1014.890</td>\n",
       "      <td>Other</td>\n",
       "    </tr>\n",
       "    <tr>\n",
       "      <th>14</th>\n",
       "      <td>98115</td>\n",
       "      <td>170.141</td>\n",
       "      <td>381.831</td>\n",
       "      <td>504.104</td>\n",
       "      <td>1479.852</td>\n",
       "      <td>975.748</td>\n",
       "      <td>Other</td>\n",
       "    </tr>\n",
       "    <tr>\n",
       "      <th>15</th>\n",
       "      <td>98144</td>\n",
       "      <td>176.492</td>\n",
       "      <td>373.470</td>\n",
       "      <td>375.547</td>\n",
       "      <td>1192.317</td>\n",
       "      <td>816.770</td>\n",
       "      <td>Other</td>\n",
       "    </tr>\n",
       "    <tr>\n",
       "      <th>16</th>\n",
       "      <td>98052</td>\n",
       "      <td>219.179</td>\n",
       "      <td>297.909</td>\n",
       "      <td>1029.255</td>\n",
       "      <td>1797.178</td>\n",
       "      <td>767.923</td>\n",
       "      <td>Other</td>\n",
       "    </tr>\n",
       "    <tr>\n",
       "      <th>17</th>\n",
       "      <td>98177</td>\n",
       "      <td>215.630</td>\n",
       "      <td>270.348</td>\n",
       "      <td>1103.195</td>\n",
       "      <td>1806.870</td>\n",
       "      <td>703.675</td>\n",
       "      <td>Other</td>\n",
       "    </tr>\n",
       "    <tr>\n",
       "      <th>18</th>\n",
       "      <td>98008</td>\n",
       "      <td>191.365</td>\n",
       "      <td>406.399</td>\n",
       "      <td>928.072</td>\n",
       "      <td>1508.693</td>\n",
       "      <td>580.621</td>\n",
       "      <td>Other</td>\n",
       "    </tr>\n",
       "    <tr>\n",
       "      <th>19</th>\n",
       "      <td>98039</td>\n",
       "      <td>351.164</td>\n",
       "      <td>448.721</td>\n",
       "      <td>1607.641</td>\n",
       "      <td>2067.742</td>\n",
       "      <td>460.101</td>\n",
       "      <td>Other</td>\n",
       "    </tr>\n",
       "    <tr>\n",
       "      <th>20</th>\n",
       "      <td>98178</td>\n",
       "      <td>159.059</td>\n",
       "      <td>205.729</td>\n",
       "      <td>757.117</td>\n",
       "      <td>1188.704</td>\n",
       "      <td>431.587</td>\n",
       "      <td>Other</td>\n",
       "    </tr>\n",
       "    <tr>\n",
       "      <th>21</th>\n",
       "      <td>98125</td>\n",
       "      <td>161.001</td>\n",
       "      <td>245.109</td>\n",
       "      <td>708.543</td>\n",
       "      <td>1094.893</td>\n",
       "      <td>386.350</td>\n",
       "      <td>Other</td>\n",
       "    </tr>\n",
       "    <tr>\n",
       "      <th>22</th>\n",
       "      <td>98040</td>\n",
       "      <td>283.024</td>\n",
       "      <td>426.856</td>\n",
       "      <td>1264.526</td>\n",
       "      <td>1486.532</td>\n",
       "      <td>222.006</td>\n",
       "      <td>Other</td>\n",
       "    </tr>\n",
       "    <tr>\n",
       "      <th>23</th>\n",
       "      <td>98056</td>\n",
       "      <td>186.240</td>\n",
       "      <td>342.502</td>\n",
       "      <td>887.392</td>\n",
       "      <td>1071.977</td>\n",
       "      <td>184.585</td>\n",
       "      <td>Other</td>\n",
       "    </tr>\n",
       "  </tbody>\n",
       "</table>\n",
       "</div>"
      ],
      "text/plain": [
       "    zipcode  living_non_water  living_water  lot_non_water  lot_water  \\\n",
       "0     98023           184.556       233.806        950.901   4579.127   \n",
       "1     98118           155.745       357.986        519.572   3464.353   \n",
       "2     98033           219.106       525.521        955.590   3737.240   \n",
       "3     98004           268.160       932.746       1210.301   3467.604   \n",
       "4     98199           200.509       304.722        498.087   2704.499   \n",
       "5     98116           172.004       231.328        456.187   2573.599   \n",
       "6     98034           182.193       359.906        891.314   2715.740   \n",
       "7     98105           196.417       454.296        452.867   2201.244   \n",
       "8     98136           159.126       227.612        523.560   2218.096   \n",
       "9     98146           149.076       224.051        802.984   2484.102   \n",
       "10    98198           160.112       223.483        939.066   2147.081   \n",
       "11    98166           186.425       289.645       1199.515   2375.881   \n",
       "12    98028           196.797       313.083       1105.166   2142.808   \n",
       "13    98155           163.286       403.756        944.099   1958.990   \n",
       "14    98115           170.141       381.831        504.104   1479.852   \n",
       "15    98144           176.492       373.470        375.547   1192.317   \n",
       "16    98052           219.179       297.909       1029.255   1797.178   \n",
       "17    98177           215.630       270.348       1103.195   1806.870   \n",
       "18    98008           191.365       406.399        928.072   1508.693   \n",
       "19    98039           351.164       448.721       1607.641   2067.742   \n",
       "20    98178           159.059       205.729        757.117   1188.704   \n",
       "21    98125           161.001       245.109        708.543   1094.893   \n",
       "22    98040           283.024       426.856       1264.526   1486.532   \n",
       "23    98056           186.240       342.502        887.392   1071.977   \n",
       "\n",
       "    waterfront_larger_lot preferred_areas  \n",
       "0                3628.226       Preferred  \n",
       "1                2944.781       Preferred  \n",
       "2                2781.650       Preferred  \n",
       "3                2257.304       Preferred  \n",
       "4                2206.412       Preferred  \n",
       "5                2117.412       Preferred  \n",
       "6                1824.427       Preferred  \n",
       "7                1748.376       Preferred  \n",
       "8                1694.536       Preferred  \n",
       "9                1681.118       Preferred  \n",
       "10               1208.015           Other  \n",
       "11               1176.367           Other  \n",
       "12               1037.642           Other  \n",
       "13               1014.890           Other  \n",
       "14                975.748           Other  \n",
       "15                816.770           Other  \n",
       "16                767.923           Other  \n",
       "17                703.675           Other  \n",
       "18                580.621           Other  \n",
       "19                460.101           Other  \n",
       "20                431.587           Other  \n",
       "21                386.350           Other  \n",
       "22                222.006           Other  \n",
       "23                184.585           Other  "
      ]
     },
     "execution_count": 259,
     "metadata": {},
     "output_type": "execute_result"
    }
   ],
   "source": [
    "# highlight the preferred zipcodes\n",
    "preferred_zipcodes = interesting_areas_sorted['zipcode'].head(10)\n",
    "preferred_zipcodes_list = preferred_zipcodes.tolist()\n",
    "interesting_areas_sorted['preferred_areas'] = interesting_areas_sorted['zipcode'].apply(lambda x: 'Preferred' if x in preferred_zipcodes_list else 'Other')\n",
    "interesting_areas_sorted"
   ]
  },
  {
   "cell_type": "code",
   "execution_count": 265,
   "metadata": {},
   "outputs": [
    {
     "data": {
      "application/vnd.plotly.v1+json": {
       "config": {
        "plotlyServerURL": "https://plot.ly"
       },
       "data": [
        {
         "colorscale": [
          [
           0,
           "#636efa"
          ],
          [
           1,
           "#636efa"
          ]
         ],
         "geojson": "https://raw.githubusercontent.com/OpenDataDE/State-zip-code-GeoJSON/master/wa_washington_zip_codes_geo.min.json",
         "hovertemplate": "Zip Code Preference=Preferred<br>zipcode=%{location}<extra></extra>",
         "locations": [
          98023,
          98118,
          98033,
          98004,
          98199,
          98116,
          98034,
          98105,
          98136,
          98146
         ],
         "marker": {
          "opacity": 0.5
         },
         "name": "Preferred",
         "showlegend": true,
         "showscale": false,
         "subplot": "mapbox",
         "type": "choroplethmapbox",
         "z": [
          1,
          1,
          1,
          1,
          1,
          1,
          1,
          1,
          1,
          1
         ]
        },
        {
         "colorscale": [
          [
           0,
           "#EF553B"
          ],
          [
           1,
           "#EF553B"
          ]
         ],
         "geojson": "https://raw.githubusercontent.com/OpenDataDE/State-zip-code-GeoJSON/master/wa_washington_zip_codes_geo.min.json",
         "hovertemplate": "Zip Code Preference=Other<br>zipcode=%{location}<extra></extra>",
         "locations": [
          98198,
          98166,
          98028,
          98155,
          98115,
          98144,
          98052,
          98177,
          98008,
          98039,
          98178,
          98125,
          98040,
          98056
         ],
         "marker": {
          "opacity": 0.5
         },
         "name": "Other",
         "showlegend": true,
         "showscale": false,
         "subplot": "mapbox",
         "type": "choroplethmapbox",
         "z": [
          1,
          1,
          1,
          1,
          1,
          1,
          1,
          1,
          1,
          1,
          1,
          1,
          1,
          1
         ]
        }
       ],
       "layout": {
        "height": 800,
        "legend": {
         "title": {
          "text": "Zip Code Preference"
         },
         "tracegroupgap": 0
        },
        "mapbox": {
         "center": {
          "lat": 47.56009299439737,
          "lon": -122.21398254294577
         },
         "domain": {
          "x": [
           0,
           1
          ],
          "y": [
           0,
           1
          ]
         },
         "style": "open-street-map",
         "zoom": 8
        },
        "margin": {
         "b": 0,
         "l": 0,
         "r": 0,
         "t": 0
        },
        "template": {
         "data": {
          "bar": [
           {
            "error_x": {
             "color": "#2a3f5f"
            },
            "error_y": {
             "color": "#2a3f5f"
            },
            "marker": {
             "line": {
              "color": "#E5ECF6",
              "width": 0.5
             },
             "pattern": {
              "fillmode": "overlay",
              "size": 10,
              "solidity": 0.2
             }
            },
            "type": "bar"
           }
          ],
          "barpolar": [
           {
            "marker": {
             "line": {
              "color": "#E5ECF6",
              "width": 0.5
             },
             "pattern": {
              "fillmode": "overlay",
              "size": 10,
              "solidity": 0.2
             }
            },
            "type": "barpolar"
           }
          ],
          "carpet": [
           {
            "aaxis": {
             "endlinecolor": "#2a3f5f",
             "gridcolor": "white",
             "linecolor": "white",
             "minorgridcolor": "white",
             "startlinecolor": "#2a3f5f"
            },
            "baxis": {
             "endlinecolor": "#2a3f5f",
             "gridcolor": "white",
             "linecolor": "white",
             "minorgridcolor": "white",
             "startlinecolor": "#2a3f5f"
            },
            "type": "carpet"
           }
          ],
          "choropleth": [
           {
            "colorbar": {
             "outlinewidth": 0,
             "ticks": ""
            },
            "type": "choropleth"
           }
          ],
          "contour": [
           {
            "colorbar": {
             "outlinewidth": 0,
             "ticks": ""
            },
            "colorscale": [
             [
              0,
              "#0d0887"
             ],
             [
              0.1111111111111111,
              "#46039f"
             ],
             [
              0.2222222222222222,
              "#7201a8"
             ],
             [
              0.3333333333333333,
              "#9c179e"
             ],
             [
              0.4444444444444444,
              "#bd3786"
             ],
             [
              0.5555555555555556,
              "#d8576b"
             ],
             [
              0.6666666666666666,
              "#ed7953"
             ],
             [
              0.7777777777777778,
              "#fb9f3a"
             ],
             [
              0.8888888888888888,
              "#fdca26"
             ],
             [
              1,
              "#f0f921"
             ]
            ],
            "type": "contour"
           }
          ],
          "contourcarpet": [
           {
            "colorbar": {
             "outlinewidth": 0,
             "ticks": ""
            },
            "type": "contourcarpet"
           }
          ],
          "heatmap": [
           {
            "colorbar": {
             "outlinewidth": 0,
             "ticks": ""
            },
            "colorscale": [
             [
              0,
              "#0d0887"
             ],
             [
              0.1111111111111111,
              "#46039f"
             ],
             [
              0.2222222222222222,
              "#7201a8"
             ],
             [
              0.3333333333333333,
              "#9c179e"
             ],
             [
              0.4444444444444444,
              "#bd3786"
             ],
             [
              0.5555555555555556,
              "#d8576b"
             ],
             [
              0.6666666666666666,
              "#ed7953"
             ],
             [
              0.7777777777777778,
              "#fb9f3a"
             ],
             [
              0.8888888888888888,
              "#fdca26"
             ],
             [
              1,
              "#f0f921"
             ]
            ],
            "type": "heatmap"
           }
          ],
          "heatmapgl": [
           {
            "colorbar": {
             "outlinewidth": 0,
             "ticks": ""
            },
            "colorscale": [
             [
              0,
              "#0d0887"
             ],
             [
              0.1111111111111111,
              "#46039f"
             ],
             [
              0.2222222222222222,
              "#7201a8"
             ],
             [
              0.3333333333333333,
              "#9c179e"
             ],
             [
              0.4444444444444444,
              "#bd3786"
             ],
             [
              0.5555555555555556,
              "#d8576b"
             ],
             [
              0.6666666666666666,
              "#ed7953"
             ],
             [
              0.7777777777777778,
              "#fb9f3a"
             ],
             [
              0.8888888888888888,
              "#fdca26"
             ],
             [
              1,
              "#f0f921"
             ]
            ],
            "type": "heatmapgl"
           }
          ],
          "histogram": [
           {
            "marker": {
             "pattern": {
              "fillmode": "overlay",
              "size": 10,
              "solidity": 0.2
             }
            },
            "type": "histogram"
           }
          ],
          "histogram2d": [
           {
            "colorbar": {
             "outlinewidth": 0,
             "ticks": ""
            },
            "colorscale": [
             [
              0,
              "#0d0887"
             ],
             [
              0.1111111111111111,
              "#46039f"
             ],
             [
              0.2222222222222222,
              "#7201a8"
             ],
             [
              0.3333333333333333,
              "#9c179e"
             ],
             [
              0.4444444444444444,
              "#bd3786"
             ],
             [
              0.5555555555555556,
              "#d8576b"
             ],
             [
              0.6666666666666666,
              "#ed7953"
             ],
             [
              0.7777777777777778,
              "#fb9f3a"
             ],
             [
              0.8888888888888888,
              "#fdca26"
             ],
             [
              1,
              "#f0f921"
             ]
            ],
            "type": "histogram2d"
           }
          ],
          "histogram2dcontour": [
           {
            "colorbar": {
             "outlinewidth": 0,
             "ticks": ""
            },
            "colorscale": [
             [
              0,
              "#0d0887"
             ],
             [
              0.1111111111111111,
              "#46039f"
             ],
             [
              0.2222222222222222,
              "#7201a8"
             ],
             [
              0.3333333333333333,
              "#9c179e"
             ],
             [
              0.4444444444444444,
              "#bd3786"
             ],
             [
              0.5555555555555556,
              "#d8576b"
             ],
             [
              0.6666666666666666,
              "#ed7953"
             ],
             [
              0.7777777777777778,
              "#fb9f3a"
             ],
             [
              0.8888888888888888,
              "#fdca26"
             ],
             [
              1,
              "#f0f921"
             ]
            ],
            "type": "histogram2dcontour"
           }
          ],
          "mesh3d": [
           {
            "colorbar": {
             "outlinewidth": 0,
             "ticks": ""
            },
            "type": "mesh3d"
           }
          ],
          "parcoords": [
           {
            "line": {
             "colorbar": {
              "outlinewidth": 0,
              "ticks": ""
             }
            },
            "type": "parcoords"
           }
          ],
          "pie": [
           {
            "automargin": true,
            "type": "pie"
           }
          ],
          "scatter": [
           {
            "fillpattern": {
             "fillmode": "overlay",
             "size": 10,
             "solidity": 0.2
            },
            "type": "scatter"
           }
          ],
          "scatter3d": [
           {
            "line": {
             "colorbar": {
              "outlinewidth": 0,
              "ticks": ""
             }
            },
            "marker": {
             "colorbar": {
              "outlinewidth": 0,
              "ticks": ""
             }
            },
            "type": "scatter3d"
           }
          ],
          "scattercarpet": [
           {
            "marker": {
             "colorbar": {
              "outlinewidth": 0,
              "ticks": ""
             }
            },
            "type": "scattercarpet"
           }
          ],
          "scattergeo": [
           {
            "marker": {
             "colorbar": {
              "outlinewidth": 0,
              "ticks": ""
             }
            },
            "type": "scattergeo"
           }
          ],
          "scattergl": [
           {
            "marker": {
             "colorbar": {
              "outlinewidth": 0,
              "ticks": ""
             }
            },
            "type": "scattergl"
           }
          ],
          "scattermapbox": [
           {
            "marker": {
             "colorbar": {
              "outlinewidth": 0,
              "ticks": ""
             }
            },
            "type": "scattermapbox"
           }
          ],
          "scatterpolar": [
           {
            "marker": {
             "colorbar": {
              "outlinewidth": 0,
              "ticks": ""
             }
            },
            "type": "scatterpolar"
           }
          ],
          "scatterpolargl": [
           {
            "marker": {
             "colorbar": {
              "outlinewidth": 0,
              "ticks": ""
             }
            },
            "type": "scatterpolargl"
           }
          ],
          "scatterternary": [
           {
            "marker": {
             "colorbar": {
              "outlinewidth": 0,
              "ticks": ""
             }
            },
            "type": "scatterternary"
           }
          ],
          "surface": [
           {
            "colorbar": {
             "outlinewidth": 0,
             "ticks": ""
            },
            "colorscale": [
             [
              0,
              "#0d0887"
             ],
             [
              0.1111111111111111,
              "#46039f"
             ],
             [
              0.2222222222222222,
              "#7201a8"
             ],
             [
              0.3333333333333333,
              "#9c179e"
             ],
             [
              0.4444444444444444,
              "#bd3786"
             ],
             [
              0.5555555555555556,
              "#d8576b"
             ],
             [
              0.6666666666666666,
              "#ed7953"
             ],
             [
              0.7777777777777778,
              "#fb9f3a"
             ],
             [
              0.8888888888888888,
              "#fdca26"
             ],
             [
              1,
              "#f0f921"
             ]
            ],
            "type": "surface"
           }
          ],
          "table": [
           {
            "cells": {
             "fill": {
              "color": "#EBF0F8"
             },
             "line": {
              "color": "white"
             }
            },
            "header": {
             "fill": {
              "color": "#C8D4E3"
             },
             "line": {
              "color": "white"
             }
            },
            "type": "table"
           }
          ]
         },
         "layout": {
          "annotationdefaults": {
           "arrowcolor": "#2a3f5f",
           "arrowhead": 0,
           "arrowwidth": 1
          },
          "autotypenumbers": "strict",
          "coloraxis": {
           "colorbar": {
            "outlinewidth": 0,
            "ticks": ""
           }
          },
          "colorscale": {
           "diverging": [
            [
             0,
             "#8e0152"
            ],
            [
             0.1,
             "#c51b7d"
            ],
            [
             0.2,
             "#de77ae"
            ],
            [
             0.3,
             "#f1b6da"
            ],
            [
             0.4,
             "#fde0ef"
            ],
            [
             0.5,
             "#f7f7f7"
            ],
            [
             0.6,
             "#e6f5d0"
            ],
            [
             0.7,
             "#b8e186"
            ],
            [
             0.8,
             "#7fbc41"
            ],
            [
             0.9,
             "#4d9221"
            ],
            [
             1,
             "#276419"
            ]
           ],
           "sequential": [
            [
             0,
             "#0d0887"
            ],
            [
             0.1111111111111111,
             "#46039f"
            ],
            [
             0.2222222222222222,
             "#7201a8"
            ],
            [
             0.3333333333333333,
             "#9c179e"
            ],
            [
             0.4444444444444444,
             "#bd3786"
            ],
            [
             0.5555555555555556,
             "#d8576b"
            ],
            [
             0.6666666666666666,
             "#ed7953"
            ],
            [
             0.7777777777777778,
             "#fb9f3a"
            ],
            [
             0.8888888888888888,
             "#fdca26"
            ],
            [
             1,
             "#f0f921"
            ]
           ],
           "sequentialminus": [
            [
             0,
             "#0d0887"
            ],
            [
             0.1111111111111111,
             "#46039f"
            ],
            [
             0.2222222222222222,
             "#7201a8"
            ],
            [
             0.3333333333333333,
             "#9c179e"
            ],
            [
             0.4444444444444444,
             "#bd3786"
            ],
            [
             0.5555555555555556,
             "#d8576b"
            ],
            [
             0.6666666666666666,
             "#ed7953"
            ],
            [
             0.7777777777777778,
             "#fb9f3a"
            ],
            [
             0.8888888888888888,
             "#fdca26"
            ],
            [
             1,
             "#f0f921"
            ]
           ]
          },
          "colorway": [
           "#636efa",
           "#EF553B",
           "#00cc96",
           "#ab63fa",
           "#FFA15A",
           "#19d3f3",
           "#FF6692",
           "#B6E880",
           "#FF97FF",
           "#FECB52"
          ],
          "font": {
           "color": "#2a3f5f"
          },
          "geo": {
           "bgcolor": "white",
           "lakecolor": "white",
           "landcolor": "#E5ECF6",
           "showlakes": true,
           "showland": true,
           "subunitcolor": "white"
          },
          "hoverlabel": {
           "align": "left"
          },
          "hovermode": "closest",
          "mapbox": {
           "style": "light"
          },
          "paper_bgcolor": "white",
          "plot_bgcolor": "#E5ECF6",
          "polar": {
           "angularaxis": {
            "gridcolor": "white",
            "linecolor": "white",
            "ticks": ""
           },
           "bgcolor": "#E5ECF6",
           "radialaxis": {
            "gridcolor": "white",
            "linecolor": "white",
            "ticks": ""
           }
          },
          "scene": {
           "xaxis": {
            "backgroundcolor": "#E5ECF6",
            "gridcolor": "white",
            "gridwidth": 2,
            "linecolor": "white",
            "showbackground": true,
            "ticks": "",
            "zerolinecolor": "white"
           },
           "yaxis": {
            "backgroundcolor": "#E5ECF6",
            "gridcolor": "white",
            "gridwidth": 2,
            "linecolor": "white",
            "showbackground": true,
            "ticks": "",
            "zerolinecolor": "white"
           },
           "zaxis": {
            "backgroundcolor": "#E5ECF6",
            "gridcolor": "white",
            "gridwidth": 2,
            "linecolor": "white",
            "showbackground": true,
            "ticks": "",
            "zerolinecolor": "white"
           }
          },
          "shapedefaults": {
           "line": {
            "color": "#2a3f5f"
           }
          },
          "ternary": {
           "aaxis": {
            "gridcolor": "white",
            "linecolor": "white",
            "ticks": ""
           },
           "baxis": {
            "gridcolor": "white",
            "linecolor": "white",
            "ticks": ""
           },
           "bgcolor": "#E5ECF6",
           "caxis": {
            "gridcolor": "white",
            "linecolor": "white",
            "ticks": ""
           }
          },
          "title": {
           "x": 0.05
          },
          "xaxis": {
           "automargin": true,
           "gridcolor": "white",
           "linecolor": "white",
           "ticks": "",
           "title": {
            "standoff": 15
           },
           "zerolinecolor": "white",
           "zerolinewidth": 2
          },
          "yaxis": {
           "automargin": true,
           "gridcolor": "white",
           "linecolor": "white",
           "ticks": "",
           "title": {
            "standoff": 15
           },
           "zerolinecolor": "white",
           "zerolinewidth": 2
          }
         }
        },
        "width": 1000
       }
      }
     },
     "metadata": {},
     "output_type": "display_data"
    }
   ],
   "source": [
    "#plot the zipcodes where waterfront houses have on average a larger lot size compared to other ones in the area\n",
    "\n",
    "avg_latitude = df_eda['lat'].mean()\n",
    "avg_longitude = df_eda['long'].mean()\n",
    "import geojson\n",
    "url_geojson = \"https://raw.githubusercontent.com/OpenDataDE/State-zip-code-GeoJSON/master/wa_washington_zip_codes_geo.min.json\"\n",
    "fig = px.choropleth_mapbox(interesting_areas_sorted, \n",
    "                           geojson=url_geojson, \n",
    "                           locations='zipcode', \n",
    "                           color='preferred_areas',\n",
    "                           category_orders={\"preferred_areas\": [\"Preferred\", \"Other\"]},\n",
    "                           mapbox_style=\"carto-positron\",\n",
    "                           zoom=8, center={\"lat\": avg_latitude, \"lon\": avg_longitude},\n",
    "                           opacity=0.5,\n",
    "                           labels={'preferred_areas':'Zip Code Preference'},\n",
    "                           height=800,\n",
    "                           width=1000, \n",
    "                          )\n",
    "fig.update_layout(mapbox_style=\"open-street-map\")\n",
    "fig.update_layout(margin={\"r\":0,\"t\":0,\"l\":0,\"b\":0})\n",
    "fig.show()"
   ]
  },
  {
   "cell_type": "code",
   "execution_count": 278,
   "metadata": {},
   "outputs": [
    {
     "data": {
      "application/vnd.plotly.v1+json": {
       "config": {
        "plotlyServerURL": "https://plot.ly"
       },
       "data": [
        {
         "customdata": [
          [
           3070000
          ],
          [
           1960000
          ],
          [
           5110000
          ],
          [
           7060000
          ],
          [
           1880000
          ],
          [
           1160000
          ],
          [
           1150000
          ],
          [
           1710000
          ],
          [
           2900000
          ],
          [
           1340000
          ],
          [
           3650000
          ],
          [
           503000
          ],
          [
           949950
          ],
          [
           629000
          ],
          [
           2700000
          ],
          [
           3120000
          ],
          [
           1660000
          ],
          [
           1180000
          ],
          [
           2560000
          ],
          [
           3000000
          ],
          [
           3400000
          ],
          [
           2230000
          ],
          [
           1610000
          ],
          [
           658000
          ],
          [
           1200000
          ],
          [
           750000
          ],
          [
           540000
          ],
          [
           975000
          ],
          [
           1600000
          ],
          [
           2950000
          ],
          [
           1410000
          ]
         ],
         "hovertemplate": "lat=%{lat}<br>long=%{lon}<br>price=%{customdata[0]}<extra></extra>",
         "lat": [
          47.7022,
          47.7165,
          47.6767,
          47.65,
          47.6699,
          47.488,
          47.3344,
          47.5596,
          47.5379,
          47.5489,
          47.6515,
          47.3276,
          47.5193,
          47.3311,
          47.6803,
          47.6997,
          47.525,
          47.5495,
          47.661,
          47.7011,
          47.6967,
          47.5516,
          47.5316,
          47.5476,
          47.502,
          47.4996,
          47.4997,
          47.4969,
          47.704,
          47.6608,
          47.5036
         ],
         "legendgroup": "",
         "lon": [
          -122.224,
          -122.259,
          -122.211,
          -122.214,
          -122.416,
          -122.364,
          -122.37,
          -122.403,
          -122.264,
          -122.398,
          -122.277,
          -122.389,
          -122.257,
          -122.375,
          -122.214,
          -122.24,
          -122.393,
          -122.398,
          -122.269,
          -122.244,
          -122.216,
          -122.398,
          -122.263,
          -122.399,
          -122.385,
          -122.378,
          -122.379,
          -122.376,
          -122.245,
          -122.269,
          -122.387
         ],
         "marker": {
          "color": "green"
         },
         "mode": "markers",
         "name": "",
         "showlegend": false,
         "subplot": "mapbox",
         "type": "scattermapbox"
        }
       ],
       "layout": {
        "height": 400,
        "legend": {
         "tracegroupgap": 0
        },
        "mapbox": {
         "center": {
          "lat": 47.571751612903235,
          "lon": -122.31851612903226
         },
         "domain": {
          "x": [
           0,
           1
          ],
          "y": [
           0,
           1
          ]
         },
         "style": "open-street-map",
         "zoom": 3
        },
        "margin": {
         "b": 0,
         "l": 0,
         "r": 0,
         "t": 0
        },
        "template": {
         "data": {
          "bar": [
           {
            "error_x": {
             "color": "#2a3f5f"
            },
            "error_y": {
             "color": "#2a3f5f"
            },
            "marker": {
             "line": {
              "color": "#E5ECF6",
              "width": 0.5
             },
             "pattern": {
              "fillmode": "overlay",
              "size": 10,
              "solidity": 0.2
             }
            },
            "type": "bar"
           }
          ],
          "barpolar": [
           {
            "marker": {
             "line": {
              "color": "#E5ECF6",
              "width": 0.5
             },
             "pattern": {
              "fillmode": "overlay",
              "size": 10,
              "solidity": 0.2
             }
            },
            "type": "barpolar"
           }
          ],
          "carpet": [
           {
            "aaxis": {
             "endlinecolor": "#2a3f5f",
             "gridcolor": "white",
             "linecolor": "white",
             "minorgridcolor": "white",
             "startlinecolor": "#2a3f5f"
            },
            "baxis": {
             "endlinecolor": "#2a3f5f",
             "gridcolor": "white",
             "linecolor": "white",
             "minorgridcolor": "white",
             "startlinecolor": "#2a3f5f"
            },
            "type": "carpet"
           }
          ],
          "choropleth": [
           {
            "colorbar": {
             "outlinewidth": 0,
             "ticks": ""
            },
            "type": "choropleth"
           }
          ],
          "contour": [
           {
            "colorbar": {
             "outlinewidth": 0,
             "ticks": ""
            },
            "colorscale": [
             [
              0,
              "#0d0887"
             ],
             [
              0.1111111111111111,
              "#46039f"
             ],
             [
              0.2222222222222222,
              "#7201a8"
             ],
             [
              0.3333333333333333,
              "#9c179e"
             ],
             [
              0.4444444444444444,
              "#bd3786"
             ],
             [
              0.5555555555555556,
              "#d8576b"
             ],
             [
              0.6666666666666666,
              "#ed7953"
             ],
             [
              0.7777777777777778,
              "#fb9f3a"
             ],
             [
              0.8888888888888888,
              "#fdca26"
             ],
             [
              1,
              "#f0f921"
             ]
            ],
            "type": "contour"
           }
          ],
          "contourcarpet": [
           {
            "colorbar": {
             "outlinewidth": 0,
             "ticks": ""
            },
            "type": "contourcarpet"
           }
          ],
          "heatmap": [
           {
            "colorbar": {
             "outlinewidth": 0,
             "ticks": ""
            },
            "colorscale": [
             [
              0,
              "#0d0887"
             ],
             [
              0.1111111111111111,
              "#46039f"
             ],
             [
              0.2222222222222222,
              "#7201a8"
             ],
             [
              0.3333333333333333,
              "#9c179e"
             ],
             [
              0.4444444444444444,
              "#bd3786"
             ],
             [
              0.5555555555555556,
              "#d8576b"
             ],
             [
              0.6666666666666666,
              "#ed7953"
             ],
             [
              0.7777777777777778,
              "#fb9f3a"
             ],
             [
              0.8888888888888888,
              "#fdca26"
             ],
             [
              1,
              "#f0f921"
             ]
            ],
            "type": "heatmap"
           }
          ],
          "heatmapgl": [
           {
            "colorbar": {
             "outlinewidth": 0,
             "ticks": ""
            },
            "colorscale": [
             [
              0,
              "#0d0887"
             ],
             [
              0.1111111111111111,
              "#46039f"
             ],
             [
              0.2222222222222222,
              "#7201a8"
             ],
             [
              0.3333333333333333,
              "#9c179e"
             ],
             [
              0.4444444444444444,
              "#bd3786"
             ],
             [
              0.5555555555555556,
              "#d8576b"
             ],
             [
              0.6666666666666666,
              "#ed7953"
             ],
             [
              0.7777777777777778,
              "#fb9f3a"
             ],
             [
              0.8888888888888888,
              "#fdca26"
             ],
             [
              1,
              "#f0f921"
             ]
            ],
            "type": "heatmapgl"
           }
          ],
          "histogram": [
           {
            "marker": {
             "pattern": {
              "fillmode": "overlay",
              "size": 10,
              "solidity": 0.2
             }
            },
            "type": "histogram"
           }
          ],
          "histogram2d": [
           {
            "colorbar": {
             "outlinewidth": 0,
             "ticks": ""
            },
            "colorscale": [
             [
              0,
              "#0d0887"
             ],
             [
              0.1111111111111111,
              "#46039f"
             ],
             [
              0.2222222222222222,
              "#7201a8"
             ],
             [
              0.3333333333333333,
              "#9c179e"
             ],
             [
              0.4444444444444444,
              "#bd3786"
             ],
             [
              0.5555555555555556,
              "#d8576b"
             ],
             [
              0.6666666666666666,
              "#ed7953"
             ],
             [
              0.7777777777777778,
              "#fb9f3a"
             ],
             [
              0.8888888888888888,
              "#fdca26"
             ],
             [
              1,
              "#f0f921"
             ]
            ],
            "type": "histogram2d"
           }
          ],
          "histogram2dcontour": [
           {
            "colorbar": {
             "outlinewidth": 0,
             "ticks": ""
            },
            "colorscale": [
             [
              0,
              "#0d0887"
             ],
             [
              0.1111111111111111,
              "#46039f"
             ],
             [
              0.2222222222222222,
              "#7201a8"
             ],
             [
              0.3333333333333333,
              "#9c179e"
             ],
             [
              0.4444444444444444,
              "#bd3786"
             ],
             [
              0.5555555555555556,
              "#d8576b"
             ],
             [
              0.6666666666666666,
              "#ed7953"
             ],
             [
              0.7777777777777778,
              "#fb9f3a"
             ],
             [
              0.8888888888888888,
              "#fdca26"
             ],
             [
              1,
              "#f0f921"
             ]
            ],
            "type": "histogram2dcontour"
           }
          ],
          "mesh3d": [
           {
            "colorbar": {
             "outlinewidth": 0,
             "ticks": ""
            },
            "type": "mesh3d"
           }
          ],
          "parcoords": [
           {
            "line": {
             "colorbar": {
              "outlinewidth": 0,
              "ticks": ""
             }
            },
            "type": "parcoords"
           }
          ],
          "pie": [
           {
            "automargin": true,
            "type": "pie"
           }
          ],
          "scatter": [
           {
            "fillpattern": {
             "fillmode": "overlay",
             "size": 10,
             "solidity": 0.2
            },
            "type": "scatter"
           }
          ],
          "scatter3d": [
           {
            "line": {
             "colorbar": {
              "outlinewidth": 0,
              "ticks": ""
             }
            },
            "marker": {
             "colorbar": {
              "outlinewidth": 0,
              "ticks": ""
             }
            },
            "type": "scatter3d"
           }
          ],
          "scattercarpet": [
           {
            "marker": {
             "colorbar": {
              "outlinewidth": 0,
              "ticks": ""
             }
            },
            "type": "scattercarpet"
           }
          ],
          "scattergeo": [
           {
            "marker": {
             "colorbar": {
              "outlinewidth": 0,
              "ticks": ""
             }
            },
            "type": "scattergeo"
           }
          ],
          "scattergl": [
           {
            "marker": {
             "colorbar": {
              "outlinewidth": 0,
              "ticks": ""
             }
            },
            "type": "scattergl"
           }
          ],
          "scattermapbox": [
           {
            "marker": {
             "colorbar": {
              "outlinewidth": 0,
              "ticks": ""
             }
            },
            "type": "scattermapbox"
           }
          ],
          "scatterpolar": [
           {
            "marker": {
             "colorbar": {
              "outlinewidth": 0,
              "ticks": ""
             }
            },
            "type": "scatterpolar"
           }
          ],
          "scatterpolargl": [
           {
            "marker": {
             "colorbar": {
              "outlinewidth": 0,
              "ticks": ""
             }
            },
            "type": "scatterpolargl"
           }
          ],
          "scatterternary": [
           {
            "marker": {
             "colorbar": {
              "outlinewidth": 0,
              "ticks": ""
             }
            },
            "type": "scatterternary"
           }
          ],
          "surface": [
           {
            "colorbar": {
             "outlinewidth": 0,
             "ticks": ""
            },
            "colorscale": [
             [
              0,
              "#0d0887"
             ],
             [
              0.1111111111111111,
              "#46039f"
             ],
             [
              0.2222222222222222,
              "#7201a8"
             ],
             [
              0.3333333333333333,
              "#9c179e"
             ],
             [
              0.4444444444444444,
              "#bd3786"
             ],
             [
              0.5555555555555556,
              "#d8576b"
             ],
             [
              0.6666666666666666,
              "#ed7953"
             ],
             [
              0.7777777777777778,
              "#fb9f3a"
             ],
             [
              0.8888888888888888,
              "#fdca26"
             ],
             [
              1,
              "#f0f921"
             ]
            ],
            "type": "surface"
           }
          ],
          "table": [
           {
            "cells": {
             "fill": {
              "color": "#EBF0F8"
             },
             "line": {
              "color": "white"
             }
            },
            "header": {
             "fill": {
              "color": "#C8D4E3"
             },
             "line": {
              "color": "white"
             }
            },
            "type": "table"
           }
          ]
         },
         "layout": {
          "annotationdefaults": {
           "arrowcolor": "#2a3f5f",
           "arrowhead": 0,
           "arrowwidth": 1
          },
          "autotypenumbers": "strict",
          "coloraxis": {
           "colorbar": {
            "outlinewidth": 0,
            "ticks": ""
           }
          },
          "colorscale": {
           "diverging": [
            [
             0,
             "#8e0152"
            ],
            [
             0.1,
             "#c51b7d"
            ],
            [
             0.2,
             "#de77ae"
            ],
            [
             0.3,
             "#f1b6da"
            ],
            [
             0.4,
             "#fde0ef"
            ],
            [
             0.5,
             "#f7f7f7"
            ],
            [
             0.6,
             "#e6f5d0"
            ],
            [
             0.7,
             "#b8e186"
            ],
            [
             0.8,
             "#7fbc41"
            ],
            [
             0.9,
             "#4d9221"
            ],
            [
             1,
             "#276419"
            ]
           ],
           "sequential": [
            [
             0,
             "#0d0887"
            ],
            [
             0.1111111111111111,
             "#46039f"
            ],
            [
             0.2222222222222222,
             "#7201a8"
            ],
            [
             0.3333333333333333,
             "#9c179e"
            ],
            [
             0.4444444444444444,
             "#bd3786"
            ],
            [
             0.5555555555555556,
             "#d8576b"
            ],
            [
             0.6666666666666666,
             "#ed7953"
            ],
            [
             0.7777777777777778,
             "#fb9f3a"
            ],
            [
             0.8888888888888888,
             "#fdca26"
            ],
            [
             1,
             "#f0f921"
            ]
           ],
           "sequentialminus": [
            [
             0,
             "#0d0887"
            ],
            [
             0.1111111111111111,
             "#46039f"
            ],
            [
             0.2222222222222222,
             "#7201a8"
            ],
            [
             0.3333333333333333,
             "#9c179e"
            ],
            [
             0.4444444444444444,
             "#bd3786"
            ],
            [
             0.5555555555555556,
             "#d8576b"
            ],
            [
             0.6666666666666666,
             "#ed7953"
            ],
            [
             0.7777777777777778,
             "#fb9f3a"
            ],
            [
             0.8888888888888888,
             "#fdca26"
            ],
            [
             1,
             "#f0f921"
            ]
           ]
          },
          "colorway": [
           "#636efa",
           "#EF553B",
           "#00cc96",
           "#ab63fa",
           "#FFA15A",
           "#19d3f3",
           "#FF6692",
           "#B6E880",
           "#FF97FF",
           "#FECB52"
          ],
          "font": {
           "color": "#2a3f5f"
          },
          "geo": {
           "bgcolor": "white",
           "lakecolor": "white",
           "landcolor": "#E5ECF6",
           "showlakes": true,
           "showland": true,
           "subunitcolor": "white"
          },
          "hoverlabel": {
           "align": "left"
          },
          "hovermode": "closest",
          "mapbox": {
           "style": "light"
          },
          "paper_bgcolor": "white",
          "plot_bgcolor": "#E5ECF6",
          "polar": {
           "angularaxis": {
            "gridcolor": "white",
            "linecolor": "white",
            "ticks": ""
           },
           "bgcolor": "#E5ECF6",
           "radialaxis": {
            "gridcolor": "white",
            "linecolor": "white",
            "ticks": ""
           }
          },
          "scene": {
           "xaxis": {
            "backgroundcolor": "#E5ECF6",
            "gridcolor": "white",
            "gridwidth": 2,
            "linecolor": "white",
            "showbackground": true,
            "ticks": "",
            "zerolinecolor": "white"
           },
           "yaxis": {
            "backgroundcolor": "#E5ECF6",
            "gridcolor": "white",
            "gridwidth": 2,
            "linecolor": "white",
            "showbackground": true,
            "ticks": "",
            "zerolinecolor": "white"
           },
           "zaxis": {
            "backgroundcolor": "#E5ECF6",
            "gridcolor": "white",
            "gridwidth": 2,
            "linecolor": "white",
            "showbackground": true,
            "ticks": "",
            "zerolinecolor": "white"
           }
          },
          "shapedefaults": {
           "line": {
            "color": "#2a3f5f"
           }
          },
          "ternary": {
           "aaxis": {
            "gridcolor": "white",
            "linecolor": "white",
            "ticks": ""
           },
           "baxis": {
            "gridcolor": "white",
            "linecolor": "white",
            "ticks": ""
           },
           "bgcolor": "#E5ECF6",
           "caxis": {
            "gridcolor": "white",
            "linecolor": "white",
            "ticks": ""
           }
          },
          "title": {
           "x": 0.05
          },
          "xaxis": {
           "automargin": true,
           "gridcolor": "white",
           "linecolor": "white",
           "ticks": "",
           "title": {
            "standoff": 15
           },
           "zerolinecolor": "white",
           "zerolinewidth": 2
          },
          "yaxis": {
           "automargin": true,
           "gridcolor": "white",
           "linecolor": "white",
           "ticks": "",
           "title": {
            "standoff": 15
           },
           "zerolinecolor": "white",
           "zerolinewidth": 2
          }
         }
        },
        "width": 600
       }
      }
     },
     "metadata": {},
     "output_type": "display_data"
    },
    {
     "data": {
      "text/html": [
       "<div>\n",
       "<style scoped>\n",
       "    .dataframe tbody tr th:only-of-type {\n",
       "        vertical-align: middle;\n",
       "    }\n",
       "\n",
       "    .dataframe tbody tr th {\n",
       "        vertical-align: top;\n",
       "    }\n",
       "\n",
       "    .dataframe thead th {\n",
       "        text-align: right;\n",
       "    }\n",
       "</style>\n",
       "<table border=\"1\" class=\"dataframe\">\n",
       "  <thead>\n",
       "    <tr style=\"text-align: right;\">\n",
       "      <th></th>\n",
       "      <th>date</th>\n",
       "      <th>price</th>\n",
       "      <th>house_id</th>\n",
       "      <th>id</th>\n",
       "      <th>id.1</th>\n",
       "      <th>bedrooms</th>\n",
       "      <th>bathrooms</th>\n",
       "      <th>floors</th>\n",
       "      <th>waterfront</th>\n",
       "      <th>view</th>\n",
       "      <th>...</th>\n",
       "      <th>yr_renovated</th>\n",
       "      <th>zipcode</th>\n",
       "      <th>lat</th>\n",
       "      <th>long</th>\n",
       "      <th>sqm_living</th>\n",
       "      <th>sqm_lot</th>\n",
       "      <th>sqm_above</th>\n",
       "      <th>sqm_basement</th>\n",
       "      <th>sqm_living15</th>\n",
       "      <th>sqm_lot15</th>\n",
       "    </tr>\n",
       "  </thead>\n",
       "  <tbody>\n",
       "    <tr>\n",
       "      <th>count</th>\n",
       "      <td>31</td>\n",
       "      <td>31.000</td>\n",
       "      <td>31.000</td>\n",
       "      <td>31.000</td>\n",
       "      <td>31.000</td>\n",
       "      <td>31.000</td>\n",
       "      <td>31.000</td>\n",
       "      <td>31.000</td>\n",
       "      <td>31.000</td>\n",
       "      <td>31.000</td>\n",
       "      <td>...</td>\n",
       "      <td>31.000</td>\n",
       "      <td>31.000</td>\n",
       "      <td>31.000</td>\n",
       "      <td>31.000</td>\n",
       "      <td>31.000</td>\n",
       "      <td>31.000</td>\n",
       "      <td>31.000</td>\n",
       "      <td>31.000</td>\n",
       "      <td>31.000</td>\n",
       "      <td>31.000</td>\n",
       "    </tr>\n",
       "    <tr>\n",
       "      <th>mean</th>\n",
       "      <td>2014-10-30 15:29:01.935483904</td>\n",
       "      <td>2084353.226</td>\n",
       "      <td>4635299864.387</td>\n",
       "      <td>10249.548</td>\n",
       "      <td>4635299864.387</td>\n",
       "      <td>3.710</td>\n",
       "      <td>2.887</td>\n",
       "      <td>1.613</td>\n",
       "      <td>1.000</td>\n",
       "      <td>3.806</td>\n",
       "      <td>...</td>\n",
       "      <td>1932.903</td>\n",
       "      <td>98092.968</td>\n",
       "      <td>47.572</td>\n",
       "      <td>-122.319</td>\n",
       "      <td>337.598</td>\n",
       "      <td>2911.787</td>\n",
       "      <td>260.128</td>\n",
       "      <td>75.671</td>\n",
       "      <td>264.624</td>\n",
       "      <td>2301.288</td>\n",
       "    </tr>\n",
       "    <tr>\n",
       "      <th>min</th>\n",
       "      <td>2014-05-13 00:00:00</td>\n",
       "      <td>503000.000</td>\n",
       "      <td>121039083.000</td>\n",
       "      <td>657.000</td>\n",
       "      <td>121039083.000</td>\n",
       "      <td>2.000</td>\n",
       "      <td>1.000</td>\n",
       "      <td>1.000</td>\n",
       "      <td>1.000</td>\n",
       "      <td>2.000</td>\n",
       "      <td>...</td>\n",
       "      <td>0.000</td>\n",
       "      <td>98004.000</td>\n",
       "      <td>47.328</td>\n",
       "      <td>-122.416</td>\n",
       "      <td>93.832</td>\n",
       "      <td>184.784</td>\n",
       "      <td>93.832</td>\n",
       "      <td>0.000</td>\n",
       "      <td>157.935</td>\n",
       "      <td>300.077</td>\n",
       "    </tr>\n",
       "    <tr>\n",
       "      <th>25%</th>\n",
       "      <td>2014-07-27 00:00:00</td>\n",
       "      <td>1155000.000</td>\n",
       "      <td>1935824598.000</td>\n",
       "      <td>5401.000</td>\n",
       "      <td>1935824598.000</td>\n",
       "      <td>3.000</td>\n",
       "      <td>2.500</td>\n",
       "      <td>1.000</td>\n",
       "      <td>1.000</td>\n",
       "      <td>4.000</td>\n",
       "      <td>...</td>\n",
       "      <td>0.000</td>\n",
       "      <td>98034.000</td>\n",
       "      <td>47.503</td>\n",
       "      <td>-122.388</td>\n",
       "      <td>231.328</td>\n",
       "      <td>1705.931</td>\n",
       "      <td>157.006</td>\n",
       "      <td>0.000</td>\n",
       "      <td>233.651</td>\n",
       "      <td>1434.980</td>\n",
       "    </tr>\n",
       "    <tr>\n",
       "      <th>50%</th>\n",
       "      <td>2014-10-20 00:00:00</td>\n",
       "      <td>1660000.000</td>\n",
       "      <td>4217402115.000</td>\n",
       "      <td>10455.000</td>\n",
       "      <td>4217402115.000</td>\n",
       "      <td>4.000</td>\n",
       "      <td>2.750</td>\n",
       "      <td>2.000</td>\n",
       "      <td>1.000</td>\n",
       "      <td>4.000</td>\n",
       "      <td>...</td>\n",
       "      <td>0.000</td>\n",
       "      <td>98116.000</td>\n",
       "      <td>47.550</td>\n",
       "      <td>-122.364</td>\n",
       "      <td>300.077</td>\n",
       "      <td>2366.239</td>\n",
       "      <td>220.180</td>\n",
       "      <td>80.826</td>\n",
       "      <td>252.696</td>\n",
       "      <td>1957.838</td>\n",
       "    </tr>\n",
       "    <tr>\n",
       "      <th>75%</th>\n",
       "      <td>2015-02-18 12:00:00</td>\n",
       "      <td>2925000.000</td>\n",
       "      <td>7119651556.500</td>\n",
       "      <td>15059.500</td>\n",
       "      <td>7119651556.500</td>\n",
       "      <td>4.000</td>\n",
       "      <td>3.375</td>\n",
       "      <td>2.000</td>\n",
       "      <td>1.000</td>\n",
       "      <td>4.000</td>\n",
       "      <td>...</td>\n",
       "      <td>0.000</td>\n",
       "      <td>98136.000</td>\n",
       "      <td>47.673</td>\n",
       "      <td>-122.251</td>\n",
       "      <td>405.057</td>\n",
       "      <td>3848.135</td>\n",
       "      <td>325.625</td>\n",
       "      <td>135.174</td>\n",
       "      <td>314.941</td>\n",
       "      <td>2513.212</td>\n",
       "    </tr>\n",
       "    <tr>\n",
       "      <th>max</th>\n",
       "      <td>2015-04-21 00:00:00</td>\n",
       "      <td>7060000.000</td>\n",
       "      <td>9808700762.000</td>\n",
       "      <td>19585.000</td>\n",
       "      <td>9808700762.000</td>\n",
       "      <td>6.000</td>\n",
       "      <td>5.250</td>\n",
       "      <td>2.000</td>\n",
       "      <td>1.000</td>\n",
       "      <td>4.000</td>\n",
       "      <td>...</td>\n",
       "      <td>20010.000</td>\n",
       "      <td>98199.000</td>\n",
       "      <td>47.717</td>\n",
       "      <td>-122.211</td>\n",
       "      <td>932.746</td>\n",
       "      <td>8517.440</td>\n",
       "      <td>713.495</td>\n",
       "      <td>219.251</td>\n",
       "      <td>384.618</td>\n",
       "      <td>6710.291</td>\n",
       "    </tr>\n",
       "    <tr>\n",
       "      <th>std</th>\n",
       "      <td>NaN</td>\n",
       "      <td>1432094.789</td>\n",
       "      <td>2992007656.662</td>\n",
       "      <td>5687.892</td>\n",
       "      <td>2992007656.662</td>\n",
       "      <td>1.101</td>\n",
       "      <td>0.940</td>\n",
       "      <td>0.460</td>\n",
       "      <td>0.000</td>\n",
       "      <td>0.543</td>\n",
       "      <td>...</td>\n",
       "      <td>6002.738</td>\n",
       "      <td>55.075</td>\n",
       "      <td>0.113</td>\n",
       "      <td>0.075</td>\n",
       "      <td>173.009</td>\n",
       "      <td>1906.262</td>\n",
       "      <td>137.326</td>\n",
       "      <td>68.693</td>\n",
       "      <td>60.147</td>\n",
       "      <td>1423.017</td>\n",
       "    </tr>\n",
       "  </tbody>\n",
       "</table>\n",
       "<p>8 rows × 23 columns</p>\n",
       "</div>"
      ],
      "text/plain": [
       "                                date       price       house_id        id  \\\n",
       "count                             31      31.000         31.000    31.000   \n",
       "mean   2014-10-30 15:29:01.935483904 2084353.226 4635299864.387 10249.548   \n",
       "min              2014-05-13 00:00:00  503000.000  121039083.000   657.000   \n",
       "25%              2014-07-27 00:00:00 1155000.000 1935824598.000  5401.000   \n",
       "50%              2014-10-20 00:00:00 1660000.000 4217402115.000 10455.000   \n",
       "75%              2015-02-18 12:00:00 2925000.000 7119651556.500 15059.500   \n",
       "max              2015-04-21 00:00:00 7060000.000 9808700762.000 19585.000   \n",
       "std                              NaN 1432094.789 2992007656.662  5687.892   \n",
       "\n",
       "                id.1  bedrooms  bathrooms  floors  waterfront   view  ...  \\\n",
       "count         31.000    31.000     31.000  31.000      31.000 31.000  ...   \n",
       "mean  4635299864.387     3.710      2.887   1.613       1.000  3.806  ...   \n",
       "min    121039083.000     2.000      1.000   1.000       1.000  2.000  ...   \n",
       "25%   1935824598.000     3.000      2.500   1.000       1.000  4.000  ...   \n",
       "50%   4217402115.000     4.000      2.750   2.000       1.000  4.000  ...   \n",
       "75%   7119651556.500     4.000      3.375   2.000       1.000  4.000  ...   \n",
       "max   9808700762.000     6.000      5.250   2.000       1.000  4.000  ...   \n",
       "std   2992007656.662     1.101      0.940   0.460       0.000  0.543  ...   \n",
       "\n",
       "       yr_renovated   zipcode    lat     long  sqm_living  sqm_lot  sqm_above  \\\n",
       "count        31.000    31.000 31.000   31.000      31.000   31.000     31.000   \n",
       "mean       1932.903 98092.968 47.572 -122.319     337.598 2911.787    260.128   \n",
       "min           0.000 98004.000 47.328 -122.416      93.832  184.784     93.832   \n",
       "25%           0.000 98034.000 47.503 -122.388     231.328 1705.931    157.006   \n",
       "50%           0.000 98116.000 47.550 -122.364     300.077 2366.239    220.180   \n",
       "75%           0.000 98136.000 47.673 -122.251     405.057 3848.135    325.625   \n",
       "max       20010.000 98199.000 47.717 -122.211     932.746 8517.440    713.495   \n",
       "std        6002.738    55.075  0.113    0.075     173.009 1906.262    137.326   \n",
       "\n",
       "       sqm_basement  sqm_living15  sqm_lot15  \n",
       "count        31.000        31.000     31.000  \n",
       "mean         75.671       264.624   2301.288  \n",
       "min           0.000       157.935    300.077  \n",
       "25%           0.000       233.651   1434.980  \n",
       "50%          80.826       252.696   1957.838  \n",
       "75%         135.174       314.941   2513.212  \n",
       "max         219.251       384.618   6710.291  \n",
       "std          68.693        60.147   1423.017  \n",
       "\n",
       "[8 rows x 23 columns]"
      ]
     },
     "execution_count": 278,
     "metadata": {},
     "output_type": "execute_result"
    }
   ],
   "source": [
    "# plot all waterfront objects within the top 10 interesting zipcodes\n",
    "top_interesting_areas_sorted = interesting_areas_sorted['zipcode'].head(10).tolist()\n",
    "top_waterfront_objects = df_w.query('zipcode in @top_interesting_areas_sorted')\n",
    "\n",
    "fig = px.scatter_mapbox(top_waterfront_objects, lat=\"lat\", lon=\"long\", color_discrete_sequence=[\"green\"], zoom=3, height=400, width= 600, hover_data='price')\n",
    "fig.update_layout(mapbox_style=\"open-street-map\")\n",
    "fig.update_layout(margin={\"r\":0,\"t\":0,\"l\":0,\"b\":0})\n",
    "fig.show()\n",
    "\n",
    "top_waterfront_objects.describe()"
   ]
  },
  {
   "cell_type": "markdown",
   "metadata": {},
   "source": [
    "#### These are the top 10 areas we should focus our search on as it is best to show off the size of your property.\n",
    "**Lets now move into which area might be the best to create a large ROI in only a short period of time**"
   ]
  }
 ],
 "metadata": {
  "kernelspec": {
   "display_name": ".venv",
   "language": "python",
   "name": "python3"
  },
  "language_info": {
   "codemirror_mode": {
    "name": "ipython",
    "version": 3
   },
   "file_extension": ".py",
   "mimetype": "text/x-python",
   "name": "python",
   "nbconvert_exporter": "python",
   "pygments_lexer": "ipython3",
   "version": "3.11.3"
  },
  "orig_nbformat": 4
 },
 "nbformat": 4,
 "nbformat_minor": 2
}
